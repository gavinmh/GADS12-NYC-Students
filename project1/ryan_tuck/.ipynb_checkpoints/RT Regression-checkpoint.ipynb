{
 "metadata": {
  "name": "",
  "signature": "sha256:4795ec62d7189d30da9a58d66847aa896a575dd52b8e7bc23a561c028280757c"
 },
 "nbformat": 3,
 "nbformat_minor": 0,
 "worksheets": []
}
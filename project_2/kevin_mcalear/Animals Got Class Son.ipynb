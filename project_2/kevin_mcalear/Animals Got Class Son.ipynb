{
 "metadata": {
  "name": "",
  "signature": "sha256:fd90cf7b7ab454dd6e62734dad527d8d7d66427d9aa44b37038cee05c470bead"
 },
 "nbformat": 3,
 "nbformat_minor": 0,
 "worksheets": [
  {
   "cells": [
    {
     "cell_type": "markdown",
     "metadata": {},
     "source": [
      "#Predicting An Animal's Class.\n",
      "___\n",
      "![Hoot Hoot](http://38.media.tumblr.com/tumblr_m8xnjlgEW01r3a6jho1_500.jpg)\n",
      "___\n",
      "* ###What is your problem? Describe the variables and the data set.\n",
      "    * **The Problem:** Given features of an animal I wanted to be able to predict the animal's class.\n",
      "    * **The Features:** hair, feathers, eggs, milk, airborne, aquatic, predator, toothed, backbone, breathes, venomous, fins, legs, tail, domestic, & catsize.\n",
      "* ###What feature representation(s) did you use? Why?\n",
      "    * My features were all boolean or categorical by nature so I got to leave them the way they were. I got rid of the animal's name because it was a completely unique feature for each instance.\n",
      "* ###What model(s) did you try? What was successful? Why do you think certain models worked or did not work?\n",
      "    * I tried a few models but ended up going with a random forest to see if I could do it & understand it. It worked pretty well because it made a great collective deicions tree based on my simple data.\n",
      "* ###What performance measure(s) did you use? Why?\n",
      "    * I looked at three different scores:\n",
      "        * **Precision:** 87% *(Showing How many times I guessed true and I was wrong.)*\n",
      "        * **Recall:** 92% *(Showing How many times I guessed false and I was wrong.)*\n",
      "        * **F1-Score:** 89% *(A combo of precision & recall.)*"
     ]
    },
    {
     "cell_type": "code",
     "collapsed": false,
     "input": [
      "# Populating the interactive namespace from numpy and matplotlib\n",
      "%pylab inline"
     ],
     "language": "python",
     "metadata": {},
     "outputs": [
      {
       "output_type": "stream",
       "stream": "stdout",
       "text": [
        "Populating the interactive namespace from numpy and matplotlib\n"
       ]
      }
     ],
     "prompt_number": 24
    },
    {
     "cell_type": "code",
     "collapsed": false,
     "input": [
      "# THIS CELL SETS UP OUR WHOLE ENVIRONMENT, IMPORTS EVERYTHING WE NEED, AND SETS UP SOME NICE HELPER METHODS\n",
      "\n",
      "# Import numpy as np\n",
      "import numpy as np\n",
      "# Import pandas as pd\n",
      "import pandas as pd\n",
      "# Import pyplot as plt from matplotlib\n",
      "from matplotlib import pyplot as plt\n",
      "import matplotlib.patches as mpatches\n",
      "# Import LinearRegression from the linear_model module of sklearn\n",
      "from sklearn.linear_model import LinearRegression\n",
      "# Import the DictVectorizer class from the feature_extraction module.\n",
      "from sklearn.feature_extraction import DictVectorizer\n",
      "# TODO import train_test_split\n",
      "from sklearn.cross_validation import train_test_split\n",
      "\n",
      "# Setting up jitter\n",
      "def rand_jitter(arr):\n",
      "    stdev = .01*(max(arr)-min(arr))\n",
      "    return arr + np.random.randn(len(arr)) * stdev\n",
      "\n",
      "def jitter(x, y, s=20, c='b', marker='o', cmap=None, norm=None, vmin=None, vmax=None, alpha=.2, linewidths=None, verts=None, hold=None, **kwargs):\n",
      "    return scatter(rand_jitter(x), rand_jitter(y), s=20, c='b', marker='o', cmap=None, norm=None, vmin=None, vmax=None, alpha=.2, linewidths=None, verts=None, hold=None, **kwargs)\n",
      "\n",
      "#tell pandas to display wide tables as pretty HTML tables\n",
      "pd.set_option('display.width', 500)\n",
      "pd.set_option('display.max_columns', 100)\n",
      "\n",
      "# Getting graphs even prettier\n",
      "def remove_border(axes=None, top=False, right=False, left=True, bottom=True):\n",
      "    \"\"\"\n",
      "    Minimize chartjunk by stripping out unnecesasry plot borders and axis ticks\n",
      "    \n",
      "    The top/right/left/bottom keywords toggle whether the corresponding plot border is drawn\n",
      "    \"\"\"\n",
      "    ax = axes or plt.gca()\n",
      "    ax.spines['top'].set_visible(top)\n",
      "    ax.spines['right'].set_visible(right)\n",
      "    ax.spines['left'].set_visible(left)\n",
      "    ax.spines['bottom'].set_visible(bottom)\n",
      "    \n",
      "    #turn off all ticks\n",
      "    ax.yaxis.set_ticks_position('none')\n",
      "    ax.xaxis.set_ticks_position('none')\n",
      "    \n",
      "    #now re-enable visibles\n",
      "    if top:\n",
      "        ax.xaxis.tick_top()\n",
      "    if bottom:\n",
      "        ax.xaxis.tick_bottom()\n",
      "    if left:\n",
      "        ax.yaxis.tick_left()\n",
      "    if right:\n",
      "        ax.yaxis.tick_right()"
     ],
     "language": "python",
     "metadata": {},
     "outputs": [],
     "prompt_number": 25
    },
    {
     "cell_type": "code",
     "collapsed": false,
     "input": [
      "# Importing our data\n",
      "animals = pd.read_csv('Zoo.csv')"
     ],
     "language": "python",
     "metadata": {},
     "outputs": [],
     "prompt_number": 26
    },
    {
     "cell_type": "code",
     "collapsed": false,
     "input": [
      "# Here I was playing around with how many animals are different things, \n",
      "# for example, How many domestic animals are in this data set\n",
      "len(animals[(animals.domestic == 1)])"
     ],
     "language": "python",
     "metadata": {},
     "outputs": [
      {
       "metadata": {},
       "output_type": "pyout",
       "prompt_number": 27,
       "text": [
        "13"
       ]
      }
     ],
     "prompt_number": 27
    },
    {
     "cell_type": "code",
     "collapsed": false,
     "input": [
      "# print len(animals)\n",
      "# Looking at all of the column names\n",
      "for i in animals.columns.values:\n",
      "    print i"
     ],
     "language": "python",
     "metadata": {},
     "outputs": [
      {
       "output_type": "stream",
       "stream": "stdout",
       "text": [
        "name\n",
        "hair\n",
        "feathers\n",
        "eggs\n",
        "milk\n",
        "airborne\n",
        "aquatic\n",
        "predator\n",
        "toothed\n",
        "backbone\n",
        "breathes\n",
        "venomous\n",
        "fins\n",
        "legs\n",
        "tail\n",
        "domestic\n",
        "catsize\n",
        "class\n"
       ]
      }
     ],
     "prompt_number": 28
    },
    {
     "cell_type": "code",
     "collapsed": false,
     "input": [
      "# Seeing if there are any basic stats I can learn from the data set\n",
      "animals.describe()"
     ],
     "language": "python",
     "metadata": {},
     "outputs": [
      {
       "html": [
        "<div style=\"max-height:1000px;max-width:1500px;overflow:auto;\">\n",
        "<table border=\"1\" class=\"dataframe\">\n",
        "  <thead>\n",
        "    <tr style=\"text-align: right;\">\n",
        "      <th></th>\n",
        "      <th>hair</th>\n",
        "      <th>feathers</th>\n",
        "      <th>eggs</th>\n",
        "      <th>milk</th>\n",
        "      <th>airborne</th>\n",
        "      <th>aquatic</th>\n",
        "      <th>predator</th>\n",
        "      <th>toothed</th>\n",
        "      <th>backbone</th>\n",
        "      <th>breathes</th>\n",
        "      <th>venomous</th>\n",
        "      <th>fins</th>\n",
        "      <th>legs</th>\n",
        "      <th>tail</th>\n",
        "      <th>domestic</th>\n",
        "      <th>catsize</th>\n",
        "      <th>class</th>\n",
        "    </tr>\n",
        "  </thead>\n",
        "  <tbody>\n",
        "    <tr>\n",
        "      <th>count</th>\n",
        "      <td> 101.000000</td>\n",
        "      <td> 101.000000</td>\n",
        "      <td> 101.000000</td>\n",
        "      <td> 101.000000</td>\n",
        "      <td> 101.000000</td>\n",
        "      <td> 101.000000</td>\n",
        "      <td> 101.000000</td>\n",
        "      <td> 101.000000</td>\n",
        "      <td> 101.000000</td>\n",
        "      <td> 101.000000</td>\n",
        "      <td> 101.000000</td>\n",
        "      <td> 101.000000</td>\n",
        "      <td> 101.000000</td>\n",
        "      <td> 101.000000</td>\n",
        "      <td> 101.000000</td>\n",
        "      <td> 101.000000</td>\n",
        "      <td> 101.000000</td>\n",
        "    </tr>\n",
        "    <tr>\n",
        "      <th>mean</th>\n",
        "      <td>   0.425743</td>\n",
        "      <td>   0.198020</td>\n",
        "      <td>   0.584158</td>\n",
        "      <td>   0.405941</td>\n",
        "      <td>   0.237624</td>\n",
        "      <td>   0.356436</td>\n",
        "      <td>   0.554455</td>\n",
        "      <td>   0.603960</td>\n",
        "      <td>   0.821782</td>\n",
        "      <td>   0.792079</td>\n",
        "      <td>   0.079208</td>\n",
        "      <td>   0.168317</td>\n",
        "      <td>   2.841584</td>\n",
        "      <td>   0.742574</td>\n",
        "      <td>   0.128713</td>\n",
        "      <td>   0.435644</td>\n",
        "      <td>   2.831683</td>\n",
        "    </tr>\n",
        "    <tr>\n",
        "      <th>std</th>\n",
        "      <td>   0.496921</td>\n",
        "      <td>   0.400495</td>\n",
        "      <td>   0.495325</td>\n",
        "      <td>   0.493522</td>\n",
        "      <td>   0.427750</td>\n",
        "      <td>   0.481335</td>\n",
        "      <td>   0.499505</td>\n",
        "      <td>   0.491512</td>\n",
        "      <td>   0.384605</td>\n",
        "      <td>   0.407844</td>\n",
        "      <td>   0.271410</td>\n",
        "      <td>   0.376013</td>\n",
        "      <td>   2.033385</td>\n",
        "      <td>   0.439397</td>\n",
        "      <td>   0.336552</td>\n",
        "      <td>   0.498314</td>\n",
        "      <td>   2.102709</td>\n",
        "    </tr>\n",
        "    <tr>\n",
        "      <th>min</th>\n",
        "      <td>   0.000000</td>\n",
        "      <td>   0.000000</td>\n",
        "      <td>   0.000000</td>\n",
        "      <td>   0.000000</td>\n",
        "      <td>   0.000000</td>\n",
        "      <td>   0.000000</td>\n",
        "      <td>   0.000000</td>\n",
        "      <td>   0.000000</td>\n",
        "      <td>   0.000000</td>\n",
        "      <td>   0.000000</td>\n",
        "      <td>   0.000000</td>\n",
        "      <td>   0.000000</td>\n",
        "      <td>   0.000000</td>\n",
        "      <td>   0.000000</td>\n",
        "      <td>   0.000000</td>\n",
        "      <td>   0.000000</td>\n",
        "      <td>   1.000000</td>\n",
        "    </tr>\n",
        "    <tr>\n",
        "      <th>25%</th>\n",
        "      <td>   0.000000</td>\n",
        "      <td>   0.000000</td>\n",
        "      <td>   0.000000</td>\n",
        "      <td>   0.000000</td>\n",
        "      <td>   0.000000</td>\n",
        "      <td>   0.000000</td>\n",
        "      <td>   0.000000</td>\n",
        "      <td>   0.000000</td>\n",
        "      <td>   1.000000</td>\n",
        "      <td>   1.000000</td>\n",
        "      <td>   0.000000</td>\n",
        "      <td>   0.000000</td>\n",
        "      <td>   2.000000</td>\n",
        "      <td>   0.000000</td>\n",
        "      <td>   0.000000</td>\n",
        "      <td>   0.000000</td>\n",
        "      <td>   1.000000</td>\n",
        "    </tr>\n",
        "    <tr>\n",
        "      <th>50%</th>\n",
        "      <td>   0.000000</td>\n",
        "      <td>   0.000000</td>\n",
        "      <td>   1.000000</td>\n",
        "      <td>   0.000000</td>\n",
        "      <td>   0.000000</td>\n",
        "      <td>   0.000000</td>\n",
        "      <td>   1.000000</td>\n",
        "      <td>   1.000000</td>\n",
        "      <td>   1.000000</td>\n",
        "      <td>   1.000000</td>\n",
        "      <td>   0.000000</td>\n",
        "      <td>   0.000000</td>\n",
        "      <td>   4.000000</td>\n",
        "      <td>   1.000000</td>\n",
        "      <td>   0.000000</td>\n",
        "      <td>   0.000000</td>\n",
        "      <td>   2.000000</td>\n",
        "    </tr>\n",
        "    <tr>\n",
        "      <th>75%</th>\n",
        "      <td>   1.000000</td>\n",
        "      <td>   0.000000</td>\n",
        "      <td>   1.000000</td>\n",
        "      <td>   1.000000</td>\n",
        "      <td>   0.000000</td>\n",
        "      <td>   1.000000</td>\n",
        "      <td>   1.000000</td>\n",
        "      <td>   1.000000</td>\n",
        "      <td>   1.000000</td>\n",
        "      <td>   1.000000</td>\n",
        "      <td>   0.000000</td>\n",
        "      <td>   0.000000</td>\n",
        "      <td>   4.000000</td>\n",
        "      <td>   1.000000</td>\n",
        "      <td>   0.000000</td>\n",
        "      <td>   1.000000</td>\n",
        "      <td>   4.000000</td>\n",
        "    </tr>\n",
        "    <tr>\n",
        "      <th>max</th>\n",
        "      <td>   1.000000</td>\n",
        "      <td>   1.000000</td>\n",
        "      <td>   1.000000</td>\n",
        "      <td>   1.000000</td>\n",
        "      <td>   1.000000</td>\n",
        "      <td>   1.000000</td>\n",
        "      <td>   1.000000</td>\n",
        "      <td>   1.000000</td>\n",
        "      <td>   1.000000</td>\n",
        "      <td>   1.000000</td>\n",
        "      <td>   1.000000</td>\n",
        "      <td>   1.000000</td>\n",
        "      <td>   8.000000</td>\n",
        "      <td>   1.000000</td>\n",
        "      <td>   1.000000</td>\n",
        "      <td>   1.000000</td>\n",
        "      <td>   7.000000</td>\n",
        "    </tr>\n",
        "  </tbody>\n",
        "</table>\n",
        "</div>"
       ],
       "metadata": {},
       "output_type": "pyout",
       "prompt_number": 29,
       "text": [
        "             hair    feathers        eggs        milk    airborne     aquatic    predator     toothed    backbone    breathes    venomous        fins        legs        tail    domestic     catsize       class\n",
        "count  101.000000  101.000000  101.000000  101.000000  101.000000  101.000000  101.000000  101.000000  101.000000  101.000000  101.000000  101.000000  101.000000  101.000000  101.000000  101.000000  101.000000\n",
        "mean     0.425743    0.198020    0.584158    0.405941    0.237624    0.356436    0.554455    0.603960    0.821782    0.792079    0.079208    0.168317    2.841584    0.742574    0.128713    0.435644    2.831683\n",
        "std      0.496921    0.400495    0.495325    0.493522    0.427750    0.481335    0.499505    0.491512    0.384605    0.407844    0.271410    0.376013    2.033385    0.439397    0.336552    0.498314    2.102709\n",
        "min      0.000000    0.000000    0.000000    0.000000    0.000000    0.000000    0.000000    0.000000    0.000000    0.000000    0.000000    0.000000    0.000000    0.000000    0.000000    0.000000    1.000000\n",
        "25%      0.000000    0.000000    0.000000    0.000000    0.000000    0.000000    0.000000    0.000000    1.000000    1.000000    0.000000    0.000000    2.000000    0.000000    0.000000    0.000000    1.000000\n",
        "50%      0.000000    0.000000    1.000000    0.000000    0.000000    0.000000    1.000000    1.000000    1.000000    1.000000    0.000000    0.000000    4.000000    1.000000    0.000000    0.000000    2.000000\n",
        "75%      1.000000    0.000000    1.000000    1.000000    0.000000    1.000000    1.000000    1.000000    1.000000    1.000000    0.000000    0.000000    4.000000    1.000000    0.000000    1.000000    4.000000\n",
        "max      1.000000    1.000000    1.000000    1.000000    1.000000    1.000000    1.000000    1.000000    1.000000    1.000000    1.000000    1.000000    8.000000    1.000000    1.000000    1.000000    7.000000"
       ]
      }
     ],
     "prompt_number": 29
    },
    {
     "cell_type": "code",
     "collapsed": false,
     "input": [
      "# Ensuring I have not empty data\n",
      "print pd.isnull(animals).any(1).nonzero()[0]"
     ],
     "language": "python",
     "metadata": {},
     "outputs": [
      {
       "output_type": "stream",
       "stream": "stdout",
       "text": [
        "[]\n"
       ]
      }
     ],
     "prompt_number": 30
    },
    {
     "cell_type": "code",
     "collapsed": false,
     "input": [
      "# Made a key for what classes are what code\n",
      "class_key = {\n",
      "    1:'Mammalia',\n",
      "    2:'Aves',\n",
      "    3:'Reptilia',\n",
      "    4:'Actinopterygii',\n",
      "    5:'Amphibia',\n",
      "    6:'Insecta',\n",
      "    7:'Other'\n",
      "}\n",
      "\n",
      "class_key"
     ],
     "language": "python",
     "metadata": {},
     "outputs": [
      {
       "metadata": {},
       "output_type": "pyout",
       "prompt_number": 31,
       "text": [
        "{1: 'Mammalia',\n",
        " 2: 'Aves',\n",
        " 3: 'Reptilia',\n",
        " 4: 'Actinopterygii',\n",
        " 5: 'Amphibia',\n",
        " 6: 'Insecta',\n",
        " 7: 'Other'}"
       ]
      }
     ],
     "prompt_number": 31
    },
    {
     "cell_type": "code",
     "collapsed": false,
     "input": [
      "# Setting up my X and y \n",
      "\n",
      "# I will try to predict an animal's class\n",
      "y = animals['class'] \n",
      "# I will use everything but the animal's name to do so\n",
      "X = animals.drop('class',1).drop('name',1)"
     ],
     "language": "python",
     "metadata": {},
     "outputs": [],
     "prompt_number": 32
    },
    {
     "cell_type": "code",
     "collapsed": false,
     "input": [
      "# Splitting out the data to train a model\n",
      "X_train, X_test, y_train, y_test = train_test_split(X, y)"
     ],
     "language": "python",
     "metadata": {},
     "outputs": [],
     "prompt_number": 33
    },
    {
     "cell_type": "markdown",
     "metadata": {},
     "source": [
      "#Now For Some Fun.\n",
      "Here we will start to play around with visualizing the data and see what we can learn."
     ]
    },
    {
     "cell_type": "code",
     "collapsed": false,
     "input": [
      "# Setting up some basic graphs to show what animals have what features\n",
      "\n",
      "fig, ax = plt.subplots()\n",
      "\n",
      "# We need to draw the canvas, otherwise the labels won't be positioned and \n",
      "# won't have values yet.\n",
      "fig.canvas.draw()\n",
      "\n",
      "labels = [item.get_text() for item in ax.get_xticklabels()]\n",
      "labels[0] = ''\n",
      "labels[1] = 'Mammalia'\n",
      "labels[2] = 'Aves'\n",
      "labels[3] = 'Reptilia'\n",
      "labels[4] = 'Actinopterygii'\n",
      "labels[5] = 'Amphibia'\n",
      "labels.append('Insecta')\n",
      "labels.append('Other')\n",
      "\n",
      "ax.set_xticklabels(labels)\n",
      "ax.set_yticklabels(['','no','','','','','yes',''])\n",
      "\n",
      "jitter(y_train, X_train[:,4], color='y', label='Airborne')\n",
      "jitter(y_train, X_train[:,5], color='r', label='Aquatic')\n",
      "\n",
      "plt.title(\"Is Airborne & Aquatic\", fontsize=20)\n",
      "plt.xlabel('Class Of Animals', fontsize=18)\n",
      "plt.ylabel('Has Feature', fontsize=16)\n",
      "plt.xticks(rotation=70)\n",
      "\n",
      "pylab.legend(loc='center')\n",
      "\n",
      "\n",
      "remove_border()\n",
      "plt.show()"
     ],
     "language": "python",
     "metadata": {},
     "outputs": [
      {
       "metadata": {},
       "output_type": "display_data",
       "png": "[encoded data removed]",
       "text": [
        "<matplotlib.figure.Figure at 0x10b7c7950>"
       ]
      }
     ],
     "prompt_number": 34
    },
    {
     "cell_type": "code",
     "collapsed": false,
     "input": [
      "fig, ax = plt.subplots()\n",
      "\n",
      "# We need to draw the canvas, otherwise the labels won't be positioned and \n",
      "# won't have values yet.\n",
      "fig.canvas.draw()\n",
      "\n",
      "labels = [item.get_text() for item in ax.get_xticklabels()]\n",
      "labels[0] = ''\n",
      "labels[1] = 'Mammalia'\n",
      "labels[2] = 'Aves'\n",
      "labels[3] = 'Reptilia'\n",
      "labels[4] = 'Actinopterygii'\n",
      "labels[5] = 'Amphibia'\n",
      "labels.append('Insecta')\n",
      "labels.append('Other')\n",
      "\n",
      "ax.set_xticklabels(labels)\n",
      "ax.set_yticklabels(['','no','','','','','yes',''])\n",
      "\n",
      "jitter(y_train, X_train[:,2], color='r',label='Eggs')\n",
      "jitter(y_train, X_train[:,3], color='b',label='Milk')\n",
      "\n",
      "plt.title(\"Produce Eggs & Milk\", fontsize=20)\n",
      "plt.xlabel('Class Of Animals', fontsize=18)\n",
      "plt.ylabel('Can Produce', fontsize=16)\n",
      "plt.xticks(rotation=70)\n",
      "\n",
      "pylab.legend(loc='center')\n",
      "\n",
      "remove_border()\n",
      "plt.show()"
     ],
     "language": "python",
     "metadata": {},
     "outputs": [
      {
       "metadata": {},
       "output_type": "display_data",
       "png": "[encoded data removed]",
       "text": [
        "<matplotlib.figure.Figure at 0x10b9bf090>"
       ]
      }
     ],
     "prompt_number": 35
    },
    {
     "cell_type": "code",
     "collapsed": false,
     "input": [
      "fig, ax = plt.subplots()\n",
      "\n",
      "# We need to draw the canvas, otherwise the labels won't be positioned and \n",
      "# won't have values yet.\n",
      "fig.canvas.draw()\n",
      "\n",
      "labels = [item.get_text() for item in ax.get_xticklabels()]\n",
      "labels[0] = ''\n",
      "labels[1] = 'Mammalia'\n",
      "labels[2] = 'Aves'\n",
      "labels[3] = 'Reptilia'\n",
      "labels[4] = 'Actinopterygii'\n",
      "labels[5] = 'Amphibia'\n",
      "labels.append('Insecta')\n",
      "labels.append('Other')\n",
      "\n",
      "ax.set_xticklabels(labels)\n",
      "ax.set_yticklabels(['','no','','','','','yes',''])\n",
      "\n",
      "jitter(y_train, X_train[:,0], color='m', label=\"Hair\")\n",
      "jitter(y_train, X_train[:,1], color='k', label=\"Feathers\")\n",
      "\n",
      "plt.title(\"Have Hair & Feathers\", fontsize=20)\n",
      "plt.xlabel('Class Of Animals', fontsize=18)\n",
      "plt.ylabel('Has Feature', fontsize=16)\n",
      "plt.xticks(rotation=70)\n",
      "# plt.yscale('log')\n",
      "# plt.locator_params(nbins=7)\n",
      "pylab.legend(loc='center')\n",
      "remove_border()\n",
      "plt.show()"
     ],
     "language": "python",
     "metadata": {},
     "outputs": [
      {
       "metadata": {},
       "output_type": "display_data",
       "png": "[encoded data removed]",
       "text": [
        "<matplotlib.figure.Figure at 0x10bbcf250>"
       ]
      }
     ],
     "prompt_number": 36
    },
    {
     "cell_type": "code",
     "collapsed": false,
     "input": [
      "# After we predict our classes I wanted to see what they looked like next to our testing and training datasets\n",
      "\n",
      "fig, ax = plt.subplots()\n",
      "\n",
      "# We need to draw the canvas, otherwise the labels won't be positioned and \n",
      "# won't have values yet.\n",
      "fig.canvas.draw()\n",
      "\n",
      "labels = [item.get_text() for item in ax.get_xticklabels()]\n",
      "labels[0] = 'Mammalia'\n",
      "labels[1] = 'Aves'\n",
      "labels[2] = 'Reptilia'\n",
      "labels[3] = 'Actinopterygii'\n",
      "labels[4] = 'Amphibia'\n",
      "labels[5] = 'Insecta'\n",
      "labels.append('Other')\n",
      "\n",
      "ax.set_xticklabels(labels)\n",
      "\n",
      "plt.title(\"Predictions Vs. Reality\", fontsize=20)\n",
      "plt.xlabel('Class Of Animals', fontsize=18)\n",
      "plt.ylabel('# Of Animals', fontsize=16)\n",
      "plt.hist(y_train, alpha=.1, label=\"training data\")\n",
      "plt.hist(y_test, alpha=.4, color=\"black\", label=\"test data\")\n",
      "plt.hist(y_predictions, alpha=.4, color='m', label=\"predictions\")\n",
      "pylab.legend(loc='upper right')\n",
      "plt.xticks(rotation=70)\n",
      "\n",
      "remove_border()\n",
      "# ax.get_xticklabels()"
     ],
     "language": "python",
     "metadata": {},
     "outputs": [
      {
       "metadata": {},
       "output_type": "display_data",
       "png": "[encoded data removed]",
       "text": [
        "<matplotlib.figure.Figure at 0x10be2ea90>"
       ]
      }
     ],
     "prompt_number": 46
    },
    {
     "cell_type": "code",
     "collapsed": false,
     "input": [
      "# Checking out a couple of basic splits just to see what the train test split did\n",
      "\n",
      "fig, ax = plt.subplots()\n",
      "\n",
      "# We need to draw the canvas, otherwise the labels won't be positioned and \n",
      "# won't have values yet.\n",
      "fig.canvas.draw()\n",
      "\n",
      "ax.set_xticklabels(['no','yes'])\n",
      "ax.set_yticklabels(['None',\"Lots-O'-Creatures (50 max)\"])\n",
      "plt.title(\"Testing Vs. Training Data\", fontsize=20)\n",
      "plt.xlabel('Is A Hairy Mofo', fontsize=18)\n",
      "plt.ylabel('# Of Animals', fontsize=16)\n",
      "plt.hist(X_train[:,0], alpha=.1, label=\"training data\")\n",
      "plt.hist(X_test[:,0], alpha=.4, color=\"black\", label=\"test data\")\n",
      "# plt.yscale('log')\n",
      "# plt.xscale('symlog')\n",
      "plt.locator_params(nbins=1)\n",
      "pylab.legend(loc='center')\n",
      "remove_border()"
     ],
     "language": "python",
     "metadata": {},
     "outputs": []
    },
    {
     "cell_type": "code",
     "collapsed": false,
     "input": [
      "fig, ax = plt.subplots()\n",
      "\n",
      "# We need to draw the canvas, otherwise the labels won't be positioned and \n",
      "# won't have values yet.\n",
      "fig.canvas.draw()\n",
      "\n",
      "ax.set_xticklabels(['no','yes'])\n",
      "ax.set_yticklabels(['None',\"Lots-O'-Creatures (100 max)\"])\n",
      "plt.title(\"Testing Vs. Training Data\", fontsize=20)\n",
      "plt.xlabel('Is A Feathery Mofo', fontsize=18)\n",
      "plt.ylabel('# Of Animals', fontsize=16)\n",
      "plt.hist(X_train[:,1], alpha=.1, label=\"training data\")\n",
      "plt.hist(X_test[:,1], alpha=.4, color=\"black\", label=\"test data\")\n",
      "# plt.yscale('log')\n",
      "# plt.xscale('symlog')\n",
      "plt.locator_params(nbins=1)\n",
      "pylab.legend(loc='center')\n",
      "remove_border()"
     ],
     "language": "python",
     "metadata": {},
     "outputs": [
      {
       "metadata": {},
       "output_type": "display_data",
       "png": "[encoded data removed]",
       "text": [
        "<matplotlib.figure.Figure at 0x10bb465d0>"
       ]
      }
     ],
     "prompt_number": 38
    },
    {
     "cell_type": "markdown",
     "metadata": {},
     "source": [
      "#Using Random Forests To Build A Badass Decision Tree Model."
     ]
    },
    {
     "cell_type": "code",
     "collapsed": false,
     "input": [
      "# TODO import `DecisionTreeClassifier` from the `tree` module\n",
      "from sklearn.tree import DecisionTreeClassifier\n",
      "# TODO import `Pipeline` from the `pipeline` module\n",
      "from sklearn.pipeline import Pipeline\n",
      "# TODO create a pipeline with one stage, the decision tree classifier. Use the `entropy` `criterion`.\n",
      "pipeline = Pipeline([\n",
      "        ('clf', DecisionTreeClassifier(criterion='entropy'))\n",
      "])"
     ],
     "language": "python",
     "metadata": {},
     "outputs": [],
     "prompt_number": 39
    },
    {
     "cell_type": "code",
     "collapsed": false,
     "input": [
      "# Specify the hyperparameter space to seach with a dictionary. \n",
      "# The keys are the concatenated name of the keyword argument and the name of the corresponding object.\n",
      "# The values of the dictionary are the values of the hyperparameter that should be tested.\n",
      "parameters = {\n",
      "        'clf__max_depth': (150, 155, 160),\n",
      "        'clf__min_samples_split': (1, 2, 3),\n",
      "        'clf__min_samples_leaf': (1, 2, 3)\n",
      "}"
     ],
     "language": "python",
     "metadata": {},
     "outputs": [],
     "prompt_number": 40
    },
    {
     "cell_type": "code",
     "collapsed": false,
     "input": [
      "# TODO import `GridSearchCV` from the `grid_search` module\n",
      "from sklearn.grid_search import GridSearchCV\n",
      "# TODO instantiate a GridSearchCV\n",
      "grid_search = GridSearchCV(pipeline, parameters, n_jobs=1, verbose=3, scoring='f1')\n",
      "# TODO fit grid_search. What is happening here? How many models will be trained?\n",
      "grid_search.fit(X_train, y_train)\n",
      "print 'Best score:', grid_search.best_score_\n",
      "print 'Best parameters set:'\n",
      "best_parameters = grid_search.best_estimator_.get_params()\n",
      "for param_name in sorted(parameters.keys()):\n",
      "    print '\\t', param_name, best_parameters[param_name]"
     ],
     "language": "python",
     "metadata": {},
     "outputs": [
      {
       "output_type": "stream",
       "stream": "stdout",
       "text": [
        "Fitting 3 folds for each of 27 candidates, totalling 81 fits\n",
        "[CV] clf__max_depth=150, clf__min_samples_leaf=1, clf__min_samples_split=1 \n",
        "[CV]  clf__max_depth=150, clf__min_samples_leaf=1, clf__min_samples_split=1, score=0.920068 -   0.0s\n",
        "[CV] clf__max_depth=150, clf__min_samples_leaf=1, clf__min_samples_split=1 \n",
        "[CV]  clf__max_depth=150, clf__min_samples_leaf=1, clf__min_samples_split=1, score=0.916667 -   0.0s\n",
        "[CV] clf__max_depth=150, clf__min_samples_leaf=1, clf__min_samples_split=1 \n",
        "[CV]  clf__max_depth=150, clf__min_samples_leaf=1, clf__min_samples_split=1, score=0.895652 -   0.0s\n",
        "[CV] clf__max_depth=150, clf__min_samples_leaf=1, clf__min_samples_split=2 \n",
        "[CV]  clf__max_depth=150, clf__min_samples_leaf=1, clf__min_samples_split=2, score=0.925170 -   0.0s\n",
        "[CV] clf__max_depth=150, clf__min_samples_leaf=1, clf__min_samples_split=2 \n",
        "[CV]  clf__max_depth=150, clf__min_samples_leaf=1, clf__min_samples_split=2, score=0.955556 -   0.0s\n",
        "[CV] clf__max_depth=150, clf__min_samples_leaf=1, clf__min_samples_split=2 \n",
        "[CV]  clf__max_depth=150, clf__min_samples_leaf=1, clf__min_samples_split=2, score=0.895652 -   0.0s\n",
        "[CV] clf__max_depth=150, clf__min_samples_leaf=1, clf__min_samples_split=3 \n",
        "[CV]  clf__max_depth=150, clf__min_samples_leaf=1, clf__min_samples_split=3, score=0.920068 -   0.0s\n",
        "[CV] clf__max_depth=150, clf__min_samples_leaf=1, clf__min_samples_split=3 \n",
        "[CV]  clf__max_depth=150, clf__min_samples_leaf=1, clf__min_samples_split=3, score=0.955556 -   0.0s\n",
        "[CV] clf__max_depth=150, clf__min_samples_leaf=1, clf__min_samples_split=3 \n",
        "[CV]  clf__max_depth=150, clf__min_samples_leaf=1, clf__min_samples_split=3, score=0.893281 -   0.0s\n",
        "[CV] clf__max_depth=150, clf__min_samples_leaf=2, clf__min_samples_split=1 \n",
        "[CV]  clf__max_depth=150, clf__min_samples_leaf=2, clf__min_samples_split=1, score=0.920068 -   0.0s\n",
        "[CV] clf__max_depth=150, clf__min_samples_leaf=2, clf__min_samples_split=1 \n",
        "[CV]  clf__max_depth=150, clf__min_samples_leaf=2, clf__min_samples_split=1, score=0.916667 -   0.0s\n",
        "[CV] clf__max_depth=150, clf__min_samples_leaf=2, clf__min_samples_split=1 \n",
        "[CV]  clf__max_depth=150, clf__min_samples_leaf=2, clf__min_samples_split=1, score=0.895652 -   0.0s\n",
        "[CV] clf__max_depth=150, clf__min_samples_leaf=2, clf__min_samples_split=2 \n",
        "[CV]  clf__max_depth=150, clf__min_samples_leaf=2, clf__min_samples_split=2, score=0.920068 -   0.0s\n",
        "[CV] clf__max_depth=150, clf__min_samples_leaf=2, clf__min_samples_split=2 \n",
        "[CV]  clf__max_depth=150, clf__min_samples_leaf=2, clf__min_samples_split=2, score=0.916667 -   0.0s\n",
        "[CV] clf__max_depth=150, clf__min_samples_leaf=2, clf__min_samples_split=2 \n",
        "[CV]  clf__max_depth=150, clf__min_samples_leaf=2, clf__min_samples_split=2, score=0.895652 -   0.0s\n",
        "[CV] clf__max_depth=150, clf__min_samples_leaf=2, clf__min_samples_split=3 \n",
        "[CV]  clf__max_depth=150, clf__min_samples_leaf=2, clf__min_samples_split=3, score=0.920068 -   0.0s\n",
        "[CV] clf__max_depth=150, clf__min_samples_leaf=2, clf__min_samples_split=3 \n",
        "[CV]  clf__max_depth=150, clf__min_samples_leaf=2, clf__min_samples_split=3, score=0.955556 -   0.0s\n",
        "[CV] clf__max_depth=150, clf__min_samples_leaf=2, clf__min_samples_split=3 \n",
        "[CV]  clf__max_depth=150, clf__min_samples_leaf=2, clf__min_samples_split=3, score=0.893281 -   0.0s\n",
        "[CV] clf__max_depth=150, clf__min_samples_leaf=3, clf__min_samples_split=1 \n",
        "[CV]  clf__max_depth=150, clf__min_samples_leaf=3, clf__min_samples_split=1, score=0.872449 -   0.0s\n",
        "[CV] clf__max_depth=150, clf__min_samples_leaf=3, clf__min_samples_split=1 \n",
        "[CV]  clf__max_depth=150, clf__min_samples_leaf=3, clf__min_samples_split=1, score=0.900000 -   0.0s\n",
        "[CV] clf__max_depth=150, clf__min_samples_leaf=3, clf__min_samples_split=1 \n",
        "[CV]  clf__max_depth=150, clf__min_samples_leaf=3, clf__min_samples_split=1, score=0.893281 -   0.0s\n",
        "[CV] clf__max_depth=150, clf__min_samples_leaf=3, clf__min_samples_split=2 \n",
        "[CV]  clf__max_depth=150, clf__min_samples_leaf=3, clf__min_samples_split=2, score=0.872449 -   0.0s\n",
        "[CV] clf__max_depth=150, clf__min_samples_leaf=3, clf__min_samples_split=2 \n",
        "[CV]  clf__max_depth=150, clf__min_samples_leaf=3, clf__min_samples_split=2, score=0.861111 -   0.0s\n",
        "[CV] clf__max_depth=150, clf__min_samples_leaf=3, clf__min_samples_split=2 \n",
        "[CV]  clf__max_depth=150, clf__min_samples_leaf=3, clf__min_samples_split=2, score=0.846904 -   0.0s\n",
        "[CV] clf__max_depth=150, clf__min_samples_leaf=3, clf__min_samples_split=3 \n",
        "[CV]  clf__max_depth=150, clf__min_samples_leaf=3, clf__min_samples_split=3, score=0.873583 -   0.0s\n",
        "[CV] clf__max_depth=150, clf__min_samples_leaf=3, clf__min_samples_split=3 \n",
        "[CV]  clf__max_depth=150, clf__min_samples_leaf=3, clf__min_samples_split=3, score=0.861111 -   0.0s\n",
        "[CV] clf__max_depth=150, clf__min_samples_leaf=3, clf__min_samples_split=3 \n",
        "[CV]  clf__max_depth=150, clf__min_samples_leaf=3, clf__min_samples_split=3, score=0.846904 -   0.0s\n",
        "[CV] clf__max_depth=155, clf__min_samples_leaf=1, clf__min_samples_split=1 \n",
        "[CV]  clf__max_depth=155, clf__min_samples_leaf=1, clf__min_samples_split=1, score=0.921202 -   0.0s\n",
        "[CV] clf__max_depth=155, clf__min_samples_leaf=1, clf__min_samples_split=1 \n",
        "[CV]  clf__max_depth=155, clf__min_samples_leaf=1, clf__min_samples_split=1, score=0.916667 -   0.0s\n",
        "[CV] clf__max_depth=155, clf__min_samples_leaf=1, clf__min_samples_split=1 \n",
        "[CV]  clf__max_depth=155, clf__min_samples_leaf=1, clf__min_samples_split=1, score=0.895652 -   0.0s\n",
        "[CV] clf__max_depth=155, clf__min_samples_leaf=1, clf__min_samples_split=2 \n",
        "[CV]  clf__max_depth=155, clf__min_samples_leaf=1, clf__min_samples_split=2, score=0.920068 -   0.0s\n",
        "[CV] clf__max_depth=155, clf__min_samples_leaf=1, clf__min_samples_split=2 \n",
        "[CV]  clf__max_depth=155, clf__min_samples_leaf=1, clf__min_samples_split=2, score=0.916667 -   0.0s\n",
        "[CV] clf__max_depth=155, clf__min_samples_leaf=1, clf__min_samples_split=2 \n",
        "[CV]  clf__max_depth=155, clf__min_samples_leaf=1, clf__min_samples_split=2, score=0.893281 -   0.0s\n",
        "[CV] clf__max_depth=155, clf__min_samples_leaf=1, clf__min_samples_split=3 \n",
        "[CV]  clf__max_depth=155, clf__min_samples_leaf=1, clf__min_samples_split=3, score=0.920068 -   0.0s\n",
        "[CV] clf__max_depth=155, clf__min_samples_leaf=1, clf__min_samples_split=3 \n",
        "[CV]  clf__max_depth=155, clf__min_samples_leaf=1, clf__min_samples_split=3, score=0.916667 -   0.0s"
       ]
      },
      {
       "output_type": "stream",
       "stream": "stdout",
       "text": [
        "\n",
        "[CV] clf__max_depth=155, clf__min_samples_leaf=1, clf__min_samples_split=3 \n",
        "[CV]  clf__max_depth=155, clf__min_samples_leaf=1, clf__min_samples_split=3, score=0.893281 -   0.0s\n",
        "[CV] clf__max_depth=155, clf__min_samples_leaf=2, clf__min_samples_split=1 \n",
        "[CV]  clf__max_depth=155, clf__min_samples_leaf=2, clf__min_samples_split=1, score=0.925170 -   0.0s\n",
        "[CV] clf__max_depth=155, clf__min_samples_leaf=2, clf__min_samples_split=1 \n",
        "[CV]  clf__max_depth=155, clf__min_samples_leaf=2, clf__min_samples_split=1, score=0.955556 -   0.0s\n",
        "[CV] clf__max_depth=155, clf__min_samples_leaf=2, clf__min_samples_split=1 \n",
        "[CV]  clf__max_depth=155, clf__min_samples_leaf=2, clf__min_samples_split=1, score=0.893281 -   0.0s\n",
        "[CV] clf__max_depth=155, clf__min_samples_leaf=2, clf__min_samples_split=2 \n",
        "[CV]  clf__max_depth=155, clf__min_samples_leaf=2, clf__min_samples_split=2, score=0.921202 -   0.0s\n",
        "[CV] clf__max_depth=155, clf__min_samples_leaf=2, clf__min_samples_split=2 \n",
        "[CV]  clf__max_depth=155, clf__min_samples_leaf=2, clf__min_samples_split=2, score=0.955556 -   0.0s\n",
        "[CV] clf__max_depth=155, clf__min_samples_leaf=2, clf__min_samples_split=2 \n",
        "[CV]  clf__max_depth=155, clf__min_samples_leaf=2, clf__min_samples_split=2, score=0.893281 -   0.0s\n",
        "[CV] clf__max_depth=155, clf__min_samples_leaf=2, clf__min_samples_split=3 \n",
        "[CV]  clf__max_depth=155, clf__min_samples_leaf=2, clf__min_samples_split=3, score=0.920068 -   0.0s\n",
        "[CV] clf__max_depth=155, clf__min_samples_leaf=2, clf__min_samples_split=3 \n",
        "[CV]  clf__max_depth=155, clf__min_samples_leaf=2, clf__min_samples_split=3, score=0.916667 -   0.0s\n",
        "[CV] clf__max_depth=155, clf__min_samples_leaf=2, clf__min_samples_split=3 \n",
        "[CV]  clf__max_depth=155, clf__min_samples_leaf=2, clf__min_samples_split=3, score=0.852174 -   0.0s\n",
        "[CV] clf__max_depth=155, clf__min_samples_leaf=3, clf__min_samples_split=1 \n",
        "[CV]  clf__max_depth=155, clf__min_samples_leaf=3, clf__min_samples_split=1, score=0.873583 -   0.0s\n",
        "[CV] clf__max_depth=155, clf__min_samples_leaf=3, clf__min_samples_split=1 \n",
        "[CV]  clf__max_depth=155, clf__min_samples_leaf=3, clf__min_samples_split=1, score=0.900000 -   0.0s\n",
        "[CV] clf__max_depth=155, clf__min_samples_leaf=3, clf__min_samples_split=1 \n",
        "[CV]  clf__max_depth=155, clf__min_samples_leaf=3, clf__min_samples_split=1, score=0.846904 -   0.0s\n",
        "[CV] clf__max_depth=155, clf__min_samples_leaf=3, clf__min_samples_split=2 \n",
        "[CV]  clf__max_depth=155, clf__min_samples_leaf=3, clf__min_samples_split=2, score=0.910884 -   0.0s\n",
        "[CV] clf__max_depth=155, clf__min_samples_leaf=3, clf__min_samples_split=2 \n",
        "[CV]  clf__max_depth=155, clf__min_samples_leaf=3, clf__min_samples_split=2, score=0.861111 -   0.0s\n",
        "[CV] clf__max_depth=155, clf__min_samples_leaf=3, clf__min_samples_split=2 \n",
        "[CV]  clf__max_depth=155, clf__min_samples_leaf=3, clf__min_samples_split=2, score=0.846904 -   0.0s\n",
        "[CV] clf__max_depth=155, clf__min_samples_leaf=3, clf__min_samples_split=3 \n",
        "[CV]  clf__max_depth=155, clf__min_samples_leaf=3, clf__min_samples_split=3, score=0.873583 -   0.0s\n",
        "[CV] clf__max_depth=155, clf__min_samples_leaf=3, clf__min_samples_split=3 \n",
        "[CV]  clf__max_depth=155, clf__min_samples_leaf=3, clf__min_samples_split=3, score=0.861111 -   0.0s\n",
        "[CV] clf__max_depth=155, clf__min_samples_leaf=3, clf__min_samples_split=3 \n",
        "[CV]  clf__max_depth=155, clf__min_samples_leaf=3, clf__min_samples_split=3, score=0.852174 -   0.0s\n",
        "[CV] clf__max_depth=160, clf__min_samples_leaf=1, clf__min_samples_split=1 \n",
        "[CV]  clf__max_depth=160, clf__min_samples_leaf=1, clf__min_samples_split=1, score=0.920068 -   0.0s\n",
        "[CV] clf__max_depth=160, clf__min_samples_leaf=1, clf__min_samples_split=1 \n",
        "[CV]  clf__max_depth=160, clf__min_samples_leaf=1, clf__min_samples_split=1, score=0.916667 -   0.0s\n",
        "[CV] clf__max_depth=160, clf__min_samples_leaf=1, clf__min_samples_split=1 \n",
        "[CV]  clf__max_depth=160, clf__min_samples_leaf=1, clf__min_samples_split=1, score=0.893281 -   0.0s\n",
        "[CV] clf__max_depth=160, clf__min_samples_leaf=1, clf__min_samples_split=2 \n",
        "[CV]  clf__max_depth=160, clf__min_samples_leaf=1, clf__min_samples_split=2, score=0.920068 -   0.0s\n",
        "[CV] clf__max_depth=160, clf__min_samples_leaf=1, clf__min_samples_split=2 \n",
        "[CV]  clf__max_depth=160, clf__min_samples_leaf=1, clf__min_samples_split=2, score=0.916667 -   0.0s\n",
        "[CV] clf__max_depth=160, clf__min_samples_leaf=1, clf__min_samples_split=2 \n",
        "[CV]  clf__max_depth=160, clf__min_samples_leaf=1, clf__min_samples_split=2, score=0.893281 -   0.0s\n",
        "[CV] clf__max_depth=160, clf__min_samples_leaf=1, clf__min_samples_split=3 \n",
        "[CV]  clf__max_depth=160, clf__min_samples_leaf=1, clf__min_samples_split=3, score=0.920068 -   0.0s\n",
        "[CV] clf__max_depth=160, clf__min_samples_leaf=1, clf__min_samples_split=3 \n",
        "[CV]  clf__max_depth=160, clf__min_samples_leaf=1, clf__min_samples_split=3, score=0.955556 -   0.0s\n",
        "[CV] clf__max_depth=160, clf__min_samples_leaf=1, clf__min_samples_split=3 \n",
        "[CV]  clf__max_depth=160, clf__min_samples_leaf=1, clf__min_samples_split=3, score=0.895652 -   0.0s\n",
        "[CV] clf__max_depth=160, clf__min_samples_leaf=2, clf__min_samples_split=1 \n",
        "[CV]  clf__max_depth=160, clf__min_samples_leaf=2, clf__min_samples_split=1, score=0.921202 -   0.0s\n",
        "[CV] clf__max_depth=160, clf__min_samples_leaf=2, clf__min_samples_split=1 \n",
        "[CV]  clf__max_depth=160, clf__min_samples_leaf=2, clf__min_samples_split=1, score=0.955556 -   0.0s\n",
        "[CV] clf__max_depth=160, clf__min_samples_leaf=2, clf__min_samples_split=1 \n",
        "[CV]  clf__max_depth=160, clf__min_samples_leaf=2, clf__min_samples_split=1, score=0.846904 -   0.0s\n",
        "[CV] clf__max_depth=160, clf__min_samples_leaf=2, clf__min_samples_split=2 \n",
        "[CV]  clf__max_depth=160, clf__min_samples_leaf=2, clf__min_samples_split=2, score=0.921202 -   0.0s\n",
        "[CV] clf__max_depth=160, clf__min_samples_leaf=2, clf__min_samples_split=2 \n",
        "[CV]  clf__max_depth=160, clf__min_samples_leaf=2, clf__min_samples_split=2, score=0.955556 -   0.0s\n",
        "[CV] clf__max_depth=160, clf__min_samples_leaf=2, clf__min_samples_split=2 \n",
        "[CV]  clf__max_depth=160, clf__min_samples_leaf=2, clf__min_samples_split=2, score=0.893281 -   0.0s\n",
        "[CV] clf__max_depth=160, clf__min_samples_leaf=2, clf__min_samples_split=3 \n",
        "[CV]  clf__max_depth=160, clf__min_samples_leaf=2, clf__min_samples_split=3, score=0.925170 -   0.0s\n",
        "[CV] clf__max_depth=160, clf__min_samples_leaf=2, clf__min_samples_split=3 \n",
        "[CV]  clf__max_depth=160, clf__min_samples_leaf=2, clf__min_samples_split=3, score=0.955556 -   0.0s\n",
        "[CV] clf__max_depth=160, clf__min_samples_leaf=2, clf__min_samples_split=3 \n",
        "[CV]  clf__max_depth=160, clf__min_samples_leaf=2, clf__min_samples_split=3, score=0.852174 -   0.0s"
       ]
      },
      {
       "output_type": "stream",
       "stream": "stderr",
       "text": [
        "[Parallel(n_jobs=1)]: Done   1 jobs       | elapsed:    0.0s\n",
        "/Users/kevin/anaconda/lib/python2.7/site-packages/sklearn/metrics/metrics.py:1771: UndefinedMetricWarning: F-score is ill-defined and being set to 0.0 in labels with no predicted samples.\n",
        "  'precision', 'predicted', average, warn_for)\n",
        "[Parallel(n_jobs=1)]: Done  32 jobs       | elapsed:    0.0s\n",
        "[Parallel(n_jobs=1)]: Done  81 out of  81 | elapsed:    0.1s finished\n"
       ]
      },
      {
       "output_type": "stream",
       "stream": "stdout",
       "text": [
        "\n",
        "[CV] clf__max_depth=160, clf__min_samples_leaf=3, clf__min_samples_split=1 \n",
        "[CV]  clf__max_depth=160, clf__min_samples_leaf=3, clf__min_samples_split=1, score=0.873583 -   0.0s\n",
        "[CV] clf__max_depth=160, clf__min_samples_leaf=3, clf__min_samples_split=1 \n",
        "[CV]  clf__max_depth=160, clf__min_samples_leaf=3, clf__min_samples_split=1, score=0.861111 -   0.0s\n",
        "[CV] clf__max_depth=160, clf__min_samples_leaf=3, clf__min_samples_split=1 \n",
        "[CV]  clf__max_depth=160, clf__min_samples_leaf=3, clf__min_samples_split=1, score=0.893281 -   0.0s\n",
        "[CV] clf__max_depth=160, clf__min_samples_leaf=3, clf__min_samples_split=2 \n",
        "[CV]  clf__max_depth=160, clf__min_samples_leaf=3, clf__min_samples_split=2, score=0.872449 -   0.0s\n",
        "[CV] clf__max_depth=160, clf__min_samples_leaf=3, clf__min_samples_split=2 \n",
        "[CV]  clf__max_depth=160, clf__min_samples_leaf=3, clf__min_samples_split=2, score=0.900000 -   0.0s\n",
        "[CV] clf__max_depth=160, clf__min_samples_leaf=3, clf__min_samples_split=2 \n",
        "[CV]  clf__max_depth=160, clf__min_samples_leaf=3, clf__min_samples_split=2, score=0.893281 -   0.0s\n",
        "[CV] clf__max_depth=160, clf__min_samples_leaf=3, clf__min_samples_split=3 \n",
        "[CV]  clf__max_depth=160, clf__min_samples_leaf=3, clf__min_samples_split=3, score=0.872449 -   0.0s\n",
        "[CV] clf__max_depth=160, clf__min_samples_leaf=3, clf__min_samples_split=3 \n",
        "[CV]  clf__max_depth=160, clf__min_samples_leaf=3, clf__min_samples_split=3, score=0.861111 -   0.0s\n",
        "[CV] clf__max_depth=160, clf__min_samples_leaf=3, clf__min_samples_split=3 \n",
        "[CV]  clf__max_depth=160, clf__min_samples_leaf=3, clf__min_samples_split=3, score=0.852174 -   0.0s\n",
        "Best score: 0.925841269841\n",
        "Best parameters set:\n",
        "\tclf__max_depth 150\n",
        "\tclf__min_samples_leaf 1\n",
        "\tclf__min_samples_split 2\n"
       ]
      }
     ],
     "prompt_number": 41
    },
    {
     "cell_type": "code",
     "collapsed": false,
     "input": [
      "# TODO import `classification_report` from the `metrics` module.\n",
      "from sklearn.metrics import classification_report\n",
      "# TODO make predictions for the test set using the `grid_search` object.\n",
      "predictions = grid_search.predict(X_test)\n",
      "# TODO `grid_search` also implements a `score` method.\n",
      "print grid_search.score(X_test, predictions)\n",
      "# TODO print the classification report for the predictions.\n",
      "print classification_report(y_test, predictions)"
     ],
     "language": "python",
     "metadata": {},
     "outputs": [
      {
       "output_type": "stream",
       "stream": "stdout",
       "text": [
        "1.0\n",
        "             precision    recall  f1-score   support\n",
        "\n",
        "          1       1.00      1.00      1.00        12\n",
        "          2       1.00      1.00      1.00         4\n",
        "          3       1.00      1.00      1.00         1\n",
        "          4       1.00      1.00      1.00         3\n",
        "          5       1.00      1.00      1.00         1\n",
        "          6       0.67      1.00      0.80         2\n",
        "          7       1.00      0.67      0.80         3\n",
        "\n",
        "avg / total       0.97      0.96      0.96        26\n",
        "\n"
       ]
      }
     ],
     "prompt_number": 42
    },
    {
     "cell_type": "code",
     "collapsed": false,
     "input": [
      "# TODO import `RandomForestClassifier` from the `ensemble` module.\n",
      "from sklearn.ensemble import RandomForestClassifier\n",
      "# TODO create a new pipeline with a `RandomForestClassifier`\n",
      "pipeline = Pipeline([\n",
      "    ('clf', RandomForestClassifier(criterion='entropy'))\n",
      "])\n",
      "# TODO we will add another hyperparameter specific to random forests to our grid search. How will this affect the number of models that are fit?\n",
      "parameters = {\n",
      "    'clf__n_estimators': (5, 10, 20, 50),\n",
      "    'clf__max_depth': (50, 150, 250),\n",
      "    'clf__min_samples_split': (1, 2, 3),\n",
      "    'clf__min_samples_leaf': (1, 2, 3)\n",
      "}\n",
      "# TODO create a new `GridSearchCV`\n",
      "grid_search = GridSearchCV(pipeline, parameters, n_jobs=1, verbose=3, scoring='f1')\n",
      "# TODO traing the grid_search\n",
      "grid_search.fit(X_train, y_train)\n",
      "print 'Best score:', grid_search.best_score_\n",
      "print 'Best parameters set:'\n",
      "best_parameters = grid_search.best_estimator_.get_params()\n",
      "for param_name in sorted(parameters.keys()):\n",
      "    print '\\t', param_name, best_parameters[param_name]"
     ],
     "language": "python",
     "metadata": {},
     "outputs": [
      {
       "output_type": "stream",
       "stream": "stdout",
       "text": [
        "Fitting 3 folds for each of 108 candidates, totalling 324 fits\n",
        "[CV] clf__max_depth=50, clf__min_samples_leaf=1, clf__min_samples_split=1, clf__n_estimators=5 \n",
        "[CV]  clf__max_depth=50, clf__min_samples_leaf=1, clf__min_samples_split=1, clf__n_estimators=5, score=0.861678 -   0.0s\n",
        "[CV] clf__max_depth=50, clf__min_samples_leaf=1, clf__min_samples_split=1, clf__n_estimators=5 \n",
        "[CV]  clf__max_depth=50, clf__min_samples_leaf=1, clf__min_samples_split=1, clf__n_estimators=5, score=0.916667 -   0.0s\n",
        "[CV] clf__max_depth=50, clf__min_samples_leaf=1, clf__min_samples_split=1, clf__n_estimators=5 \n",
        "[CV]  clf__max_depth=50, clf__min_samples_leaf=1, clf__min_samples_split=1, clf__n_estimators=5, score=0.936759 -   0.0s\n",
        "[CV] clf__max_depth=50, clf__min_samples_leaf=1, clf__min_samples_split=1, clf__n_estimators=10 \n",
        "[CV]  clf__max_depth=50, clf__min_samples_leaf=1, clf__min_samples_split=1, clf__n_estimators=10, score=0.861678 -   0.0s\n",
        "[CV] clf__max_depth=50, clf__min_samples_leaf=1, clf__min_samples_split=1, clf__n_estimators=10 \n",
        "[CV]  clf__max_depth=50, clf__min_samples_leaf=1, clf__min_samples_split=1, clf__n_estimators=10, score=0.953283 -   0.0s\n",
        "[CV] clf__max_depth=50, clf__min_samples_leaf=1, clf__min_samples_split=1, clf__n_estimators=10 \n",
        "[CV]  clf__max_depth=50, clf__min_samples_leaf=1, clf__min_samples_split=1, clf__n_estimators=10, score=0.942029 -   0.0s\n",
        "[CV] clf__max_depth=50, clf__min_samples_leaf=1, clf__min_samples_split=1, clf__n_estimators=20 \n",
        "[CV]  clf__max_depth=50, clf__min_samples_leaf=1, clf__min_samples_split=1, clf__n_estimators=20, score=0.861678 -   0.0s\n",
        "[CV] clf__max_depth=50, clf__min_samples_leaf=1, clf__min_samples_split=1, clf__n_estimators=20 \n",
        "[CV]  clf__max_depth=50, clf__min_samples_leaf=1, clf__min_samples_split=1, clf__n_estimators=20, score=0.955556 -   0.0s"
       ]
      },
      {
       "output_type": "stream",
       "stream": "stdout",
       "text": [
        "\n",
        "[CV] clf__max_depth=50, clf__min_samples_leaf=1, clf__min_samples_split=1, clf__n_estimators=20 \n",
        "[CV]  clf__max_depth=50, clf__min_samples_leaf=1, clf__min_samples_split=1, clf__n_estimators=20, score=0.936759 -   0.0s\n",
        "[CV] clf__max_depth=50, clf__min_samples_leaf=1, clf__min_samples_split=1, clf__n_estimators=50 \n",
        "[CV]  clf__max_depth=50, clf__min_samples_leaf=1, clf__min_samples_split=1, clf__n_estimators=50, score=0.899660 -   0.0s\n",
        "[CV] clf__max_depth=50, clf__min_samples_leaf=1, clf__min_samples_split=1, clf__n_estimators=50 \n",
        "[CV]  clf__max_depth=50, clf__min_samples_leaf=1, clf__min_samples_split=1, clf__n_estimators=50, score=0.955556 -   0.0s"
       ]
      },
      {
       "output_type": "stream",
       "stream": "stdout",
       "text": [
        "\n",
        "[CV] clf__max_depth=50, clf__min_samples_leaf=1, clf__min_samples_split=1, clf__n_estimators=50 \n",
        "[CV]  clf__max_depth=50, clf__min_samples_leaf=1, clf__min_samples_split=1, clf__n_estimators=50, score=0.936759 -   0.0s\n",
        "[CV] clf__max_depth=50, clf__min_samples_leaf=1, clf__min_samples_split=2, clf__n_estimators=5 \n",
        "[CV]  clf__max_depth=50, clf__min_samples_leaf=1, clf__min_samples_split=2, clf__n_estimators=5, score=0.865079 -   0.0s\n",
        "[CV] clf__max_depth=50, clf__min_samples_leaf=1, clf__min_samples_split=2, clf__n_estimators=5 \n",
        "[CV]  clf__max_depth=50, clf__min_samples_leaf=1, clf__min_samples_split=2, clf__n_estimators=5, score=0.916667 -   0.0s\n",
        "[CV] clf__max_depth=50, clf__min_samples_leaf=1, clf__min_samples_split=2, clf__n_estimators=5 \n",
        "[CV]  clf__max_depth=50, clf__min_samples_leaf=1, clf__min_samples_split=2, clf__n_estimators=5, score=0.893281 -   0.0s\n",
        "[CV] clf__max_depth=50, clf__min_samples_leaf=1, clf__min_samples_split=2, clf__n_estimators=10 \n",
        "[CV]  clf__max_depth=50, clf__min_samples_leaf=1, clf__min_samples_split=2, clf__n_estimators=10, score=0.860544 -   0.0s\n",
        "[CV] clf__max_depth=50, clf__min_samples_leaf=1, clf__min_samples_split=2, clf__n_estimators=10 \n",
        "[CV]  clf__max_depth=50, clf__min_samples_leaf=1, clf__min_samples_split=2, clf__n_estimators=10, score=0.955556 -   0.0s"
       ]
      },
      {
       "output_type": "stream",
       "stream": "stdout",
       "text": [
        "\n",
        "[CV] clf__max_depth=50, clf__min_samples_leaf=1, clf__min_samples_split=2, clf__n_estimators=10 \n",
        "[CV]  clf__max_depth=50, clf__min_samples_leaf=1, clf__min_samples_split=2, clf__n_estimators=10, score=0.893281 -   0.0s\n",
        "[CV] clf__max_depth=50, clf__min_samples_leaf=1, clf__min_samples_split=2, clf__n_estimators=20 \n",
        "[CV]  clf__max_depth=50, clf__min_samples_leaf=1, clf__min_samples_split=2, clf__n_estimators=20, score=0.860544 -   0.0s\n",
        "[CV] clf__max_depth=50, clf__min_samples_leaf=1, clf__min_samples_split=2, clf__n_estimators=20 \n",
        "[CV]  clf__max_depth=50, clf__min_samples_leaf=1, clf__min_samples_split=2, clf__n_estimators=20, score=0.940476 -   0.0s\n",
        "[CV] clf__max_depth=50, clf__min_samples_leaf=1, clf__min_samples_split=2, clf__n_estimators=20 \n",
        "[CV]  clf__max_depth=50, clf__min_samples_leaf=1, clf__min_samples_split=2, clf__n_estimators=20, score=0.893281 -   0.0s\n",
        "[CV] clf__max_depth=50, clf__min_samples_leaf=1, clf__min_samples_split=2, clf__n_estimators=50 \n",
        "[CV]  clf__max_depth=50, clf__min_samples_leaf=1, clf__min_samples_split=2, clf__n_estimators=50, score=0.860544 -   0.0s"
       ]
      },
      {
       "output_type": "stream",
       "stream": "stdout",
       "text": [
        "\n",
        "[CV] clf__max_depth=50, clf__min_samples_leaf=1, clf__min_samples_split=2, clf__n_estimators=50 \n",
        "[CV]  clf__max_depth=50, clf__min_samples_leaf=1, clf__min_samples_split=2, clf__n_estimators=50, score=0.955556 -   0.0s\n",
        "[CV] clf__max_depth=50, clf__min_samples_leaf=1, clf__min_samples_split=2, clf__n_estimators=50 \n",
        "[CV]  clf__max_depth=50, clf__min_samples_leaf=1, clf__min_samples_split=2, clf__n_estimators=50, score=0.893281 -   0.0s\n",
        "[CV] clf__max_depth=50, clf__min_samples_leaf=1, clf__min_samples_split=3, clf__n_estimators=5 \n",
        "[CV]  clf__max_depth=50, clf__min_samples_leaf=1, clf__min_samples_split=3, clf__n_estimators=5, score=0.900794 -   0.0s"
       ]
      },
      {
       "output_type": "stream",
       "stream": "stdout",
       "text": [
        "\n",
        "[CV] clf__max_depth=50, clf__min_samples_leaf=1, clf__min_samples_split=3, clf__n_estimators=5 \n",
        "[CV]  clf__max_depth=50, clf__min_samples_leaf=1, clf__min_samples_split=3, clf__n_estimators=5, score=0.953283 -   0.0s\n",
        "[CV] clf__max_depth=50, clf__min_samples_leaf=1, clf__min_samples_split=3, clf__n_estimators=5 \n",
        "[CV]  clf__max_depth=50, clf__min_samples_leaf=1, clf__min_samples_split=3, clf__n_estimators=5, score=0.893281 -   0.0s\n",
        "[CV] clf__max_depth=50, clf__min_samples_leaf=1, clf__min_samples_split=3, clf__n_estimators=10 \n",
        "[CV]  clf__max_depth=50, clf__min_samples_leaf=1, clf__min_samples_split=3, clf__n_estimators=10, score=0.861678 -   0.0s\n",
        "[CV] clf__max_depth=50, clf__min_samples_leaf=1, clf__min_samples_split=3, clf__n_estimators=10 \n",
        "[CV]  clf__max_depth=50, clf__min_samples_leaf=1, clf__min_samples_split=3, clf__n_estimators=10, score=0.955556 -   0.0s\n",
        "[CV] clf__max_depth=50, clf__min_samples_leaf=1, clf__min_samples_split=3, clf__n_estimators=10 \n",
        "[CV]  clf__max_depth=50, clf__min_samples_leaf=1, clf__min_samples_split=3, clf__n_estimators=10, score=0.936759 -   0.0s\n",
        "[CV] clf__max_depth=50, clf__min_samples_leaf=1, clf__min_samples_split=3, clf__n_estimators=20 \n",
        "[CV]  clf__max_depth=50, clf__min_samples_leaf=1, clf__min_samples_split=3, clf__n_estimators=20, score=0.860544 -   0.0s\n",
        "[CV] clf__max_depth=50, clf__min_samples_leaf=1, clf__min_samples_split=3, clf__n_estimators=20 \n",
        "[CV]  clf__max_depth=50, clf__min_samples_leaf=1, clf__min_samples_split=3, clf__n_estimators=20, score=0.955556 -   0.0s"
       ]
      },
      {
       "output_type": "stream",
       "stream": "stderr",
       "text": [
        "[Parallel(n_jobs=1)]: Done   1 jobs       | elapsed:    0.0s\n",
        "[Parallel(n_jobs=1)]: Done  32 jobs       | elapsed:    0.3s\n"
       ]
      },
      {
       "output_type": "stream",
       "stream": "stdout",
       "text": [
        "\n",
        "[CV] clf__max_depth=50, clf__min_samples_leaf=1, clf__min_samples_split=3, clf__n_estimators=20 \n",
        "[CV]  clf__max_depth=50, clf__min_samples_leaf=1, clf__min_samples_split=3, clf__n_estimators=20, score=0.893281 -   0.0s\n",
        "[CV] clf__max_depth=50, clf__min_samples_leaf=1, clf__min_samples_split=3, clf__n_estimators=50 \n",
        "[CV]  clf__max_depth=50, clf__min_samples_leaf=1, clf__min_samples_split=3, clf__n_estimators=50, score=0.861678 -   0.0s\n",
        "[CV] clf__max_depth=50, clf__min_samples_leaf=1, clf__min_samples_split=3, clf__n_estimators=50 \n",
        "[CV]  clf__max_depth=50, clf__min_samples_leaf=1, clf__min_samples_split=3, clf__n_estimators=50, score=0.955556 -   0.0s"
       ]
      },
      {
       "output_type": "stream",
       "stream": "stdout",
       "text": [
        "\n",
        "[CV] clf__max_depth=50, clf__min_samples_leaf=1, clf__min_samples_split=3, clf__n_estimators=50 \n",
        "[CV]  clf__max_depth=50, clf__min_samples_leaf=1, clf__min_samples_split=3, clf__n_estimators=50, score=0.893281 -   0.0s\n",
        "[CV] clf__max_depth=50, clf__min_samples_leaf=2, clf__min_samples_split=1, clf__n_estimators=5 \n",
        "[CV]  clf__max_depth=50, clf__min_samples_leaf=2, clf__min_samples_split=1, clf__n_estimators=5, score=0.899660 -   0.0s\n",
        "[CV] clf__max_depth=50, clf__min_samples_leaf=2, clf__min_samples_split=1, clf__n_estimators=5 \n",
        "[CV]  clf__max_depth=50, clf__min_samples_leaf=2, clf__min_samples_split=1, clf__n_estimators=5, score=0.840278 -   0.0s\n",
        "[CV] clf__max_depth=50, clf__min_samples_leaf=2, clf__min_samples_split=1, clf__n_estimators=5 \n",
        "[CV]  clf__max_depth=50, clf__min_samples_leaf=2, clf__min_samples_split=1, clf__n_estimators=5, score=1.000000 -   0.0s\n",
        "[CV] clf__max_depth=50, clf__min_samples_leaf=2, clf__min_samples_split=1, clf__n_estimators=10 \n",
        "[CV]  clf__max_depth=50, clf__min_samples_leaf=2, clf__min_samples_split=1, clf__n_estimators=10, score=0.861678 -   0.0s\n",
        "[CV] clf__max_depth=50, clf__min_samples_leaf=2, clf__min_samples_split=1, clf__n_estimators=10 \n",
        "[CV]  clf__max_depth=50, clf__min_samples_leaf=2, clf__min_samples_split=1, clf__n_estimators=10, score=0.900000 -   0.0s"
       ]
      },
      {
       "output_type": "stream",
       "stream": "stdout",
       "text": [
        "\n",
        "[CV] clf__max_depth=50, clf__min_samples_leaf=2, clf__min_samples_split=1, clf__n_estimators=10 \n",
        "[CV]  clf__max_depth=50, clf__min_samples_leaf=2, clf__min_samples_split=1, clf__n_estimators=10, score=0.893281 -   0.0s\n",
        "[CV] clf__max_depth=50, clf__min_samples_leaf=2, clf__min_samples_split=1, clf__n_estimators=20 \n",
        "[CV]  clf__max_depth=50, clf__min_samples_leaf=2, clf__min_samples_split=1, clf__n_estimators=20, score=0.895692 -   0.0s\n",
        "[CV] clf__max_depth=50, clf__min_samples_leaf=2, clf__min_samples_split=1, clf__n_estimators=20 \n",
        "[CV]  clf__max_depth=50, clf__min_samples_leaf=2, clf__min_samples_split=1, clf__n_estimators=20, score=0.955556 -   0.0s\n",
        "[CV] clf__max_depth=50, clf__min_samples_leaf=2, clf__min_samples_split=1, clf__n_estimators=20 \n",
        "[CV]  clf__max_depth=50, clf__min_samples_leaf=2, clf__min_samples_split=1, clf__n_estimators=20, score=0.936759 -   0.0s\n",
        "[CV] clf__max_depth=50, clf__min_samples_leaf=2, clf__min_samples_split=1, clf__n_estimators=50 \n",
        "[CV]  clf__max_depth=50, clf__min_samples_leaf=2, clf__min_samples_split=1, clf__n_estimators=50, score=0.860544 -   0.0s"
       ]
      },
      {
       "output_type": "stream",
       "stream": "stdout",
       "text": [
        "\n",
        "[CV] clf__max_depth=50, clf__min_samples_leaf=2, clf__min_samples_split=1, clf__n_estimators=50 \n",
        "[CV]  clf__max_depth=50, clf__min_samples_leaf=2, clf__min_samples_split=1, clf__n_estimators=50, score=0.955556 -   0.0s\n",
        "[CV] clf__max_depth=50, clf__min_samples_leaf=2, clf__min_samples_split=1, clf__n_estimators=50 \n",
        "[CV]  clf__max_depth=50, clf__min_samples_leaf=2, clf__min_samples_split=1, clf__n_estimators=50, score=0.893281 -   0.0s"
       ]
      },
      {
       "output_type": "stream",
       "stream": "stdout",
       "text": [
        "\n",
        "[CV] clf__max_depth=50, clf__min_samples_leaf=2, clf__min_samples_split=2, clf__n_estimators=5 \n",
        "[CV]  clf__max_depth=50, clf__min_samples_leaf=2, clf__min_samples_split=2, clf__n_estimators=5, score=0.844517 -   0.0s\n",
        "[CV] clf__max_depth=50, clf__min_samples_leaf=2, clf__min_samples_split=2, clf__n_estimators=5 \n",
        "[CV]  clf__max_depth=50, clf__min_samples_leaf=2, clf__min_samples_split=2, clf__n_estimators=5, score=0.902778 -   0.0s\n",
        "[CV] clf__max_depth=50, clf__min_samples_leaf=2, clf__min_samples_split=2, clf__n_estimators=5 \n",
        "[CV]  clf__max_depth=50, clf__min_samples_leaf=2, clf__min_samples_split=2, clf__n_estimators=5, score=0.893281 -   0.0s\n",
        "[CV] clf__max_depth=50, clf__min_samples_leaf=2, clf__min_samples_split=2, clf__n_estimators=10 \n",
        "[CV]  clf__max_depth=50, clf__min_samples_leaf=2, clf__min_samples_split=2, clf__n_estimators=10, score=0.900794 -   0.0s\n",
        "[CV] clf__max_depth=50, clf__min_samples_leaf=2, clf__min_samples_split=2, clf__n_estimators=10 \n",
        "[CV]  clf__max_depth=50, clf__min_samples_leaf=2, clf__min_samples_split=2, clf__n_estimators=10, score=0.825926 -   0.0s\n",
        "[CV] clf__max_depth=50, clf__min_samples_leaf=2, clf__min_samples_split=2, clf__n_estimators=10 \n",
        "[CV]  clf__max_depth=50, clf__min_samples_leaf=2, clf__min_samples_split=2, clf__n_estimators=10, score=0.874647 -   0.0s\n",
        "[CV] clf__max_depth=50, clf__min_samples_leaf=2, clf__min_samples_split=2, clf__n_estimators=20 \n",
        "[CV]  clf__max_depth=50, clf__min_samples_leaf=2, clf__min_samples_split=2, clf__n_estimators=20, score=0.900794 -   0.0s\n",
        "[CV] clf__max_depth=50, clf__min_samples_leaf=2, clf__min_samples_split=2, clf__n_estimators=20 \n",
        "[CV]  clf__max_depth=50, clf__min_samples_leaf=2, clf__min_samples_split=2, clf__n_estimators=20, score=0.893759 -   0.0s"
       ]
      },
      {
       "output_type": "stream",
       "stream": "stdout",
       "text": [
        "\n",
        "[CV] clf__max_depth=50, clf__min_samples_leaf=2, clf__min_samples_split=2, clf__n_estimators=20 \n",
        "[CV]  clf__max_depth=50, clf__min_samples_leaf=2, clf__min_samples_split=2, clf__n_estimators=20, score=0.942029 -   0.0s\n",
        "[CV] clf__max_depth=50, clf__min_samples_leaf=2, clf__min_samples_split=2, clf__n_estimators=50 \n",
        "[CV]  clf__max_depth=50, clf__min_samples_leaf=2, clf__min_samples_split=2, clf__n_estimators=50, score=0.899660 -   0.0s\n",
        "[CV] clf__max_depth=50, clf__min_samples_leaf=2, clf__min_samples_split=2, clf__n_estimators=50 \n",
        "[CV]  clf__max_depth=50, clf__min_samples_leaf=2, clf__min_samples_split=2, clf__n_estimators=50, score=0.955556 -   0.0s"
       ]
      },
      {
       "output_type": "stream",
       "stream": "stdout",
       "text": [
        "\n",
        "[CV] clf__max_depth=50, clf__min_samples_leaf=2, clf__min_samples_split=2, clf__n_estimators=50 \n",
        "[CV]  clf__max_depth=50, clf__min_samples_leaf=2, clf__min_samples_split=2, clf__n_estimators=50, score=0.893281 -   0.0s\n",
        "[CV] clf__max_depth=50, clf__min_samples_leaf=2, clf__min_samples_split=3, clf__n_estimators=5 \n",
        "[CV]  clf__max_depth=50, clf__min_samples_leaf=2, clf__min_samples_split=3, clf__n_estimators=5, score=0.846215 -   0.0s\n",
        "[CV] clf__max_depth=50, clf__min_samples_leaf=2, clf__min_samples_split=3, clf__n_estimators=5 \n",
        "[CV]  clf__max_depth=50, clf__min_samples_leaf=2, clf__min_samples_split=3, clf__n_estimators=5, score=0.955556 -   0.0s\n",
        "[CV] clf__max_depth=50, clf__min_samples_leaf=2, clf__min_samples_split=3, clf__n_estimators=5 \n",
        "[CV]  clf__max_depth=50, clf__min_samples_leaf=2, clf__min_samples_split=3, clf__n_estimators=5, score=0.893281 -   0.0s\n",
        "[CV] clf__max_depth=50, clf__min_samples_leaf=2, clf__min_samples_split=3, clf__n_estimators=10 \n",
        "[CV]  clf__max_depth=50, clf__min_samples_leaf=2, clf__min_samples_split=3, clf__n_estimators=10, score=0.860544 -   0.0s\n",
        "[CV] clf__max_depth=50, clf__min_samples_leaf=2, clf__min_samples_split=3, clf__n_estimators=10 \n",
        "[CV]  clf__max_depth=50, clf__min_samples_leaf=2, clf__min_samples_split=3, clf__n_estimators=10, score=0.896032 -   0.0s\n",
        "[CV] clf__max_depth=50, clf__min_samples_leaf=2, clf__min_samples_split=3, clf__n_estimators=10 \n",
        "[CV]  clf__max_depth=50, clf__min_samples_leaf=2, clf__min_samples_split=3, clf__n_estimators=10, score=0.893281 -   0.0s"
       ]
      },
      {
       "output_type": "stream",
       "stream": "stdout",
       "text": [
        "\n",
        "[CV] clf__max_depth=50, clf__min_samples_leaf=2, clf__min_samples_split=3, clf__n_estimators=20 \n",
        "[CV]  clf__max_depth=50, clf__min_samples_leaf=2, clf__min_samples_split=3, clf__n_estimators=20, score=0.900794 -   0.0s\n",
        "[CV] clf__max_depth=50, clf__min_samples_leaf=2, clf__min_samples_split=3, clf__n_estimators=20 \n",
        "[CV]  clf__max_depth=50, clf__min_samples_leaf=2, clf__min_samples_split=3, clf__n_estimators=20, score=0.896032 -   0.0s\n",
        "[CV] clf__max_depth=50, clf__min_samples_leaf=2, clf__min_samples_split=3, clf__n_estimators=20 \n",
        "[CV]  clf__max_depth=50, clf__min_samples_leaf=2, clf__min_samples_split=3, clf__n_estimators=20, score=0.939130 -   0.0s\n",
        "[CV] clf__max_depth=50, clf__min_samples_leaf=2, clf__min_samples_split=3, clf__n_estimators=50 \n",
        "[CV]  clf__max_depth=50, clf__min_samples_leaf=2, clf__min_samples_split=3, clf__n_estimators=50, score=0.900794 -   0.0s"
       ]
      },
      {
       "output_type": "stream",
       "stream": "stdout",
       "text": [
        "\n",
        "[CV] clf__max_depth=50, clf__min_samples_leaf=2, clf__min_samples_split=3, clf__n_estimators=50 \n",
        "[CV]  clf__max_depth=50, clf__min_samples_leaf=2, clf__min_samples_split=3, clf__n_estimators=50, score=0.955556 -   0.0s\n",
        "[CV] clf__max_depth=50, clf__min_samples_leaf=2, clf__min_samples_split=3, clf__n_estimators=50 \n",
        "[CV]  clf__max_depth=50, clf__min_samples_leaf=2, clf__min_samples_split=3, clf__n_estimators=50, score=0.893281 -   0.0s\n",
        "[CV] clf__max_depth=50, clf__min_samples_leaf=3, clf__min_samples_split=1, clf__n_estimators=5 \n",
        "[CV]  clf__max_depth=50, clf__min_samples_leaf=3, clf__min_samples_split=1, clf__n_estimators=5, score=0.809367 -   0.0s"
       ]
      },
      {
       "output_type": "stream",
       "stream": "stdout",
       "text": [
        "\n",
        "[CV] clf__max_depth=50, clf__min_samples_leaf=3, clf__min_samples_split=1, clf__n_estimators=5 \n",
        "[CV]  clf__max_depth=50, clf__min_samples_leaf=3, clf__min_samples_split=1, clf__n_estimators=5, score=0.835426 -   0.0s\n",
        "[CV] clf__max_depth=50, clf__min_samples_leaf=3, clf__min_samples_split=1, clf__n_estimators=5 \n",
        "[CV]  clf__max_depth=50, clf__min_samples_leaf=3, clf__min_samples_split=1, clf__n_estimators=5, score=0.877019 -   0.0s\n",
        "[CV] clf__max_depth=50, clf__min_samples_leaf=3, clf__min_samples_split=1, clf__n_estimators=10 \n",
        "[CV]  clf__max_depth=50, clf__min_samples_leaf=3, clf__min_samples_split=1, clf__n_estimators=10, score=0.863946 -   0.0s\n",
        "[CV] clf__max_depth=50, clf__min_samples_leaf=3, clf__min_samples_split=1, clf__n_estimators=10 \n",
        "[CV]  clf__max_depth=50, clf__min_samples_leaf=3, clf__min_samples_split=1, clf__n_estimators=10, score=0.842172 -   0.0s\n",
        "[CV] clf__max_depth=50, clf__min_samples_leaf=3, clf__min_samples_split=1, clf__n_estimators=10 \n",
        "[CV]  clf__max_depth=50, clf__min_samples_leaf=3, clf__min_samples_split=1, clf__n_estimators=10, score=0.893281 -   0.0s\n",
        "[CV] clf__max_depth=50, clf__min_samples_leaf=3, clf__min_samples_split=1, clf__n_estimators=20 \n",
        "[CV]  clf__max_depth=50, clf__min_samples_leaf=3, clf__min_samples_split=1, clf__n_estimators=20, score=0.847279 -   0.0s\n",
        "[CV] clf__max_depth=50, clf__min_samples_leaf=3, clf__min_samples_split=1, clf__n_estimators=20 \n",
        "[CV]  clf__max_depth=50, clf__min_samples_leaf=3, clf__min_samples_split=1, clf__n_estimators=20, score=0.900000 -   0.0s"
       ]
      },
      {
       "output_type": "stream",
       "stream": "stdout",
       "text": [
        "\n",
        "[CV] clf__max_depth=50, clf__min_samples_leaf=3, clf__min_samples_split=1, clf__n_estimators=20 \n",
        "[CV]  clf__max_depth=50, clf__min_samples_leaf=3, clf__min_samples_split=1, clf__n_estimators=20, score=0.874647 -   0.0s\n",
        "[CV] clf__max_depth=50, clf__min_samples_leaf=3, clf__min_samples_split=1, clf__n_estimators=50 \n",
        "[CV]  clf__max_depth=50, clf__min_samples_leaf=3, clf__min_samples_split=1, clf__n_estimators=50, score=0.900000 -   0.0s\n",
        "[CV] clf__max_depth=50, clf__min_samples_leaf=3, clf__min_samples_split=1, clf__n_estimators=50 \n",
        "[CV]  clf__max_depth=50, clf__min_samples_leaf=3, clf__min_samples_split=1, clf__n_estimators=50, score=0.896032 -   0.0s"
       ]
      },
      {
       "output_type": "stream",
       "stream": "stdout",
       "text": [
        "\n",
        "[CV] clf__max_depth=50, clf__min_samples_leaf=3, clf__min_samples_split=1, clf__n_estimators=50 \n",
        "[CV]  clf__max_depth=50, clf__min_samples_leaf=3, clf__min_samples_split=1, clf__n_estimators=50, score=0.936759 -   0.0s\n",
        "[CV] clf__max_depth=50, clf__min_samples_leaf=3, clf__min_samples_split=2, clf__n_estimators=5 \n",
        "[CV]  clf__max_depth=50, clf__min_samples_leaf=3, clf__min_samples_split=2, clf__n_estimators=5, score=0.770421 -   0.0s\n",
        "[CV] clf__max_depth=50, clf__min_samples_leaf=3, clf__min_samples_split=2, clf__n_estimators=5 \n",
        "[CV]  clf__max_depth=50, clf__min_samples_leaf=3, clf__min_samples_split=2, clf__n_estimators=5, score=0.779762 -   0.0s\n",
        "[CV] clf__max_depth=50, clf__min_samples_leaf=3, clf__min_samples_split=2, clf__n_estimators=5 \n",
        "[CV]  clf__max_depth=50, clf__min_samples_leaf=3, clf__min_samples_split=2, clf__n_estimators=5, score=0.819565 -   0.0s\n",
        "[CV] clf__max_depth=50, clf__min_samples_leaf=3, clf__min_samples_split=2, clf__n_estimators=10 \n",
        "[CV]  clf__max_depth=50, clf__min_samples_leaf=3, clf__min_samples_split=2, clf__n_estimators=10, score=0.805401 -   0.0s\n",
        "[CV] clf__max_depth=50, clf__min_samples_leaf=3, clf__min_samples_split=2, clf__n_estimators=10 \n",
        "[CV]  clf__max_depth=50, clf__min_samples_leaf=3, clf__min_samples_split=2, clf__n_estimators=10, score=0.871032 -   0.0s\n",
        "[CV] clf__max_depth=50, clf__min_samples_leaf=3, clf__min_samples_split=2, clf__n_estimators=10 "
       ]
      },
      {
       "output_type": "stream",
       "stream": "stdout",
       "text": [
        "\n",
        "[CV]  clf__max_depth=50, clf__min_samples_leaf=3, clf__min_samples_split=2, clf__n_estimators=10, score=0.875889 -   0.0s\n",
        "[CV] clf__max_depth=50, clf__min_samples_leaf=3, clf__min_samples_split=2, clf__n_estimators=20 \n",
        "[CV]  clf__max_depth=50, clf__min_samples_leaf=3, clf__min_samples_split=2, clf__n_estimators=20, score=0.900794 -   0.0s\n",
        "[CV] clf__max_depth=50, clf__min_samples_leaf=3, clf__min_samples_split=2, clf__n_estimators=20 \n",
        "[CV]  clf__max_depth=50, clf__min_samples_leaf=3, clf__min_samples_split=2, clf__n_estimators=20, score=0.840476 -   0.0s\n",
        "[CV] clf__max_depth=50, clf__min_samples_leaf=3, clf__min_samples_split=2, clf__n_estimators=20 \n",
        "[CV]  clf__max_depth=50, clf__min_samples_leaf=3, clf__min_samples_split=2, clf__n_estimators=20, score=0.893281 -   0.0s\n",
        "[CV] clf__max_depth=50, clf__min_samples_leaf=3, clf__min_samples_split=2, clf__n_estimators=50 \n",
        "[CV]  clf__max_depth=50, clf__min_samples_leaf=3, clf__min_samples_split=2, clf__n_estimators=50, score=0.899660 -   0.0s"
       ]
      },
      {
       "output_type": "stream",
       "stream": "stdout",
       "text": [
        "\n",
        "[CV] clf__max_depth=50, clf__min_samples_leaf=3, clf__min_samples_split=2, clf__n_estimators=50 \n",
        "[CV]  clf__max_depth=50, clf__min_samples_leaf=3, clf__min_samples_split=2, clf__n_estimators=50, score=0.896032 -   0.0s\n",
        "[CV] clf__max_depth=50, clf__min_samples_leaf=3, clf__min_samples_split=2, clf__n_estimators=50 \n",
        "[CV]  clf__max_depth=50, clf__min_samples_leaf=3, clf__min_samples_split=2, clf__n_estimators=50, score=0.874647 -   0.0s\n",
        "[CV] clf__max_depth=50, clf__min_samples_leaf=3, clf__min_samples_split=3, clf__n_estimators=5 \n",
        "[CV]  clf__max_depth=50, clf__min_samples_leaf=3, clf__min_samples_split=3, clf__n_estimators=5, score=0.863946 -   0.0s"
       ]
      },
      {
       "output_type": "stream",
       "stream": "stdout",
       "text": [
        "\n",
        "[CV] clf__max_depth=50, clf__min_samples_leaf=3, clf__min_samples_split=3, clf__n_estimators=5 \n",
        "[CV]  clf__max_depth=50, clf__min_samples_leaf=3, clf__min_samples_split=3, clf__n_estimators=5, score=0.817403 -   0.0s\n",
        "[CV] clf__max_depth=50, clf__min_samples_leaf=3, clf__min_samples_split=3, clf__n_estimators=5 \n",
        "[CV]  clf__max_depth=50, clf__min_samples_leaf=3, clf__min_samples_split=3, clf__n_estimators=5, score=0.893281 -   0.0s\n",
        "[CV] clf__max_depth=50, clf__min_samples_leaf=3, clf__min_samples_split=3, clf__n_estimators=10 \n",
        "[CV]  clf__max_depth=50, clf__min_samples_leaf=3, clf__min_samples_split=3, clf__n_estimators=10, score=0.900794 -   0.0s\n",
        "[CV] clf__max_depth=50, clf__min_samples_leaf=3, clf__min_samples_split=3, clf__n_estimators=10 \n",
        "[CV]  clf__max_depth=50, clf__min_samples_leaf=3, clf__min_samples_split=3, clf__n_estimators=10, score=0.861848 -   0.0s\n",
        "[CV] clf__max_depth=50, clf__min_samples_leaf=3, clf__min_samples_split=3, clf__n_estimators=10 \n",
        "[CV]  clf__max_depth=50, clf__min_samples_leaf=3, clf__min_samples_split=3, clf__n_estimators=10, score=0.828270 -   0.0s\n",
        "[CV] clf__max_depth=50, clf__min_samples_leaf=3, clf__min_samples_split=3, clf__n_estimators=20 \n",
        "[CV]  clf__max_depth=50, clf__min_samples_leaf=3, clf__min_samples_split=3, clf__n_estimators=20, score=0.900794 -   0.0s\n",
        "[CV] clf__max_depth=50, clf__min_samples_leaf=3, clf__min_samples_split=3, clf__n_estimators=20 \n",
        "[CV]  clf__max_depth=50, clf__min_samples_leaf=3, clf__min_samples_split=3, clf__n_estimators=20, score=0.843254 -   0.0s"
       ]
      },
      {
       "output_type": "stream",
       "stream": "stdout",
       "text": [
        "\n",
        "[CV] clf__max_depth=50, clf__min_samples_leaf=3, clf__min_samples_split=3, clf__n_estimators=20 \n",
        "[CV]  clf__max_depth=50, clf__min_samples_leaf=3, clf__min_samples_split=3, clf__n_estimators=20, score=0.936759 -   0.0s\n",
        "[CV] clf__max_depth=50, clf__min_samples_leaf=3, clf__min_samples_split=3, clf__n_estimators=50 \n",
        "[CV]  clf__max_depth=50, clf__min_samples_leaf=3, clf__min_samples_split=3, clf__n_estimators=50, score=0.900794 -   0.0s\n",
        "[CV] clf__max_depth=50, clf__min_samples_leaf=3, clf__min_samples_split=3, clf__n_estimators=50 \n",
        "[CV]  clf__max_depth=50, clf__min_samples_leaf=3, clf__min_samples_split=3, clf__n_estimators=50, score=0.854365 -   0.0s"
       ]
      },
      {
       "output_type": "stream",
       "stream": "stdout",
       "text": [
        "\n",
        "[CV] clf__max_depth=50, clf__min_samples_leaf=3, clf__min_samples_split=3, clf__n_estimators=50 \n",
        "[CV]  clf__max_depth=50, clf__min_samples_leaf=3, clf__min_samples_split=3, clf__n_estimators=50, score=0.893281 -   0.0s\n",
        "[CV] clf__max_depth=150, clf__min_samples_leaf=1, clf__min_samples_split=1, clf__n_estimators=5 \n",
        "[CV]  clf__max_depth=150, clf__min_samples_leaf=1, clf__min_samples_split=1, clf__n_estimators=5, score=0.921202 -   0.0s\n",
        "[CV] clf__max_depth=150, clf__min_samples_leaf=1, clf__min_samples_split=1, clf__n_estimators=5 \n",
        "[CV]  clf__max_depth=150, clf__min_samples_leaf=1, clf__min_samples_split=1, clf__n_estimators=5, score=0.955556 -   0.0s\n",
        "[CV] clf__max_depth=150, clf__min_samples_leaf=1, clf__min_samples_split=1, clf__n_estimators=5 \n",
        "[CV]  clf__max_depth=150, clf__min_samples_leaf=1, clf__min_samples_split=1, clf__n_estimators=5, score=0.893281 -   0.0s\n",
        "[CV] clf__max_depth=150, clf__min_samples_leaf=1, clf__min_samples_split=1, clf__n_estimators=10 \n",
        "[CV]  clf__max_depth=150, clf__min_samples_leaf=1, clf__min_samples_split=1, clf__n_estimators=10, score=0.920068 -   0.0s\n",
        "[CV] clf__max_depth=150, clf__min_samples_leaf=1, clf__min_samples_split=1, clf__n_estimators=10 \n",
        "[CV]  clf__max_depth=150, clf__min_samples_leaf=1, clf__min_samples_split=1, clf__n_estimators=10, score=0.955556 -   0.0s"
       ]
      },
      {
       "output_type": "stream",
       "stream": "stdout",
       "text": [
        "\n",
        "[CV] clf__max_depth=150, clf__min_samples_leaf=1, clf__min_samples_split=1, clf__n_estimators=10 \n",
        "[CV]  clf__max_depth=150, clf__min_samples_leaf=1, clf__min_samples_split=1, clf__n_estimators=10, score=0.942029 -   0.0s\n",
        "[CV] clf__max_depth=150, clf__min_samples_leaf=1, clf__min_samples_split=1, clf__n_estimators=20 \n",
        "[CV]  clf__max_depth=150, clf__min_samples_leaf=1, clf__min_samples_split=1, clf__n_estimators=20, score=0.861678 -   0.0s\n",
        "[CV] clf__max_depth=150, clf__min_samples_leaf=1, clf__min_samples_split=1, clf__n_estimators=20 \n",
        "[CV]  clf__max_depth=150, clf__min_samples_leaf=1, clf__min_samples_split=1, clf__n_estimators=20, score=0.955556 -   0.0s\n",
        "[CV] clf__max_depth=150, clf__min_samples_leaf=1, clf__min_samples_split=1, clf__n_estimators=20 \n",
        "[CV]  clf__max_depth=150, clf__min_samples_leaf=1, clf__min_samples_split=1, clf__n_estimators=20, score=0.936759 -   0.0s\n",
        "[CV] clf__max_depth=150, clf__min_samples_leaf=1, clf__min_samples_split=1, clf__n_estimators=50 \n",
        "[CV]  clf__max_depth=150, clf__min_samples_leaf=1, clf__min_samples_split=1, clf__n_estimators=50, score=0.860544 -   0.0s"
       ]
      },
      {
       "output_type": "stream",
       "stream": "stdout",
       "text": [
        "\n",
        "[CV] clf__max_depth=150, clf__min_samples_leaf=1, clf__min_samples_split=1, clf__n_estimators=50 \n",
        "[CV]  clf__max_depth=150, clf__min_samples_leaf=1, clf__min_samples_split=1, clf__n_estimators=50, score=0.955556 -   0.0s\n",
        "[CV] clf__max_depth=150, clf__min_samples_leaf=1, clf__min_samples_split=1, clf__n_estimators=50 \n",
        "[CV]  clf__max_depth=150, clf__min_samples_leaf=1, clf__min_samples_split=1, clf__n_estimators=50, score=0.936759 -   0.0s"
       ]
      },
      {
       "output_type": "stream",
       "stream": "stdout",
       "text": [
        "\n",
        "[CV] clf__max_depth=150, clf__min_samples_leaf=1, clf__min_samples_split=2, clf__n_estimators=5 \n",
        "[CV]  clf__max_depth=150, clf__min_samples_leaf=1, clf__min_samples_split=2, clf__n_estimators=5, score=0.899660 -   0.0s\n",
        "[CV] clf__max_depth=150, clf__min_samples_leaf=1, clf__min_samples_split=2, clf__n_estimators=5 \n",
        "[CV]  clf__max_depth=150, clf__min_samples_leaf=1, clf__min_samples_split=2, clf__n_estimators=5, score=0.878009 -   0.0s\n",
        "[CV] clf__max_depth=150, clf__min_samples_leaf=1, clf__min_samples_split=2, clf__n_estimators=5 \n",
        "[CV]  clf__max_depth=150, clf__min_samples_leaf=1, clf__min_samples_split=2, clf__n_estimators=5, score=0.852174 -   0.0s\n",
        "[CV] clf__max_depth=150, clf__min_samples_leaf=1, clf__min_samples_split=2, clf__n_estimators=10 \n",
        "[CV]  clf__max_depth=150, clf__min_samples_leaf=1, clf__min_samples_split=2, clf__n_estimators=10, score=0.861678 -   0.0s\n",
        "[CV] clf__max_depth=150, clf__min_samples_leaf=1, clf__min_samples_split=2, clf__n_estimators=10 \n",
        "[CV]  clf__max_depth=150, clf__min_samples_leaf=1, clf__min_samples_split=2, clf__n_estimators=10, score=0.857143 -   0.0s\n",
        "[CV] clf__max_depth=150, clf__min_samples_leaf=1, clf__min_samples_split=2, clf__n_estimators=10 \n",
        "[CV]  clf__max_depth=150, clf__min_samples_leaf=1, clf__min_samples_split=2, clf__n_estimators=10, score=0.893281 -   0.0s\n",
        "[CV] clf__max_depth=150, clf__min_samples_leaf=1, clf__min_samples_split=2, clf__n_estimators=20 \n",
        "[CV]  clf__max_depth=150, clf__min_samples_leaf=1, clf__min_samples_split=2, clf__n_estimators=20, score=0.900794 -   0.0s\n",
        "[CV] clf__max_depth=150, clf__min_samples_leaf=1, clf__min_samples_split=2, clf__n_estimators=20 \n",
        "[CV]  clf__max_depth=150, clf__min_samples_leaf=1, clf__min_samples_split=2, clf__n_estimators=20, score=0.955556 -   0.0s"
       ]
      },
      {
       "output_type": "stream",
       "stream": "stdout",
       "text": [
        "\n",
        "[CV] clf__max_depth=150, clf__min_samples_leaf=1, clf__min_samples_split=2, clf__n_estimators=20 \n",
        "[CV]  clf__max_depth=150, clf__min_samples_leaf=1, clf__min_samples_split=2, clf__n_estimators=20, score=0.893281 -   0.0s\n",
        "[CV] clf__max_depth=150, clf__min_samples_leaf=1, clf__min_samples_split=2, clf__n_estimators=50 \n",
        "[CV]  clf__max_depth=150, clf__min_samples_leaf=1, clf__min_samples_split=2, clf__n_estimators=50, score=0.860544 -   0.0s\n",
        "[CV] clf__max_depth=150, clf__min_samples_leaf=1, clf__min_samples_split=2, clf__n_estimators=50 \n",
        "[CV]  clf__max_depth=150, clf__min_samples_leaf=1, clf__min_samples_split=2, clf__n_estimators=50, score=0.955556 -   0.0s"
       ]
      },
      {
       "output_type": "stream",
       "stream": "stdout",
       "text": [
        "\n",
        "[CV] clf__max_depth=150, clf__min_samples_leaf=1, clf__min_samples_split=2, clf__n_estimators=50 \n",
        "[CV]  clf__max_depth=150, clf__min_samples_leaf=1, clf__min_samples_split=2, clf__n_estimators=50, score=0.893281 -   0.0s\n",
        "[CV] clf__max_depth=150, clf__min_samples_leaf=1, clf__min_samples_split=3, clf__n_estimators=5 \n",
        "[CV]  clf__max_depth=150, clf__min_samples_leaf=1, clf__min_samples_split=3, clf__n_estimators=5, score=0.960884 -   0.0s\n",
        "[CV] clf__max_depth=150, clf__min_samples_leaf=1, clf__min_samples_split=3, clf__n_estimators=5 \n",
        "[CV]  clf__max_depth=150, clf__min_samples_leaf=1, clf__min_samples_split=3, clf__n_estimators=5, score=0.900000 -   0.0s\n",
        "[CV] clf__max_depth=150, clf__min_samples_leaf=1, clf__min_samples_split=3, clf__n_estimators=5 \n",
        "[CV]  clf__max_depth=150, clf__min_samples_leaf=1, clf__min_samples_split=3, clf__n_estimators=5, score=0.867194 -   0.0s\n",
        "[CV] clf__max_depth=150, clf__min_samples_leaf=1, clf__min_samples_split=3, clf__n_estimators=10 \n",
        "[CV]  clf__max_depth=150, clf__min_samples_leaf=1, clf__min_samples_split=3, clf__n_estimators=10, score=0.860544 -   0.0s\n",
        "[CV] clf__max_depth=150, clf__min_samples_leaf=1, clf__min_samples_split=3, clf__n_estimators=10 \n",
        "[CV]  clf__max_depth=150, clf__min_samples_leaf=1, clf__min_samples_split=3, clf__n_estimators=10, score=1.000000 -   0.0s"
       ]
      },
      {
       "output_type": "stream",
       "stream": "stdout",
       "text": [
        "\n",
        "[CV] clf__max_depth=150, clf__min_samples_leaf=1, clf__min_samples_split=3, clf__n_estimators=10 \n",
        "[CV]  clf__max_depth=150, clf__min_samples_leaf=1, clf__min_samples_split=3, clf__n_estimators=10, score=0.936759 -   0.0s\n",
        "[CV] clf__max_depth=150, clf__min_samples_leaf=1, clf__min_samples_split=3, clf__n_estimators=20 \n",
        "[CV]  clf__max_depth=150, clf__min_samples_leaf=1, clf__min_samples_split=3, clf__n_estimators=20, score=0.899660 -   0.0s\n",
        "[CV] clf__max_depth=150, clf__min_samples_leaf=1, clf__min_samples_split=3, clf__n_estimators=20 \n",
        "[CV]  clf__max_depth=150, clf__min_samples_leaf=1, clf__min_samples_split=3, clf__n_estimators=20, score=0.955556 -   0.0s\n",
        "[CV] clf__max_depth=150, clf__min_samples_leaf=1, clf__min_samples_split=3, clf__n_estimators=20 \n",
        "[CV]  clf__max_depth=150, clf__min_samples_leaf=1, clf__min_samples_split=3, clf__n_estimators=20, score=0.936759 -   0.0s\n",
        "[CV] clf__max_depth=150, clf__min_samples_leaf=1, clf__min_samples_split=3, clf__n_estimators=50 \n",
        "[CV]  clf__max_depth=150, clf__min_samples_leaf=1, clf__min_samples_split=3, clf__n_estimators=50, score=0.860544 -   0.0s"
       ]
      },
      {
       "output_type": "stream",
       "stream": "stdout",
       "text": [
        "\n",
        "[CV] clf__max_depth=150, clf__min_samples_leaf=1, clf__min_samples_split=3, clf__n_estimators=50 \n",
        "[CV]  clf__max_depth=150, clf__min_samples_leaf=1, clf__min_samples_split=3, clf__n_estimators=50, score=0.955556 -   0.0s\n",
        "[CV] clf__max_depth=150, clf__min_samples_leaf=1, clf__min_samples_split=3, clf__n_estimators=50 \n",
        "[CV]  clf__max_depth=150, clf__min_samples_leaf=1, clf__min_samples_split=3, clf__n_estimators=50, score=0.936759 -   0.0s"
       ]
      },
      {
       "output_type": "stream",
       "stream": "stdout",
       "text": [
        "\n",
        "[CV] clf__max_depth=150, clf__min_samples_leaf=2, clf__min_samples_split=1, clf__n_estimators=5 \n",
        "[CV]  clf__max_depth=150, clf__min_samples_leaf=2, clf__min_samples_split=1, clf__n_estimators=5, score=0.899660 -   0.0s\n",
        "[CV] clf__max_depth=150, clf__min_samples_leaf=2, clf__min_samples_split=1, clf__n_estimators=5 \n",
        "[CV]  clf__max_depth=150, clf__min_samples_leaf=2, clf__min_samples_split=1, clf__n_estimators=5, score=0.771886 -   0.0s\n",
        "[CV] clf__max_depth=150, clf__min_samples_leaf=2, clf__min_samples_split=1, clf__n_estimators=5 \n",
        "[CV]  clf__max_depth=150, clf__min_samples_leaf=2, clf__min_samples_split=1, clf__n_estimators=5, score=0.939130 -   0.0s\n",
        "[CV] clf__max_depth=150, clf__min_samples_leaf=2, clf__min_samples_split=1, clf__n_estimators=10 \n",
        "[CV]  clf__max_depth=150, clf__min_samples_leaf=2, clf__min_samples_split=1, clf__n_estimators=10, score=0.809382 -   0.0s\n",
        "[CV] clf__max_depth=150, clf__min_samples_leaf=2, clf__min_samples_split=1, clf__n_estimators=10 \n",
        "[CV]  clf__max_depth=150, clf__min_samples_leaf=2, clf__min_samples_split=1, clf__n_estimators=10, score=0.940476 -   0.0s\n",
        "[CV] clf__max_depth=150, clf__min_samples_leaf=2, clf__min_samples_split=1, clf__n_estimators=10 \n",
        "[CV]  clf__max_depth=150, clf__min_samples_leaf=2, clf__min_samples_split=1, clf__n_estimators=10, score=0.936759 -   0.0s\n",
        "[CV] clf__max_depth=150, clf__min_samples_leaf=2, clf__min_samples_split=1, clf__n_estimators=20 \n",
        "[CV]  clf__max_depth=150, clf__min_samples_leaf=2, clf__min_samples_split=1, clf__n_estimators=20, score=0.900794 -   0.0s\n",
        "[CV] clf__max_depth=150, clf__min_samples_leaf=2, clf__min_samples_split=1, clf__n_estimators=20 \n",
        "[CV]  clf__max_depth=150, clf__min_samples_leaf=2, clf__min_samples_split=1, clf__n_estimators=20, score=0.955556 -   0.0s"
       ]
      },
      {
       "output_type": "stream",
       "stream": "stdout",
       "text": [
        "\n",
        "[CV] clf__max_depth=150, clf__min_samples_leaf=2, clf__min_samples_split=1, clf__n_estimators=20 \n",
        "[CV]  clf__max_depth=150, clf__min_samples_leaf=2, clf__min_samples_split=1, clf__n_estimators=20, score=0.936759 -   0.0s\n",
        "[CV] clf__max_depth=150, clf__min_samples_leaf=2, clf__min_samples_split=1, clf__n_estimators=50 \n",
        "[CV]  clf__max_depth=150, clf__min_samples_leaf=2, clf__min_samples_split=1, clf__n_estimators=50, score=0.861678 -   0.0s\n",
        "[CV] clf__max_depth=150, clf__min_samples_leaf=2, clf__min_samples_split=1, clf__n_estimators=50 \n",
        "[CV]  clf__max_depth=150, clf__min_samples_leaf=2, clf__min_samples_split=1, clf__n_estimators=50, score=0.894949 -   0.0s"
       ]
      },
      {
       "output_type": "stream",
       "stream": "stdout",
       "text": [
        "\n",
        "[CV] clf__max_depth=150, clf__min_samples_leaf=2, clf__min_samples_split=1, clf__n_estimators=50 \n",
        "[CV]  clf__max_depth=150, clf__min_samples_leaf=2, clf__min_samples_split=1, clf__n_estimators=50, score=0.893281 -   0.0s\n",
        "[CV] clf__max_depth=150, clf__min_samples_leaf=2, clf__min_samples_split=2, clf__n_estimators=5 \n",
        "[CV]  clf__max_depth=150, clf__min_samples_leaf=2, clf__min_samples_split=2, clf__n_estimators=5, score=0.964286 -   0.0s\n",
        "[CV] clf__max_depth=150, clf__min_samples_leaf=2, clf__min_samples_split=2, clf__n_estimators=5 \n",
        "[CV]  clf__max_depth=150, clf__min_samples_leaf=2, clf__min_samples_split=2, clf__n_estimators=5, score=0.922454 -   0.0s\n",
        "[CV] clf__max_depth=150, clf__min_samples_leaf=2, clf__min_samples_split=2, clf__n_estimators=5 \n",
        "[CV]  clf__max_depth=150, clf__min_samples_leaf=2, clf__min_samples_split=2, clf__n_estimators=5, score=0.936759 -   0.0s\n",
        "[CV] clf__max_depth=150, clf__min_samples_leaf=2, clf__min_samples_split=2, clf__n_estimators=10 \n",
        "[CV]  clf__max_depth=150, clf__min_samples_leaf=2, clf__min_samples_split=2, clf__n_estimators=10, score=0.900794 -   0.0s\n",
        "[CV] clf__max_depth=150, clf__min_samples_leaf=2, clf__min_samples_split=2, clf__n_estimators=10 \n",
        "[CV]  clf__max_depth=150, clf__min_samples_leaf=2, clf__min_samples_split=2, clf__n_estimators=10, score=0.955556 -   0.0s\n",
        "[CV] clf__max_depth=150, clf__min_samples_leaf=2, clf__min_samples_split=2, clf__n_estimators=10 \n",
        "[CV]  clf__max_depth=150, clf__min_samples_leaf=2, clf__min_samples_split=2, clf__n_estimators=10, score=0.893281 -   0.0s"
       ]
      },
      {
       "output_type": "stream",
       "stream": "stdout",
       "text": [
        "\n",
        "[CV] clf__max_depth=150, clf__min_samples_leaf=2, clf__min_samples_split=2, clf__n_estimators=20 \n",
        "[CV]  clf__max_depth=150, clf__min_samples_leaf=2, clf__min_samples_split=2, clf__n_estimators=20, score=0.960317 -   0.0s\n",
        "[CV] clf__max_depth=150, clf__min_samples_leaf=2, clf__min_samples_split=2, clf__n_estimators=20 \n",
        "[CV]  clf__max_depth=150, clf__min_samples_leaf=2, clf__min_samples_split=2, clf__n_estimators=20, score=0.896032 -   0.0s\n",
        "[CV] clf__max_depth=150, clf__min_samples_leaf=2, clf__min_samples_split=2, clf__n_estimators=20 \n",
        "[CV]  clf__max_depth=150, clf__min_samples_leaf=2, clf__min_samples_split=2, clf__n_estimators=20, score=0.893281 -   0.0s\n",
        "[CV] clf__max_depth=150, clf__min_samples_leaf=2, clf__min_samples_split=2, clf__n_estimators=50 \n",
        "[CV]  clf__max_depth=150, clf__min_samples_leaf=2, clf__min_samples_split=2, clf__n_estimators=50, score=0.960317 -   0.0s"
       ]
      },
      {
       "output_type": "stream",
       "stream": "stdout",
       "text": [
        "\n",
        "[CV] clf__max_depth=150, clf__min_samples_leaf=2, clf__min_samples_split=2, clf__n_estimators=50 \n",
        "[CV]  clf__max_depth=150, clf__min_samples_leaf=2, clf__min_samples_split=2, clf__n_estimators=50, score=0.955556 -   0.0s\n",
        "[CV] clf__max_depth=150, clf__min_samples_leaf=2, clf__min_samples_split=2, clf__n_estimators=50 \n",
        "[CV]  clf__max_depth=150, clf__min_samples_leaf=2, clf__min_samples_split=2, clf__n_estimators=50, score=0.893281 -   0.0s\n",
        "[CV] clf__max_depth=150, clf__min_samples_leaf=2, clf__min_samples_split=3, clf__n_estimators=5 \n",
        "[CV]  clf__max_depth=150, clf__min_samples_leaf=2, clf__min_samples_split=3, clf__n_estimators=5, score=0.808163 -   0.0s"
       ]
      },
      {
       "output_type": "stream",
       "stream": "stdout",
       "text": [
        "\n",
        "[CV] clf__max_depth=150, clf__min_samples_leaf=2, clf__min_samples_split=3, clf__n_estimators=5 \n",
        "[CV]  clf__max_depth=150, clf__min_samples_leaf=2, clf__min_samples_split=3, clf__n_estimators=5, score=0.955556 -   0.0s\n",
        "[CV] clf__max_depth=150, clf__min_samples_leaf=2, clf__min_samples_split=3, clf__n_estimators=5 \n",
        "[CV]  clf__max_depth=150, clf__min_samples_leaf=2, clf__min_samples_split=3, clf__n_estimators=5, score=0.875889 -   0.0s\n",
        "[CV] clf__max_depth=150, clf__min_samples_leaf=2, clf__min_samples_split=3, clf__n_estimators=10 \n",
        "[CV]  clf__max_depth=150, clf__min_samples_leaf=2, clf__min_samples_split=3, clf__n_estimators=10, score=0.826389 -   0.0s\n",
        "[CV] clf__max_depth=150, clf__min_samples_leaf=2, clf__min_samples_split=3, clf__n_estimators=10 \n",
        "[CV]  clf__max_depth=150, clf__min_samples_leaf=2, clf__min_samples_split=3, clf__n_estimators=10, score=0.861111 -   0.0s\n",
        "[CV] clf__max_depth=150, clf__min_samples_leaf=2, clf__min_samples_split=3, clf__n_estimators=10 \n",
        "[CV]  clf__max_depth=150, clf__min_samples_leaf=2, clf__min_samples_split=3, clf__n_estimators=10, score=0.893281 -   0.0s\n",
        "[CV] clf__max_depth=150, clf__min_samples_leaf=2, clf__min_samples_split=3, clf__n_estimators=20 \n",
        "[CV]  clf__max_depth=150, clf__min_samples_leaf=2, clf__min_samples_split=3, clf__n_estimators=20, score=0.900794 -   0.0s\n",
        "[CV] clf__max_depth=150, clf__min_samples_leaf=2, clf__min_samples_split=3, clf__n_estimators=20 \n",
        "[CV]  clf__max_depth=150, clf__min_samples_leaf=2, clf__min_samples_split=3, clf__n_estimators=20, score=0.900000 -   0.0s"
       ]
      },
      {
       "output_type": "stream",
       "stream": "stdout",
       "text": [
        "\n",
        "[CV] clf__max_depth=150, clf__min_samples_leaf=2, clf__min_samples_split=3, clf__n_estimators=20 \n",
        "[CV]  clf__max_depth=150, clf__min_samples_leaf=2, clf__min_samples_split=3, clf__n_estimators=20, score=0.893281 -   0.0s\n",
        "[CV] clf__max_depth=150, clf__min_samples_leaf=2, clf__min_samples_split=3, clf__n_estimators=50 \n",
        "[CV]  clf__max_depth=150, clf__min_samples_leaf=2, clf__min_samples_split=3, clf__n_estimators=50, score=0.900794 -   0.0s\n",
        "[CV] clf__max_depth=150, clf__min_samples_leaf=2, clf__min_samples_split=3, clf__n_estimators=50 \n",
        "[CV]  clf__max_depth=150, clf__min_samples_leaf=2, clf__min_samples_split=3, clf__n_estimators=50, score=0.896032 -   0.0s"
       ]
      },
      {
       "output_type": "stream",
       "stream": "stdout",
       "text": [
        "\n",
        "[CV] clf__max_depth=150, clf__min_samples_leaf=2, clf__min_samples_split=3, clf__n_estimators=50 \n",
        "[CV]  clf__max_depth=150, clf__min_samples_leaf=2, clf__min_samples_split=3, clf__n_estimators=50, score=0.936759 -   0.0s\n",
        "[CV] clf__max_depth=150, clf__min_samples_leaf=3, clf__min_samples_split=1, clf__n_estimators=5 \n",
        "[CV]  clf__max_depth=150, clf__min_samples_leaf=3, clf__min_samples_split=1, clf__n_estimators=5, score=0.862358 -   0.0s\n",
        "[CV] clf__max_depth=150, clf__min_samples_leaf=3, clf__min_samples_split=1, clf__n_estimators=5 \n",
        "[CV]  clf__max_depth=150, clf__min_samples_leaf=3, clf__min_samples_split=1, clf__n_estimators=5, score=0.817403 -   0.0s\n",
        "[CV] clf__max_depth=150, clf__min_samples_leaf=3, clf__min_samples_split=1, clf__n_estimators=5 \n",
        "[CV]  clf__max_depth=150, clf__min_samples_leaf=3, clf__min_samples_split=1, clf__n_estimators=5, score=0.877019 -   0.0s\n",
        "[CV] clf__max_depth=150, clf__min_samples_leaf=3, clf__min_samples_split=1, clf__n_estimators=10 \n",
        "[CV]  clf__max_depth=150, clf__min_samples_leaf=3, clf__min_samples_split=1, clf__n_estimators=10, score=0.873583 -   0.0s\n",
        "[CV] clf__max_depth=150, clf__min_samples_leaf=3, clf__min_samples_split=1, clf__n_estimators=10 \n",
        "[CV]  clf__max_depth=150, clf__min_samples_leaf=3, clf__min_samples_split=1, clf__n_estimators=10, score=0.840972 -   0.0s\n",
        "[CV] clf__max_depth=150, clf__min_samples_leaf=3, clf__min_samples_split=1, clf__n_estimators=10 \n",
        "[CV]  clf__max_depth=150, clf__min_samples_leaf=3, clf__min_samples_split=1, clf__n_estimators=10, score=0.936759 -   0.0s"
       ]
      },
      {
       "output_type": "stream",
       "stream": "stdout",
       "text": [
        "\n",
        "[CV] clf__max_depth=150, clf__min_samples_leaf=3, clf__min_samples_split=1, clf__n_estimators=20 \n",
        "[CV]  clf__max_depth=150, clf__min_samples_leaf=3, clf__min_samples_split=1, clf__n_estimators=20, score=0.959184 -   0.0s\n",
        "[CV] clf__max_depth=150, clf__min_samples_leaf=3, clf__min_samples_split=1, clf__n_estimators=20 \n",
        "[CV]  clf__max_depth=150, clf__min_samples_leaf=3, clf__min_samples_split=1, clf__n_estimators=20, score=0.840972 -   0.0s\n",
        "[CV] clf__max_depth=150, clf__min_samples_leaf=3, clf__min_samples_split=1, clf__n_estimators=20 \n",
        "[CV]  clf__max_depth=150, clf__min_samples_leaf=3, clf__min_samples_split=1, clf__n_estimators=20, score=0.877019 -   0.0s\n",
        "[CV] clf__max_depth=150, clf__min_samples_leaf=3, clf__min_samples_split=1, clf__n_estimators=50 \n",
        "[CV]  clf__max_depth=150, clf__min_samples_leaf=3, clf__min_samples_split=1, clf__n_estimators=50, score=0.900000 -   0.0s"
       ]
      },
      {
       "output_type": "stream",
       "stream": "stdout",
       "text": [
        "\n",
        "[CV] clf__max_depth=150, clf__min_samples_leaf=3, clf__min_samples_split=1, clf__n_estimators=50 \n",
        "[CV]  clf__max_depth=150, clf__min_samples_leaf=3, clf__min_samples_split=1, clf__n_estimators=50, score=0.896032 -   0.0s\n",
        "[CV] clf__max_depth=150, clf__min_samples_leaf=3, clf__min_samples_split=1, clf__n_estimators=50 \n",
        "[CV]  clf__max_depth=150, clf__min_samples_leaf=3, clf__min_samples_split=1, clf__n_estimators=50, score=0.893281 -   0.0s"
       ]
      },
      {
       "output_type": "stream",
       "stream": "stdout",
       "text": [
        "\n",
        "[CV] clf__max_depth=150, clf__min_samples_leaf=3, clf__min_samples_split=2, clf__n_estimators=5 \n",
        "[CV]  clf__max_depth=150, clf__min_samples_leaf=3, clf__min_samples_split=2, clf__n_estimators=5, score=0.812088 -   0.0s\n",
        "[CV] clf__max_depth=150, clf__min_samples_leaf=3, clf__min_samples_split=2, clf__n_estimators=5 \n",
        "[CV]  clf__max_depth=150, clf__min_samples_leaf=3, clf__min_samples_split=2, clf__n_estimators=5, score=0.788203 -   0.0s\n",
        "[CV] clf__max_depth=150, clf__min_samples_leaf=3, clf__min_samples_split=2, clf__n_estimators=5 \n",
        "[CV]  clf__max_depth=150, clf__min_samples_leaf=3, clf__min_samples_split=2, clf__n_estimators=5, score=0.876812 -   0.0s\n",
        "[CV] clf__max_depth=150, clf__min_samples_leaf=3, clf__min_samples_split=2, clf__n_estimators=10 \n",
        "[CV]  clf__max_depth=150, clf__min_samples_leaf=3, clf__min_samples_split=2, clf__n_estimators=10, score=0.808163 -   0.0s\n",
        "[CV] clf__max_depth=150, clf__min_samples_leaf=3, clf__min_samples_split=2, clf__n_estimators=10 \n",
        "[CV]  clf__max_depth=150, clf__min_samples_leaf=3, clf__min_samples_split=2, clf__n_estimators=10, score=0.854365 -   0.0s\n",
        "[CV] clf__max_depth=150, clf__min_samples_leaf=3, clf__min_samples_split=2, clf__n_estimators=10 \n",
        "[CV]  clf__max_depth=150, clf__min_samples_leaf=3, clf__min_samples_split=2, clf__n_estimators=10, score=0.767194 -   0.0s\n",
        "[CV] clf__max_depth=150, clf__min_samples_leaf=3, clf__min_samples_split=2, clf__n_estimators=20 \n",
        "[CV]  clf__max_depth=150, clf__min_samples_leaf=3, clf__min_samples_split=2, clf__n_estimators=20, score=0.921202 -   0.0s\n",
        "[CV] clf__max_depth=150, clf__min_samples_leaf=3, clf__min_samples_split=2, clf__n_estimators=20 \n",
        "[CV]  clf__max_depth=150, clf__min_samples_leaf=3, clf__min_samples_split=2, clf__n_estimators=20, score=0.861111 -   0.0s"
       ]
      },
      {
       "output_type": "stream",
       "stream": "stdout",
       "text": [
        "\n",
        "[CV] clf__max_depth=150, clf__min_samples_leaf=3, clf__min_samples_split=2, clf__n_estimators=20 \n",
        "[CV]  clf__max_depth=150, clf__min_samples_leaf=3, clf__min_samples_split=2, clf__n_estimators=20, score=0.936759 -   0.0s\n",
        "[CV] clf__max_depth=150, clf__min_samples_leaf=3, clf__min_samples_split=2, clf__n_estimators=50 \n",
        "[CV]  clf__max_depth=150, clf__min_samples_leaf=3, clf__min_samples_split=2, clf__n_estimators=50, score=0.900794 -   0.0s\n",
        "[CV] clf__max_depth=150, clf__min_samples_leaf=3, clf__min_samples_split=2, clf__n_estimators=50 \n",
        "[CV]  clf__max_depth=150, clf__min_samples_leaf=3, clf__min_samples_split=2, clf__n_estimators=50, score=0.896032 -   0.0s"
       ]
      },
      {
       "output_type": "stream",
       "stream": "stdout",
       "text": [
        "\n",
        "[CV] clf__max_depth=150, clf__min_samples_leaf=3, clf__min_samples_split=2, clf__n_estimators=50 \n",
        "[CV]  clf__max_depth=150, clf__min_samples_leaf=3, clf__min_samples_split=2, clf__n_estimators=50, score=0.874647 -   0.0s\n",
        "[CV] clf__max_depth=150, clf__min_samples_leaf=3, clf__min_samples_split=3, clf__n_estimators=5 \n",
        "[CV]  clf__max_depth=150, clf__min_samples_leaf=3, clf__min_samples_split=3, clf__n_estimators=5, score=0.766834 -   0.0s\n",
        "[CV] clf__max_depth=150, clf__min_samples_leaf=3, clf__min_samples_split=3, clf__n_estimators=5 \n",
        "[CV]  clf__max_depth=150, clf__min_samples_leaf=3, clf__min_samples_split=3, clf__n_estimators=5, score=0.840476 -   0.0s\n",
        "[CV] clf__max_depth=150, clf__min_samples_leaf=3, clf__min_samples_split=3, clf__n_estimators=5 \n",
        "[CV]  clf__max_depth=150, clf__min_samples_leaf=3, clf__min_samples_split=3, clf__n_estimators=5, score=0.877019 -   0.0s\n",
        "[CV] clf__max_depth=150, clf__min_samples_leaf=3, clf__min_samples_split=3, clf__n_estimators=10 \n",
        "[CV]  clf__max_depth=150, clf__min_samples_leaf=3, clf__min_samples_split=3, clf__n_estimators=10, score=0.860544 -   0.0s\n",
        "[CV] clf__max_depth=150, clf__min_samples_leaf=3, clf__min_samples_split=3, clf__n_estimators=10 \n",
        "[CV]  clf__max_depth=150, clf__min_samples_leaf=3, clf__min_samples_split=3, clf__n_estimators=10, score=0.813034 -   0.0s\n",
        "[CV] clf__max_depth=150, clf__min_samples_leaf=3, clf__min_samples_split=3, clf__n_estimators=10 \n",
        "[CV]  clf__max_depth=150, clf__min_samples_leaf=3, clf__min_samples_split=3, clf__n_estimators=10, score=0.942029 -   0.0s"
       ]
      },
      {
       "output_type": "stream",
       "stream": "stdout",
       "text": [
        "\n",
        "[CV] clf__max_depth=150, clf__min_samples_leaf=3, clf__min_samples_split=3, clf__n_estimators=20 \n",
        "[CV]  clf__max_depth=150, clf__min_samples_leaf=3, clf__min_samples_split=3, clf__n_estimators=20, score=0.860884 -   0.0s\n",
        "[CV] clf__max_depth=150, clf__min_samples_leaf=3, clf__min_samples_split=3, clf__n_estimators=20 \n",
        "[CV]  clf__max_depth=150, clf__min_samples_leaf=3, clf__min_samples_split=3, clf__n_estimators=20, score=0.894949 -   0.0s\n",
        "[CV] clf__max_depth=150, clf__min_samples_leaf=3, clf__min_samples_split=3, clf__n_estimators=20 \n",
        "[CV]  clf__max_depth=150, clf__min_samples_leaf=3, clf__min_samples_split=3, clf__n_estimators=20, score=0.874647 -   0.0s\n",
        "[CV] clf__max_depth=150, clf__min_samples_leaf=3, clf__min_samples_split=3, clf__n_estimators=50 \n",
        "[CV]  clf__max_depth=150, clf__min_samples_leaf=3, clf__min_samples_split=3, clf__n_estimators=50, score=0.860884 -   0.0s"
       ]
      },
      {
       "output_type": "stream",
       "stream": "stdout",
       "text": [
        "\n",
        "[CV] clf__max_depth=150, clf__min_samples_leaf=3, clf__min_samples_split=3, clf__n_estimators=50 \n",
        "[CV]  clf__max_depth=150, clf__min_samples_leaf=3, clf__min_samples_split=3, clf__n_estimators=50, score=0.896032 -   0.0s\n",
        "[CV] clf__max_depth=150, clf__min_samples_leaf=3, clf__min_samples_split=3, clf__n_estimators=50 \n",
        "[CV]  clf__max_depth=150, clf__min_samples_leaf=3, clf__min_samples_split=3, clf__n_estimators=50, score=0.874647 -   0.0s"
       ]
      },
      {
       "output_type": "stream",
       "stream": "stdout",
       "text": [
        "\n",
        "[CV] clf__max_depth=250, clf__min_samples_leaf=1, clf__min_samples_split=1, clf__n_estimators=5 \n",
        "[CV]  clf__max_depth=250, clf__min_samples_leaf=1, clf__min_samples_split=1, clf__n_estimators=5, score=0.896104 -   0.0s\n",
        "[CV] clf__max_depth=250, clf__min_samples_leaf=1, clf__min_samples_split=1, clf__n_estimators=5 \n",
        "[CV]  clf__max_depth=250, clf__min_samples_leaf=1, clf__min_samples_split=1, clf__n_estimators=5, score=1.000000 -   0.0s\n",
        "[CV] clf__max_depth=250, clf__min_samples_leaf=1, clf__min_samples_split=1, clf__n_estimators=5 \n",
        "[CV]  clf__max_depth=250, clf__min_samples_leaf=1, clf__min_samples_split=1, clf__n_estimators=5, score=0.893281 -   0.0s\n",
        "[CV] clf__max_depth=250, clf__min_samples_leaf=1, clf__min_samples_split=1, clf__n_estimators=10 \n",
        "[CV]  clf__max_depth=250, clf__min_samples_leaf=1, clf__min_samples_split=1, clf__n_estimators=10, score=0.899660 -   0.0s\n",
        "[CV] clf__max_depth=250, clf__min_samples_leaf=1, clf__min_samples_split=1, clf__n_estimators=10 \n",
        "[CV]  clf__max_depth=250, clf__min_samples_leaf=1, clf__min_samples_split=1, clf__n_estimators=10, score=0.955556 -   0.0s\n",
        "[CV] clf__max_depth=250, clf__min_samples_leaf=1, clf__min_samples_split=1, clf__n_estimators=10 \n",
        "[CV]  clf__max_depth=250, clf__min_samples_leaf=1, clf__min_samples_split=1, clf__n_estimators=10, score=0.936759 -   0.0s\n",
        "[CV] clf__max_depth=250, clf__min_samples_leaf=1, clf__min_samples_split=1, clf__n_estimators=20 \n",
        "[CV]  clf__max_depth=250, clf__min_samples_leaf=1, clf__min_samples_split=1, clf__n_estimators=20, score=0.960317 -   0.0s\n",
        "[CV] clf__max_depth=250, clf__min_samples_leaf=1, clf__min_samples_split=1, clf__n_estimators=20 \n",
        "[CV]  clf__max_depth=250, clf__min_samples_leaf=1, clf__min_samples_split=1, clf__n_estimators=20, score=0.955556 -   0.0s"
       ]
      },
      {
       "output_type": "stream",
       "stream": "stdout",
       "text": [
        "\n",
        "[CV] clf__max_depth=250, clf__min_samples_leaf=1, clf__min_samples_split=1, clf__n_estimators=20 \n",
        "[CV]  clf__max_depth=250, clf__min_samples_leaf=1, clf__min_samples_split=1, clf__n_estimators=20, score=0.936759 -   0.0s\n",
        "[CV] clf__max_depth=250, clf__min_samples_leaf=1, clf__min_samples_split=1, clf__n_estimators=50 \n",
        "[CV]  clf__max_depth=250, clf__min_samples_leaf=1, clf__min_samples_split=1, clf__n_estimators=50, score=0.900794 -   0.0s\n",
        "[CV] clf__max_depth=250, clf__min_samples_leaf=1, clf__min_samples_split=1, clf__n_estimators=50 \n",
        "[CV]  clf__max_depth=250, clf__min_samples_leaf=1, clf__min_samples_split=1, clf__n_estimators=50, score=0.955556 -   0.0s"
       ]
      },
      {
       "output_type": "stream",
       "stream": "stdout",
       "text": [
        "\n",
        "[CV] clf__max_depth=250, clf__min_samples_leaf=1, clf__min_samples_split=1, clf__n_estimators=50 \n",
        "[CV]  clf__max_depth=250, clf__min_samples_leaf=1, clf__min_samples_split=1, clf__n_estimators=50, score=0.893281 -   0.0s\n",
        "[CV] clf__max_depth=250, clf__min_samples_leaf=1, clf__min_samples_split=2, clf__n_estimators=5 \n",
        "[CV]  clf__max_depth=250, clf__min_samples_leaf=1, clf__min_samples_split=2, clf__n_estimators=5, score=0.899660 -   0.0s\n",
        "[CV] clf__max_depth=250, clf__min_samples_leaf=1, clf__min_samples_split=2, clf__n_estimators=5 \n",
        "[CV]  clf__max_depth=250, clf__min_samples_leaf=1, clf__min_samples_split=2, clf__n_estimators=5, score=0.955556 -   0.0s\n",
        "[CV] clf__max_depth=250, clf__min_samples_leaf=1, clf__min_samples_split=2, clf__n_estimators=5 \n",
        "[CV]  clf__max_depth=250, clf__min_samples_leaf=1, clf__min_samples_split=2, clf__n_estimators=5, score=0.893281 -   0.0s\n",
        "[CV] clf__max_depth=250, clf__min_samples_leaf=1, clf__min_samples_split=2, clf__n_estimators=10 \n",
        "[CV]  clf__max_depth=250, clf__min_samples_leaf=1, clf__min_samples_split=2, clf__n_estimators=10, score=0.960317 -   0.0s\n",
        "[CV] clf__max_depth=250, clf__min_samples_leaf=1, clf__min_samples_split=2, clf__n_estimators=10 \n",
        "[CV]  clf__max_depth=250, clf__min_samples_leaf=1, clf__min_samples_split=2, clf__n_estimators=10, score=0.847463 -   0.0s"
       ]
      },
      {
       "output_type": "stream",
       "stream": "stdout",
       "text": [
        "\n",
        "[CV] clf__max_depth=250, clf__min_samples_leaf=1, clf__min_samples_split=2, clf__n_estimators=10 \n",
        "[CV]  clf__max_depth=250, clf__min_samples_leaf=1, clf__min_samples_split=2, clf__n_estimators=10, score=0.893281 -   0.0s\n",
        "[CV] clf__max_depth=250, clf__min_samples_leaf=1, clf__min_samples_split=2, clf__n_estimators=20 \n",
        "[CV]  clf__max_depth=250, clf__min_samples_leaf=1, clf__min_samples_split=2, clf__n_estimators=20, score=0.960317 -   0.0s\n",
        "[CV] clf__max_depth=250, clf__min_samples_leaf=1, clf__min_samples_split=2, clf__n_estimators=20 \n",
        "[CV]  clf__max_depth=250, clf__min_samples_leaf=1, clf__min_samples_split=2, clf__n_estimators=20, score=0.875737 -   0.0s\n",
        "[CV] clf__max_depth=250, clf__min_samples_leaf=1, clf__min_samples_split=2, clf__n_estimators=20 \n",
        "[CV]  clf__max_depth=250, clf__min_samples_leaf=1, clf__min_samples_split=2, clf__n_estimators=20, score=0.893281 -   0.0s\n",
        "[CV] clf__max_depth=250, clf__min_samples_leaf=1, clf__min_samples_split=2, clf__n_estimators=50 \n",
        "[CV]  clf__max_depth=250, clf__min_samples_leaf=1, clf__min_samples_split=2, clf__n_estimators=50, score=0.861678 -   0.0s"
       ]
      },
      {
       "output_type": "stream",
       "stream": "stdout",
       "text": [
        "\n",
        "[CV] clf__max_depth=250, clf__min_samples_leaf=1, clf__min_samples_split=2, clf__n_estimators=50 \n",
        "[CV]  clf__max_depth=250, clf__min_samples_leaf=1, clf__min_samples_split=2, clf__n_estimators=50, score=0.955556 -   0.0s\n",
        "[CV] clf__max_depth=250, clf__min_samples_leaf=1, clf__min_samples_split=2, clf__n_estimators=50 \n",
        "[CV]  clf__max_depth=250, clf__min_samples_leaf=1, clf__min_samples_split=2, clf__n_estimators=50, score=0.893281 -   0.0s"
       ]
      },
      {
       "output_type": "stream",
       "stream": "stdout",
       "text": [
        "\n",
        "[CV] clf__max_depth=250, clf__min_samples_leaf=1, clf__min_samples_split=3, clf__n_estimators=5 \n",
        "[CV]  clf__max_depth=250, clf__min_samples_leaf=1, clf__min_samples_split=3, clf__n_estimators=5, score=0.876984 -   0.0s\n",
        "[CV] clf__max_depth=250, clf__min_samples_leaf=1, clf__min_samples_split=3, clf__n_estimators=5 \n",
        "[CV]  clf__max_depth=250, clf__min_samples_leaf=1, clf__min_samples_split=3, clf__n_estimators=5, score=0.932870 -   0.0s\n",
        "[CV] clf__max_depth=250, clf__min_samples_leaf=1, clf__min_samples_split=3, clf__n_estimators=5 \n",
        "[CV]  clf__max_depth=250, clf__min_samples_leaf=1, clf__min_samples_split=3, clf__n_estimators=5, score=0.893281 -   0.0s\n",
        "[CV] clf__max_depth=250, clf__min_samples_leaf=1, clf__min_samples_split=3, clf__n_estimators=10 \n",
        "[CV]  clf__max_depth=250, clf__min_samples_leaf=1, clf__min_samples_split=3, clf__n_estimators=10, score=0.860544 -   0.0s\n",
        "[CV] clf__max_depth=250, clf__min_samples_leaf=1, clf__min_samples_split=3, clf__n_estimators=10 \n",
        "[CV]  clf__max_depth=250, clf__min_samples_leaf=1, clf__min_samples_split=3, clf__n_estimators=10, score=0.955556 -   0.0s\n",
        "[CV] clf__max_depth=250, clf__min_samples_leaf=1, clf__min_samples_split=3, clf__n_estimators=10 \n",
        "[CV]  clf__max_depth=250, clf__min_samples_leaf=1, clf__min_samples_split=3, clf__n_estimators=10, score=0.936759 -   0.0s\n",
        "[CV] clf__max_depth=250, clf__min_samples_leaf=1, clf__min_samples_split=3, clf__n_estimators=20 \n",
        "[CV]  clf__max_depth=250, clf__min_samples_leaf=1, clf__min_samples_split=3, clf__n_estimators=20, score=0.861678 -   0.0s\n",
        "[CV] clf__max_depth=250, clf__min_samples_leaf=1, clf__min_samples_split=3, clf__n_estimators=20 \n",
        "[CV]  clf__max_depth=250, clf__min_samples_leaf=1, clf__min_samples_split=3, clf__n_estimators=20, score=0.955556 -   0.0s"
       ]
      },
      {
       "output_type": "stream",
       "stream": "stdout",
       "text": [
        "\n",
        "[CV] clf__max_depth=250, clf__min_samples_leaf=1, clf__min_samples_split=3, clf__n_estimators=20 \n",
        "[CV]  clf__max_depth=250, clf__min_samples_leaf=1, clf__min_samples_split=3, clf__n_estimators=20, score=0.893281 -   0.0s\n",
        "[CV] clf__max_depth=250, clf__min_samples_leaf=1, clf__min_samples_split=3, clf__n_estimators=50 \n",
        "[CV]  clf__max_depth=250, clf__min_samples_leaf=1, clf__min_samples_split=3, clf__n_estimators=50, score=0.900794 -   0.0s\n",
        "[CV] clf__max_depth=250, clf__min_samples_leaf=1, clf__min_samples_split=3, clf__n_estimators=50 \n",
        "[CV]  clf__max_depth=250, clf__min_samples_leaf=1, clf__min_samples_split=3, clf__n_estimators=50, score=0.955556 -   0.0s"
       ]
      },
      {
       "output_type": "stream",
       "stream": "stdout",
       "text": [
        "\n",
        "[CV] clf__max_depth=250, clf__min_samples_leaf=1, clf__min_samples_split=3, clf__n_estimators=50 \n",
        "[CV]  clf__max_depth=250, clf__min_samples_leaf=1, clf__min_samples_split=3, clf__n_estimators=50, score=0.893281 -   0.0s\n",
        "[CV] clf__max_depth=250, clf__min_samples_leaf=2, clf__min_samples_split=1, clf__n_estimators=5 \n",
        "[CV]  clf__max_depth=250, clf__min_samples_leaf=2, clf__min_samples_split=1, clf__n_estimators=5, score=0.861678 -   0.0s\n",
        "[CV] clf__max_depth=250, clf__min_samples_leaf=2, clf__min_samples_split=1, clf__n_estimators=5 \n",
        "[CV]  clf__max_depth=250, clf__min_samples_leaf=2, clf__min_samples_split=1, clf__n_estimators=5, score=0.900000 -   0.0s\n",
        "[CV] clf__max_depth=250, clf__min_samples_leaf=2, clf__min_samples_split=1, clf__n_estimators=5 \n",
        "[CV]  clf__max_depth=250, clf__min_samples_leaf=2, clf__min_samples_split=1, clf__n_estimators=5, score=0.893281 -   0.0s\n",
        "[CV] clf__max_depth=250, clf__min_samples_leaf=2, clf__min_samples_split=1, clf__n_estimators=10 \n",
        "[CV]  clf__max_depth=250, clf__min_samples_leaf=2, clf__min_samples_split=1, clf__n_estimators=10, score=0.959184 -   0.0s\n",
        "[CV] clf__max_depth=250, clf__min_samples_leaf=2, clf__min_samples_split=1, clf__n_estimators=10 \n",
        "[CV]  clf__max_depth=250, clf__min_samples_leaf=2, clf__min_samples_split=1, clf__n_estimators=10, score=0.899306 -   0.0s"
       ]
      },
      {
       "output_type": "stream",
       "stream": "stdout",
       "text": [
        "\n",
        "[CV] clf__max_depth=250, clf__min_samples_leaf=2, clf__min_samples_split=1, clf__n_estimators=10 \n",
        "[CV]  clf__max_depth=250, clf__min_samples_leaf=2, clf__min_samples_split=1, clf__n_estimators=10, score=0.936759 -   0.0s\n",
        "[CV] clf__max_depth=250, clf__min_samples_leaf=2, clf__min_samples_split=1, clf__n_estimators=20 \n",
        "[CV]  clf__max_depth=250, clf__min_samples_leaf=2, clf__min_samples_split=1, clf__n_estimators=20, score=0.900794 -   0.0s\n",
        "[CV] clf__max_depth=250, clf__min_samples_leaf=2, clf__min_samples_split=1, clf__n_estimators=20 \n",
        "[CV]  clf__max_depth=250, clf__min_samples_leaf=2, clf__min_samples_split=1, clf__n_estimators=20, score=0.900000 -   0.0s\n",
        "[CV] clf__max_depth=250, clf__min_samples_leaf=2, clf__min_samples_split=1, clf__n_estimators=20 \n",
        "[CV]  clf__max_depth=250, clf__min_samples_leaf=2, clf__min_samples_split=1, clf__n_estimators=20, score=0.893281 -   0.0s\n",
        "[CV] clf__max_depth=250, clf__min_samples_leaf=2, clf__min_samples_split=1, clf__n_estimators=50 \n",
        "[CV]  clf__max_depth=250, clf__min_samples_leaf=2, clf__min_samples_split=1, clf__n_estimators=50, score=0.861678 -   0.0s"
       ]
      },
      {
       "output_type": "stream",
       "stream": "stdout",
       "text": [
        "\n",
        "[CV] clf__max_depth=250, clf__min_samples_leaf=2, clf__min_samples_split=1, clf__n_estimators=50 \n",
        "[CV]  clf__max_depth=250, clf__min_samples_leaf=2, clf__min_samples_split=1, clf__n_estimators=50, score=0.896032 -   0.0s\n",
        "[CV] clf__max_depth=250, clf__min_samples_leaf=2, clf__min_samples_split=1, clf__n_estimators=50 \n",
        "[CV]  clf__max_depth=250, clf__min_samples_leaf=2, clf__min_samples_split=1, clf__n_estimators=50, score=0.893281 -   0.0s\n",
        "[CV] clf__max_depth=250, clf__min_samples_leaf=2, clf__min_samples_split=2, clf__n_estimators=5 \n",
        "[CV]  clf__max_depth=250, clf__min_samples_leaf=2, clf__min_samples_split=2, clf__n_estimators=5, score=0.872449 -   0.0s"
       ]
      },
      {
       "output_type": "stream",
       "stream": "stdout",
       "text": [
        "\n",
        "[CV] clf__max_depth=250, clf__min_samples_leaf=2, clf__min_samples_split=2, clf__n_estimators=5 \n",
        "[CV]  clf__max_depth=250, clf__min_samples_leaf=2, clf__min_samples_split=2, clf__n_estimators=5, score=0.807143 -   0.0s\n",
        "[CV] clf__max_depth=250, clf__min_samples_leaf=2, clf__min_samples_split=2, clf__n_estimators=5 \n",
        "[CV]  clf__max_depth=250, clf__min_samples_leaf=2, clf__min_samples_split=2, clf__n_estimators=5, score=0.874647 -   0.0s\n",
        "[CV] clf__max_depth=250, clf__min_samples_leaf=2, clf__min_samples_split=2, clf__n_estimators=10 \n",
        "[CV]  clf__max_depth=250, clf__min_samples_leaf=2, clf__min_samples_split=2, clf__n_estimators=10, score=0.900794 -   0.0s\n",
        "[CV] clf__max_depth=250, clf__min_samples_leaf=2, clf__min_samples_split=2, clf__n_estimators=10 \n",
        "[CV]  clf__max_depth=250, clf__min_samples_leaf=2, clf__min_samples_split=2, clf__n_estimators=10, score=0.770370 -   0.0s\n",
        "[CV] clf__max_depth=250, clf__min_samples_leaf=2, clf__min_samples_split=2, clf__n_estimators=10 \n",
        "[CV]  clf__max_depth=250, clf__min_samples_leaf=2, clf__min_samples_split=2, clf__n_estimators=10, score=0.893281 -   0.0s\n",
        "[CV] clf__max_depth=250, clf__min_samples_leaf=2, clf__min_samples_split=2, clf__n_estimators=20 \n",
        "[CV]  clf__max_depth=250, clf__min_samples_leaf=2, clf__min_samples_split=2, clf__n_estimators=20, score=0.899660 -   0.0s\n",
        "[CV] clf__max_depth=250, clf__min_samples_leaf=2, clf__min_samples_split=2, clf__n_estimators=20 \n",
        "[CV]  clf__max_depth=250, clf__min_samples_leaf=2, clf__min_samples_split=2, clf__n_estimators=20, score=0.895833 -   0.0s\n",
        "[CV] clf__max_depth=250, clf__min_samples_leaf=2, clf__min_samples_split=2, clf__n_estimators=20 \n",
        "[CV]  clf__max_depth=250, clf__min_samples_leaf=2, clf__min_samples_split=2, clf__n_estimators=20, score=0.893281 -   0.0s"
       ]
      },
      {
       "output_type": "stream",
       "stream": "stdout",
       "text": [
        "\n",
        "[CV] clf__max_depth=250, clf__min_samples_leaf=2, clf__min_samples_split=2, clf__n_estimators=50 \n",
        "[CV]  clf__max_depth=250, clf__min_samples_leaf=2, clf__min_samples_split=2, clf__n_estimators=50, score=0.900794 -   0.0s\n",
        "[CV] clf__max_depth=250, clf__min_samples_leaf=2, clf__min_samples_split=2, clf__n_estimators=50 \n",
        "[CV]  clf__max_depth=250, clf__min_samples_leaf=2, clf__min_samples_split=2, clf__n_estimators=50, score=0.955556 -   0.0s"
       ]
      },
      {
       "output_type": "stream",
       "stream": "stdout",
       "text": [
        "\n",
        "[CV] clf__max_depth=250, clf__min_samples_leaf=2, clf__min_samples_split=2, clf__n_estimators=50 \n",
        "[CV]  clf__max_depth=250, clf__min_samples_leaf=2, clf__min_samples_split=2, clf__n_estimators=50, score=0.893281 -   0.0s\n",
        "[CV] clf__max_depth=250, clf__min_samples_leaf=2, clf__min_samples_split=3, clf__n_estimators=5 \n",
        "[CV]  clf__max_depth=250, clf__min_samples_leaf=2, clf__min_samples_split=3, clf__n_estimators=5, score=0.900794 -   0.0s\n",
        "[CV] clf__max_depth=250, clf__min_samples_leaf=2, clf__min_samples_split=3, clf__n_estimators=5 \n",
        "[CV]  clf__max_depth=250, clf__min_samples_leaf=2, clf__min_samples_split=3, clf__n_estimators=5, score=0.900000 -   0.0s\n",
        "[CV] clf__max_depth=250, clf__min_samples_leaf=2, clf__min_samples_split=3, clf__n_estimators=5 \n",
        "[CV]  clf__max_depth=250, clf__min_samples_leaf=2, clf__min_samples_split=3, clf__n_estimators=5, score=0.893281 -   0.0s\n",
        "[CV] clf__max_depth=250, clf__min_samples_leaf=2, clf__min_samples_split=3, clf__n_estimators=10 \n",
        "[CV]  clf__max_depth=250, clf__min_samples_leaf=2, clf__min_samples_split=3, clf__n_estimators=10, score=0.921202 -   0.0s\n",
        "[CV] clf__max_depth=250, clf__min_samples_leaf=2, clf__min_samples_split=3, clf__n_estimators=10 \n",
        "[CV]  clf__max_depth=250, clf__min_samples_leaf=2, clf__min_samples_split=3, clf__n_estimators=10, score=0.955556 -   0.0s"
       ]
      },
      {
       "output_type": "stream",
       "stream": "stdout",
       "text": [
        "\n",
        "[CV] clf__max_depth=250, clf__min_samples_leaf=2, clf__min_samples_split=3, clf__n_estimators=10 \n",
        "[CV]  clf__max_depth=250, clf__min_samples_leaf=2, clf__min_samples_split=3, clf__n_estimators=10, score=0.942029 -   0.0s\n",
        "[CV] clf__max_depth=250, clf__min_samples_leaf=2, clf__min_samples_split=3, clf__n_estimators=20 \n",
        "[CV]  clf__max_depth=250, clf__min_samples_leaf=2, clf__min_samples_split=3, clf__n_estimators=20, score=0.959184 -   0.0s\n",
        "[CV] clf__max_depth=250, clf__min_samples_leaf=2, clf__min_samples_split=3, clf__n_estimators=20 \n",
        "[CV]  clf__max_depth=250, clf__min_samples_leaf=2, clf__min_samples_split=3, clf__n_estimators=20, score=0.955556 -   0.0s\n",
        "[CV] clf__max_depth=250, clf__min_samples_leaf=2, clf__min_samples_split=3, clf__n_estimators=20 \n",
        "[CV]  clf__max_depth=250, clf__min_samples_leaf=2, clf__min_samples_split=3, clf__n_estimators=20, score=0.936759 -   0.0s\n",
        "[CV] clf__max_depth=250, clf__min_samples_leaf=2, clf__min_samples_split=3, clf__n_estimators=50 \n",
        "[CV]  clf__max_depth=250, clf__min_samples_leaf=2, clf__min_samples_split=3, clf__n_estimators=50, score=0.861678 -   0.0s"
       ]
      },
      {
       "output_type": "stream",
       "stream": "stdout",
       "text": [
        "\n",
        "[CV] clf__max_depth=250, clf__min_samples_leaf=2, clf__min_samples_split=3, clf__n_estimators=50 \n",
        "[CV]  clf__max_depth=250, clf__min_samples_leaf=2, clf__min_samples_split=3, clf__n_estimators=50, score=0.896032 -   0.0s\n",
        "[CV] clf__max_depth=250, clf__min_samples_leaf=2, clf__min_samples_split=3, clf__n_estimators=50 \n",
        "[CV]  clf__max_depth=250, clf__min_samples_leaf=2, clf__min_samples_split=3, clf__n_estimators=50, score=0.893281 -   0.0s"
       ]
      },
      {
       "output_type": "stream",
       "stream": "stderr",
       "text": [
        "[Parallel(n_jobs=1)]: Done 128 jobs       | elapsed:    1.5s\n",
        "[Parallel(n_jobs=1)]: Done 288 jobs       | elapsed:    3.4s\n"
       ]
      },
      {
       "output_type": "stream",
       "stream": "stdout",
       "text": [
        "\n",
        "[CV] clf__max_depth=250, clf__min_samples_leaf=3, clf__min_samples_split=1, clf__n_estimators=5 \n",
        "[CV]  clf__max_depth=250, clf__min_samples_leaf=3, clf__min_samples_split=1, clf__n_estimators=5, score=0.796442 -   0.0s\n",
        "[CV] clf__max_depth=250, clf__min_samples_leaf=3, clf__min_samples_split=1, clf__n_estimators=5 \n",
        "[CV]  clf__max_depth=250, clf__min_samples_leaf=3, clf__min_samples_split=1, clf__n_estimators=5, score=0.902778 -   0.0s\n",
        "[CV] clf__max_depth=250, clf__min_samples_leaf=3, clf__min_samples_split=1, clf__n_estimators=5 \n",
        "[CV]  clf__max_depth=250, clf__min_samples_leaf=3, clf__min_samples_split=1, clf__n_estimators=5, score=0.874647 -   0.0s\n",
        "[CV] clf__max_depth=250, clf__min_samples_leaf=3, clf__min_samples_split=1, clf__n_estimators=10 \n",
        "[CV]  clf__max_depth=250, clf__min_samples_leaf=3, clf__min_samples_split=1, clf__n_estimators=10, score=0.845238 -   0.0s\n",
        "[CV] clf__max_depth=250, clf__min_samples_leaf=3, clf__min_samples_split=1, clf__n_estimators=10 \n",
        "[CV]  clf__max_depth=250, clf__min_samples_leaf=3, clf__min_samples_split=1, clf__n_estimators=10, score=0.838699 -   0.0s\n",
        "[CV] clf__max_depth=250, clf__min_samples_leaf=3, clf__min_samples_split=1, clf__n_estimators=10 \n",
        "[CV]  clf__max_depth=250, clf__min_samples_leaf=3, clf__min_samples_split=1, clf__n_estimators=10, score=0.893281 -   0.0s\n",
        "[CV] clf__max_depth=250, clf__min_samples_leaf=3, clf__min_samples_split=1, clf__n_estimators=20 \n",
        "[CV]  clf__max_depth=250, clf__min_samples_leaf=3, clf__min_samples_split=1, clf__n_estimators=20, score=0.861678 -   0.0s\n",
        "[CV] clf__max_depth=250, clf__min_samples_leaf=3, clf__min_samples_split=1, clf__n_estimators=20 \n",
        "[CV]  clf__max_depth=250, clf__min_samples_leaf=3, clf__min_samples_split=1, clf__n_estimators=20, score=0.835426 -   0.0s"
       ]
      },
      {
       "output_type": "stream",
       "stream": "stdout",
       "text": [
        "\n",
        "[CV] clf__max_depth=250, clf__min_samples_leaf=3, clf__min_samples_split=1, clf__n_estimators=20 \n",
        "[CV]  clf__max_depth=250, clf__min_samples_leaf=3, clf__min_samples_split=1, clf__n_estimators=20, score=0.874647 -   0.0s\n",
        "[CV] clf__max_depth=250, clf__min_samples_leaf=3, clf__min_samples_split=1, clf__n_estimators=50 \n",
        "[CV]  clf__max_depth=250, clf__min_samples_leaf=3, clf__min_samples_split=1, clf__n_estimators=50, score=0.847279 -   0.0s\n",
        "[CV] clf__max_depth=250, clf__min_samples_leaf=3, clf__min_samples_split=1, clf__n_estimators=50 \n",
        "[CV]  clf__max_depth=250, clf__min_samples_leaf=3, clf__min_samples_split=1, clf__n_estimators=50, score=0.896032 -   0.0s"
       ]
      },
      {
       "output_type": "stream",
       "stream": "stdout",
       "text": [
        "\n",
        "[CV] clf__max_depth=250, clf__min_samples_leaf=3, clf__min_samples_split=1, clf__n_estimators=50 \n",
        "[CV]  clf__max_depth=250, clf__min_samples_leaf=3, clf__min_samples_split=1, clf__n_estimators=50, score=0.893281 -   0.0s\n",
        "[CV] clf__max_depth=250, clf__min_samples_leaf=3, clf__min_samples_split=2, clf__n_estimators=5 \n",
        "[CV]  clf__max_depth=250, clf__min_samples_leaf=3, clf__min_samples_split=2, clf__n_estimators=5, score=0.846273 -   0.0s\n",
        "[CV] clf__max_depth=250, clf__min_samples_leaf=3, clf__min_samples_split=2, clf__n_estimators=5 \n",
        "[CV]  clf__max_depth=250, clf__min_samples_leaf=3, clf__min_samples_split=2, clf__n_estimators=5, score=0.765320 -   0.0s\n",
        "[CV] clf__max_depth=250, clf__min_samples_leaf=3, clf__min_samples_split=2, clf__n_estimators=5 \n",
        "[CV]  clf__max_depth=250, clf__min_samples_leaf=3, clf__min_samples_split=2, clf__n_estimators=5, score=0.872686 -   0.0s\n",
        "[CV] clf__max_depth=250, clf__min_samples_leaf=3, clf__min_samples_split=2, clf__n_estimators=10 \n",
        "[CV]  clf__max_depth=250, clf__min_samples_leaf=3, clf__min_samples_split=2, clf__n_estimators=10, score=0.895692 -   0.0s\n",
        "[CV] clf__max_depth=250, clf__min_samples_leaf=3, clf__min_samples_split=2, clf__n_estimators=10 \n",
        "[CV]  clf__max_depth=250, clf__min_samples_leaf=3, clf__min_samples_split=2, clf__n_estimators=10, score=0.747405 -   0.0s"
       ]
      },
      {
       "output_type": "stream",
       "stream": "stdout",
       "text": [
        "\n",
        "[CV] clf__max_depth=250, clf__min_samples_leaf=3, clf__min_samples_split=2, clf__n_estimators=10 \n",
        "[CV]  clf__max_depth=250, clf__min_samples_leaf=3, clf__min_samples_split=2, clf__n_estimators=10, score=0.826309 -   0.0s\n",
        "[CV] clf__max_depth=250, clf__min_samples_leaf=3, clf__min_samples_split=2, clf__n_estimators=20 \n",
        "[CV]  clf__max_depth=250, clf__min_samples_leaf=3, clf__min_samples_split=2, clf__n_estimators=20, score=0.861678 -   0.0s\n",
        "[CV] clf__max_depth=250, clf__min_samples_leaf=3, clf__min_samples_split=2, clf__n_estimators=20 \n",
        "[CV]  clf__max_depth=250, clf__min_samples_leaf=3, clf__min_samples_split=2, clf__n_estimators=20, score=0.838699 -   0.0s\n",
        "[CV] clf__max_depth=250, clf__min_samples_leaf=3, clf__min_samples_split=2, clf__n_estimators=20 \n",
        "[CV]  clf__max_depth=250, clf__min_samples_leaf=3, clf__min_samples_split=2, clf__n_estimators=20, score=0.936759 -   0.0s\n",
        "[CV] clf__max_depth=250, clf__min_samples_leaf=3, clf__min_samples_split=2, clf__n_estimators=50 \n",
        "[CV]  clf__max_depth=250, clf__min_samples_leaf=3, clf__min_samples_split=2, clf__n_estimators=50, score=0.814780 -   0.0s"
       ]
      },
      {
       "output_type": "stream",
       "stream": "stdout",
       "text": [
        "\n",
        "[CV] clf__max_depth=250, clf__min_samples_leaf=3, clf__min_samples_split=2, clf__n_estimators=50 \n",
        "[CV]  clf__max_depth=250, clf__min_samples_leaf=3, clf__min_samples_split=2, clf__n_estimators=50, score=0.896032 -   0.0s\n",
        "[CV] clf__max_depth=250, clf__min_samples_leaf=3, clf__min_samples_split=2, clf__n_estimators=50 \n",
        "[CV]  clf__max_depth=250, clf__min_samples_leaf=3, clf__min_samples_split=2, clf__n_estimators=50, score=0.893281 -   0.0s"
       ]
      },
      {
       "output_type": "stream",
       "stream": "stdout",
       "text": [
        "\n",
        "[CV] clf__max_depth=250, clf__min_samples_leaf=3, clf__min_samples_split=3, clf__n_estimators=5 \n",
        "[CV]  clf__max_depth=250, clf__min_samples_leaf=3, clf__min_samples_split=3, clf__n_estimators=5, score=0.818182 -   0.0s\n",
        "[CV] clf__max_depth=250, clf__min_samples_leaf=3, clf__min_samples_split=3, clf__n_estimators=5 \n",
        "[CV]  clf__max_depth=250, clf__min_samples_leaf=3, clf__min_samples_split=3, clf__n_estimators=5, score=0.822454 -   0.0s\n",
        "[CV] clf__max_depth=250, clf__min_samples_leaf=3, clf__min_samples_split=3, clf__n_estimators=5 \n",
        "[CV]  clf__max_depth=250, clf__min_samples_leaf=3, clf__min_samples_split=3, clf__n_estimators=5, score=0.894410 -   0.0s\n",
        "[CV] clf__max_depth=250, clf__min_samples_leaf=3, clf__min_samples_split=3, clf__n_estimators=10 \n",
        "[CV]  clf__max_depth=250, clf__min_samples_leaf=3, clf__min_samples_split=3, clf__n_estimators=10, score=0.802579 -   0.0s\n",
        "[CV] clf__max_depth=250, clf__min_samples_leaf=3, clf__min_samples_split=3, clf__n_estimators=10 \n",
        "[CV]  clf__max_depth=250, clf__min_samples_leaf=3, clf__min_samples_split=3, clf__n_estimators=10, score=0.896032 -   0.0s\n",
        "[CV] clf__max_depth=250, clf__min_samples_leaf=3, clf__min_samples_split=3, clf__n_estimators=10 \n",
        "[CV]  clf__max_depth=250, clf__min_samples_leaf=3, clf__min_samples_split=3, clf__n_estimators=10, score=0.876812 -   0.0s\n",
        "[CV] clf__max_depth=250, clf__min_samples_leaf=3, clf__min_samples_split=3, clf__n_estimators=20 \n",
        "[CV]  clf__max_depth=250, clf__min_samples_leaf=3, clf__min_samples_split=3, clf__n_estimators=20, score=0.896215 -   0.0s\n",
        "[CV] clf__max_depth=250, clf__min_samples_leaf=3, clf__min_samples_split=3, clf__n_estimators=20 \n",
        "[CV]  clf__max_depth=250, clf__min_samples_leaf=3, clf__min_samples_split=3, clf__n_estimators=20, score=0.896032 -   0.0s"
       ]
      },
      {
       "output_type": "stream",
       "stream": "stdout",
       "text": [
        "\n",
        "[CV] clf__max_depth=250, clf__min_samples_leaf=3, clf__min_samples_split=3, clf__n_estimators=20 \n",
        "[CV]  clf__max_depth=250, clf__min_samples_leaf=3, clf__min_samples_split=3, clf__n_estimators=20, score=0.893281 -   0.0s\n",
        "[CV] clf__max_depth=250, clf__min_samples_leaf=3, clf__min_samples_split=3, clf__n_estimators=50 \n",
        "[CV]  clf__max_depth=250, clf__min_samples_leaf=3, clf__min_samples_split=3, clf__n_estimators=50, score=0.896104 -   0.0s\n",
        "[CV] clf__max_depth=250, clf__min_samples_leaf=3, clf__min_samples_split=3, clf__n_estimators=50 \n",
        "[CV]  clf__max_depth=250, clf__min_samples_leaf=3, clf__min_samples_split=3, clf__n_estimators=50, score=0.896032 -   0.0s"
       ]
      },
      {
       "output_type": "stream",
       "stream": "stdout",
       "text": [
        "\n",
        "[CV] clf__max_depth=250, clf__min_samples_leaf=3, clf__min_samples_split=3, clf__n_estimators=50 \n",
        "[CV]  clf__max_depth=250, clf__min_samples_leaf=3, clf__min_samples_split=3, clf__n_estimators=50, score=0.874647 -   0.0s\n",
        "Best score: 0.951569023569\n",
        "Best parameters set:\n",
        "\tclf__max_depth 250\n",
        "\tclf__min_samples_leaf 1\n",
        "\tclf__min_samples_split 1\n",
        "\tclf__n_estimators 20\n"
       ]
      },
      {
       "output_type": "stream",
       "stream": "stderr",
       "text": [
        "[Parallel(n_jobs=1)]: Done 324 out of 324 | elapsed:    3.9s finished\n"
       ]
      }
     ],
     "prompt_number": 43
    },
    {
     "cell_type": "code",
     "collapsed": false,
     "input": [
      "print \"FINAL FINDINGS\"\n",
      "print\n",
      "y_predictions = grid_search.predict(X_test)\n",
      "print \"My Bad Predictions:\"\n",
      "print '----------------------------------'\n",
      "print\n",
      "for i,v in enumerate(y_predictions):\n",
      "    if class_key[v] != class_key[y_test[i]]:\n",
      "        print 'Predicted: ',class_key[v]\n",
      "        print 'Actual: ', class_key[y_test[i]]\n",
      "        print '-------------------'\n",
      "        print\n",
      "\n",
      "print 'Best score:', grid_search.best_score_\n",
      "print 'Best parameters set:'\n",
      "best_parameters = grid_search.best_estimator_.get_params()\n",
      "for param_name in sorted(parameters.keys()):\n",
      "    print '\\t', param_name, best_parameters[param_name]"
     ],
     "language": "python",
     "metadata": {},
     "outputs": [
      {
       "output_type": "stream",
       "stream": "stdout",
       "text": [
        "FINAL FINDINGS\n",
        "\n",
        "My Bad Predictions:\n",
        "----------------------------------\n",
        "\n",
        "Predicted:  Mammalia\n",
        "Actual:  Other\n",
        "-------------------\n",
        "\n",
        "Best score: 0.951569023569\n",
        "Best parameters set:\n",
        "\tclf__max_depth 250\n",
        "\tclf__min_samples_leaf 1\n",
        "\tclf__min_samples_split 1\n",
        "\tclf__n_estimators 20\n"
       ]
      }
     ],
     "prompt_number": 44
    },
    {
     "cell_type": "code",
     "collapsed": false,
     "input": [
      "print \"FINAL SCORING:\"\n",
      "print '----------------------------------------------------'\n",
      "print grid_search.score(X_test, y_predictions)\n",
      "print classification_report(y_test, y_predictions)"
     ],
     "language": "python",
     "metadata": {},
     "outputs": [
      {
       "output_type": "stream",
       "stream": "stdout",
       "text": [
        "FINAL SCORING:\n",
        "----------------------------------------------------\n",
        "1.0\n",
        "             precision    recall  f1-score   support\n",
        "\n",
        "          1       0.92      1.00      0.96        12\n",
        "          2       1.00      1.00      1.00         4\n",
        "          3       1.00      1.00      1.00         1\n",
        "          4       1.00      1.00      1.00         3\n",
        "          5       1.00      1.00      1.00         1\n",
        "          6       1.00      1.00      1.00         2\n",
        "          7       1.00      0.67      0.80         3\n",
        "\n",
        "avg / total       0.96      0.96      0.96        26\n",
        "\n"
       ]
      }
     ],
     "prompt_number": 45
    },
    {
     "cell_type": "code",
     "collapsed": false,
     "input": [],
     "language": "python",
     "metadata": {},
     "outputs": []
    }
   ],
   "metadata": {}
  }
 ]
}
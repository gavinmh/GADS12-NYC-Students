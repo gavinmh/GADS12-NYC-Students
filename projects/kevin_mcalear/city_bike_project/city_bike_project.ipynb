{
 "metadata": {
  "name": "",
  "signature": "sha256:520deba730893b7ffc1efa783369754bdcfd3ddadc1f24009d7fcefb502178c9"
 },
 "nbformat": 3,
 "nbformat_minor": 0,
 "worksheets": [
  {
   "cells": [
    {
     "cell_type": "markdown",
     "metadata": {},
     "source": [
      "![Citi Bikes](https://kaggle2.blob.core.windows.net/competitions/kaggle/3948/media/bikes.png)\n",
      "#Can You Predict Bike Sharing Demand?\n",
      "\n",
      "Let's try to forecast use of a city bikeshare system.\n",
      "\n",
      "###The problem.\n",
      "\n",
      "[Via The Kaggle Competition:](https://www.kaggle.com/c/bike-sharing-demand)\n",
      "\n",
      "*\"Bike sharing systems are a means of renting bicycles where the process of obtaining membership, rental, and bike return is automated via a network of kiosk locations throughout a city. Using these systems, people are able rent a bike from a one location and return it to a different place on an as-needed basis. Currently, there are over 500 bike-sharing programs around the world.\"*\n",
      "\n",
      "**I want to be able to predict how many people will be using bikes on any given day.**\n",
      "\n",
      "###My guess (response variable).\n",
      "\n",
      "My response variable will be something in the data called: **count** - a count of the number of total rentals.\n",
      "\n",
      "###The inputs (explanatory variables). \n",
      "\n",
      "- **datetime** - hourly date + timestamp  \n",
      "- **season** -  1 = spring, 2 = summer, 3 = fall, 4 = winter \n",
      "- **holiday** - whether the day is considered a holiday\n",
      "- **workingday** - whether the day is neither a weekend nor holiday\n",
      "- **weather** : \n",
      "   - 1: *Clear, Few clouds, Partly cloudy, Partly cloudy* \n",
      "   - 2: *Mist + Cloudy, Mist + Broken clouds, Mist + Few clouds, Mist* \n",
      "   - 3: *Light Snow, Light Rain + Thunderstorm + Scattered clouds, Light Rain + Scattered clouds* \n",
      "   - 4: *Heavy Rain + Ice Pallets + Thunderstorm + Mist, Snow + Fog* \n",
      "- **temp** - temperature in Celsius\n",
      "- **atemp** - \"feels like\" temperature in Celsius\n",
      "- **humidity** - relative humidity\n",
      "- **windspeed** - wind speed\n",
      "- **casual** - number of non-registered user rentals initiated *(**I may not use this**)*\n",
      "- **registered** - number of registered user rentals initiated *(**I may not use this**)*\n",
      "\n",
      "###How could you represent the explanatory variables as features?\n",
      "\n",
      "Both season and weather are already set up for me but I could have converted them into features."
     ]
    },
    {
     "cell_type": "code",
     "collapsed": false,
     "input": [
      "# Let's set up our "
     ],
     "language": "python",
     "metadata": {},
     "outputs": []
    }
   ],
   "metadata": {}
  }
 ]
}
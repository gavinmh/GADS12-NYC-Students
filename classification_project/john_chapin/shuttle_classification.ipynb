{
 "metadata": {
  "name": "",
  "signature": "sha256:3a19add01b798e3be3c626b79a33ba22da5b9ae0e08afaf7f63eb12d169bc02e"
 },
 "nbformat": 3,
 "nbformat_minor": 0,
 "worksheets": [
  {
   "cells": [
    {
     "cell_type": "code",
     "collapsed": false,
     "input": [
      "%pylab inline"
     ],
     "language": "python",
     "metadata": {},
     "outputs": [
      {
       "output_type": "stream",
       "stream": "stdout",
       "text": [
        "Populating the interactive namespace from numpy and matplotlib\n"
       ]
      }
     ],
     "prompt_number": 151
    },
    {
     "cell_type": "code",
     "collapsed": false,
     "input": [
      "import pandas as pd\n",
      "\n",
      "# This dataset is from an investigation into the reliability\n",
      "# of the Space Shuttle Challenger's propulsion system.\n",
      "\n",
      "num_features = 9\n",
      "\n",
      "# Load training data\n",
      "train_data = pd.read_csv(\"data/shuttle.trn\", sep=' ')\n",
      "X_train = train_data.ix[:,:num_features]\n",
      "y_train = train_data.ix[:,num_features:]\n",
      "\n",
      "# Load testing data\n",
      "test_data = pd.read_csv(\"data/shuttle.tst\", sep=' ')\n",
      "X_test = train_data.ix[:,:num_features]\n",
      "y_test = train_data.ix[:,num_features:]\n",
      "\n",
      "print X_train.describe()\n",
      "print y_train.describe()"
     ],
     "language": "python",
     "metadata": {},
     "outputs": [
      {
       "output_type": "stream",
       "stream": "stdout",
       "text": [
        "                 50            21            77             0            28  \\\n",
        "count  43499.000000  43499.000000  43499.000000  43499.000000  43499.000000   \n",
        "mean      48.249707     -0.205614     85.341755      0.262742     34.528932   \n",
        "std       12.252756     78.143602      8.908614     41.004603     21.703636   \n",
        "min       27.000000  -4821.000000     21.000000  -3939.000000   -188.000000   \n",
        "25%       38.000000      0.000000     79.000000      0.000000     26.000000   \n",
        "50%       45.000000      0.000000     83.000000      0.000000     42.000000   \n",
        "75%       55.000000      0.000000     89.000000      0.000000     46.000000   \n",
        "max      126.000000   5075.000000    149.000000   3830.000000    436.000000   \n",
        "\n",
        "                0.1            27            48            22  \n",
        "count  43499.000000  43499.000000  43499.000000  43499.000000  \n",
        "mean       1.298306     37.074783     50.899929     13.964413  \n",
        "std      179.488823     13.135619     21.463492     25.648670  \n",
        "min   -13839.000000    -48.000000   -353.000000   -356.000000  \n",
        "25%       -5.000000     31.000000     37.000000      0.000000  \n",
        "50%        0.000000     39.000000     44.000000      2.000000  \n",
        "75%        5.000000     42.000000     60.000000     14.000000  \n",
        "max    13148.000000    105.000000    270.000000    266.000000  \n",
        "                  2\n",
        "count  43499.000000\n",
        "mean       1.700522\n",
        "std        1.354663\n",
        "min        1.000000\n",
        "25%        1.000000\n",
        "50%        1.000000\n",
        "75%        1.000000\n",
        "max        7.000000\n"
       ]
      }
     ],
     "prompt_number": 152
    },
    {
     "cell_type": "code",
     "collapsed": false,
     "input": [
      "import matplotlib.pyplot as plt\n",
      "\n",
      "plt.title(\"y_train Histogram\")\n",
      "plt.hist(y_train.iloc[:,0])"
     ],
     "language": "python",
     "metadata": {},
     "outputs": [
      {
       "metadata": {},
       "output_type": "pyout",
       "prompt_number": 240,
       "text": [
        "(array([  3.41080000e+04,   3.60000000e+01,   0.00000000e+00,\n",
        "          1.32000000e+02,   0.00000000e+00,   6.74800000e+03,\n",
        "          2.45800000e+03,   0.00000000e+00,   6.00000000e+00,\n",
        "          1.10000000e+01]),\n",
        " array([ 1. ,  1.6,  2.2,  2.8,  3.4,  4. ,  4.6,  5.2,  5.8,  6.4,  7. ]),\n",
        " <a list of 10 Patch objects>)"
       ]
      },
      {
       "metadata": {},
       "output_type": "display_data",
       "png": "[encoded data removed]",
       "text": [
        "<matplotlib.figure.Figure at 0x11aca8610>"
       ]
      }
     ],
     "prompt_number": 240
    },
    {
     "cell_type": "code",
     "collapsed": false,
     "input": [
      "plt.title(\"y_test Histogram\")\n",
      "plt.hist(y_test.iloc[:,0])"
     ],
     "language": "python",
     "metadata": {},
     "outputs": [
      {
       "metadata": {},
       "output_type": "pyout",
       "prompt_number": 241,
       "text": [
        "(array([  3.41080000e+04,   3.60000000e+01,   0.00000000e+00,\n",
        "          1.32000000e+02,   0.00000000e+00,   6.74800000e+03,\n",
        "          2.45800000e+03,   0.00000000e+00,   6.00000000e+00,\n",
        "          1.10000000e+01]),\n",
        " array([ 1. ,  1.6,  2.2,  2.8,  3.4,  4. ,  4.6,  5.2,  5.8,  6.4,  7. ]),\n",
        " <a list of 10 Patch objects>)"
       ]
      },
      {
       "metadata": {},
       "output_type": "display_data",
       "png": "[encoded data removed]",
       "text": [
        "<matplotlib.figure.Figure at 0x11dbe6ad0>"
       ]
      }
     ],
     "prompt_number": 241
    },
    {
     "cell_type": "code",
     "collapsed": false,
     "input": [
      "import numpy as np\n",
      "from sklearn.decomposition import PCA\n",
      "\n",
      "pca_all = PCA()\n",
      "pca_all.fit(X_train)\n",
      "sum_all = np.cumsum(pca_all.explained_variance_ratio_)\n",
      "\n",
      "plt.plot(sum_all)\n",
      "plt.show()"
     ],
     "language": "python",
     "metadata": {},
     "outputs": [
      {
       "metadata": {},
       "output_type": "display_data",
       "png": "[encoded data removed]",
       "text": [
        "<matplotlib.figure.Figure at 0x11ad46a10>"
       ]
      }
     ],
     "prompt_number": 227
    },
    {
     "cell_type": "code",
     "collapsed": false,
     "input": [
      "# Based on the above plot, I'll use the top 4 components\n",
      "\n",
      "pca = PCA(n_components=4)\n",
      "\n",
      "X_train_reduced = pca.fit_transform(X_train)\n",
      "X_test_reduced = pca.transform(X_test)\n",
      "\n",
      "print X_train_reduced.shape, X_test_reduced.shape"
     ],
     "language": "python",
     "metadata": {},
     "outputs": [
      {
       "output_type": "stream",
       "stream": "stdout",
       "text": [
        "(43499, 4) (43499, 4)\n"
       ]
      }
     ],
     "prompt_number": 220
    },
    {
     "cell_type": "code",
     "collapsed": false,
     "input": [
      "from pandas.tools.plotting import scatter_matrix\n",
      "from pandas import DataFrame\n",
      "\n",
      "# df = DataFrame(data=X_train_reduced)\n",
      "\n",
      "print y_test.iloc[:,0].shape\n",
      "\n",
      "# scatter_matrix(df)\n",
      "\n",
      "plt.scatter(X_train_reduced[:,0], X_train_reduced[:,1], c=y_test.iloc[:,0])\n",
      "\n",
      "# plt.scatter(X_train_reduced[:,0], y_train)\n",
      "plt.show()\n"
     ],
     "language": "python",
     "metadata": {},
     "outputs": [
      {
       "output_type": "stream",
       "stream": "stdout",
       "text": [
        "(43499,)\n"
       ]
      },
      {
       "metadata": {},
       "output_type": "display_data",
       "png": "[encoded data removed]",
       "text": [
        "<matplotlib.figure.Figure at 0x11cdabed0>"
       ]
      }
     ],
     "prompt_number": 221
    },
    {
     "cell_type": "code",
     "collapsed": false,
     "input": [
      "y_train.shape\n",
      "# plt.scatter(X_train_reduced[:,0], X_train_reduced[:,1])"
     ],
     "language": "python",
     "metadata": {},
     "outputs": [
      {
       "metadata": {},
       "output_type": "pyout",
       "prompt_number": 222,
       "text": [
        "(43499, 1)"
       ]
      }
     ],
     "prompt_number": 222
    },
    {
     "cell_type": "code",
     "collapsed": false,
     "input": [
      "from sklearn.linear_model import LogisticRegression\n",
      "from sklearn.metrics import classification_report\n",
      "\n",
      "clf = LogisticRegression()\n",
      "clf.fit(X_train_reduced, y_train)\n",
      "predictions = clf.predict(X_test_reduced)\n",
      "\n",
      "print clf.score(X_test_reduced, y_test)\n",
      "print y_test[1:].shape, predictions.shape\n",
      "\n",
      "# TODO print the classification report for the test set\n",
      "print classification_report(y_test, predictions)"
     ],
     "language": "python",
     "metadata": {},
     "outputs": [
      {
       "output_type": "stream",
       "stream": "stdout",
       "text": [
        "0.8471459114\n",
        "(43498, 1) (43499,)\n",
        "             precision    recall  f1-score   support\n",
        "\n",
        "          1       0.86      0.99      0.92     34108\n",
        "          2       0.00      0.00      0.00        36\n",
        "          3       0.00      0.00      0.00       132\n",
        "          4       0.66      0.28      0.39      6748\n",
        "          5       0.86      0.45      0.59      2458\n",
        "          6       0.00      0.00      0.00         6\n",
        "          7       0.86      0.55      0.67        11\n",
        "\n",
        "avg / total       0.83      0.85      0.82     43499\n",
        "\n"
       ]
      },
      {
       "output_type": "stream",
       "stream": "stderr",
       "text": [
        "/usr/local/lib/python2.7/site-packages/sklearn/preprocessing/label.py:125: DataConversionWarning: A column-vector y was passed when a 1d array was expected. Please change the shape of y to (n_samples, ), for example using ravel().\n",
        "  y = column_or_1d(y, warn=True)\n"
       ]
      }
     ],
     "prompt_number": 223
    },
    {
     "cell_type": "code",
     "collapsed": false,
     "input": [
      "from sklearn.metrics import confusion_matrix\n",
      "\n",
      "cm = confusion_matrix(y_test, predictions)\n",
      "print cm"
     ],
     "language": "python",
     "metadata": {},
     "outputs": [
      {
       "output_type": "stream",
       "stream": "stdout",
       "text": [
        "[[33852     0     0   251     4     0     1]\n",
        " [   11     0     0    11    14     0     0]\n",
        " [  108     0     0    24     0     0     0]\n",
        " [ 4698     0     0  1888   162     0     0]\n",
        " [  679     0     0   675  1104     0     0]\n",
        " [    5     0     0     0     1     0     0]\n",
        " [    5     0     0     0     0     0     6]]\n"
       ]
      }
     ],
     "prompt_number": 224
    },
    {
     "cell_type": "code",
     "collapsed": false,
     "input": [
      "from sklearn.ensemble import RandomForestClassifier\n",
      "\n",
      "rclf = RandomForestClassifier()\n",
      "\n",
      "rclf.fit(X_train_reduced, y_train)\n",
      "rpredictions = rclf.predict(X_test_reduced)\n",
      "\n",
      "print rclf.score(X_test_reduced, y_test)\n",
      "\n",
      "# TODO print the classification report for the test set\n",
      "print classification_report(y_test, rpredictions)"
     ],
     "language": "python",
     "metadata": {},
     "outputs": [
      {
       "output_type": "stream",
       "stream": "stdout",
       "text": [
        "0.999517230281\n",
        "             precision    recall  f1-score   support\n",
        "\n",
        "          1       1.00      1.00      1.00     34108\n",
        "          2       1.00      1.00      1.00        36\n",
        "          3       1.00      1.00      1.00       132\n",
        "          4       1.00      1.00      1.00      6748\n",
        "          5       1.00      1.00      1.00      2458\n",
        "          6       1.00      1.00      1.00         6\n",
        "          7       1.00      1.00      1.00        11\n",
        "\n",
        "avg / total       1.00      1.00      1.00     43499\n",
        "\n"
       ]
      },
      {
       "output_type": "stream",
       "stream": "stderr",
       "text": [
        "-c:5: DataConversionWarning: A column-vector y was passed when a 1d array was expected. Please change the shape of y to (n_samples, ), for example using ravel().\n"
       ]
      }
     ],
     "prompt_number": 225
    },
    {
     "cell_type": "code",
     "collapsed": false,
     "input": [
      "rcm = confusion_matrix(y_test, rpredictions)\n",
      "print rcm"
     ],
     "language": "python",
     "metadata": {},
     "outputs": [
      {
       "output_type": "stream",
       "stream": "stdout",
       "text": [
        "[[34106     0     0     2     0     0     0]\n",
        " [    0    36     0     0     0     0     0]\n",
        " [    1     0   131     0     0     0     0]\n",
        " [    0     0     0  6748     0     0     0]\n",
        " [    0     0     0     0  2458     0     0]\n",
        " [    0     0     0     0     0     6     0]\n",
        " [    0     0     0     0     0     0    11]]\n"
       ]
      }
     ],
     "prompt_number": 57
    },
    {
     "cell_type": "code",
     "collapsed": false,
     "input": [],
     "language": "python",
     "metadata": {},
     "outputs": [],
     "prompt_number": 34
    },
    {
     "cell_type": "code",
     "collapsed": false,
     "input": [],
     "language": "python",
     "metadata": {},
     "outputs": [],
     "prompt_number": 34
    },
    {
     "cell_type": "code",
     "collapsed": false,
     "input": [],
     "language": "python",
     "metadata": {},
     "outputs": []
    }
   ],
   "metadata": {}
  }
 ]
}
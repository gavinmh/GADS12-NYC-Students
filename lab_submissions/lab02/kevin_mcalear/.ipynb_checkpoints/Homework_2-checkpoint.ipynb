{
 "metadata": {
  "name": "",
  "signature": "sha256:ec8ee2029014cac9107cdf7419c98e8354b43fda01100e76999b988a85248ce6"
 },
 "nbformat": 3,
 "nbformat_minor": 0,
 "worksheets": [
  {
   "cells": [
    {
     "cell_type": "markdown",
     "metadata": {},
     "source": [
      "##Identify a relationship that you would like to approximate with simple linear regression. \n",
      "You could regress the heights of dogs onto their weights, the average price of an entree onto average Yelp scores, etc. Submit a few sentences describing the explanatory variable, response variable, and the relationship between them.\n",
      "\n",
      "\n",
      "***I Combined Hair Length and Happiness Level. I will now add in Favorite Color.***"
     ]
    },
    {
     "cell_type": "markdown",
     "metadata": {},
     "source": [
      "##Collect (or fabricate) toy training and test sets. \n",
      "These sets both require only 5-10 instances. Submit the training and test sets.\n",
      "\n",
      "###Training Data\n",
      "I made 100% made this up."
     ]
    },
    {
     "cell_type": "raw",
     "metadata": {},
     "source": [
      "| Length Of Hair (inches) | Happiness Level | Favorite Color  |\n",
      "|:-----------------------:|:---------------:|:---------------:|\n",
      "|            10           |        20       |      Blue       |\n",
      "|            19           |        35       |      Pink       |\n",
      "|             1           |        7        |      Red        |\n",
      "|            39           |        65       |      Blue       |\n",
      "|            53           |       122       |      Pink       |\n",
      "|             4           |        13       |      Pink       |"
     ]
    },
    {
     "cell_type": "markdown",
     "metadata": {},
     "source": [
      "## Calculate the values of the model parameters that minimize the cost function. \n",
      "Refer to the lab or the lecture's slides to calculate the variance of your explanatory variable and the covariance of your explanatory and response variables. Submit your model parameters.\n"
     ]
    },
    {
     "cell_type": "code",
     "collapsed": false,
     "input": [
      "# The Training Response Variables (Happiness Level)\n",
      "y_train = [20, 35, 7, 65, 122, 13]"
     ],
     "language": "python",
     "metadata": {},
     "outputs": [],
     "prompt_number": 34
    },
    {
     "cell_type": "code",
     "collapsed": false,
     "input": [
      "# My X_training Matrix\n",
      "X_raw_train = [\n",
      "    {\"color\": \"Blue\", \"hair_length\": 10},\n",
      "    {\"color\": \"Pink\", \"hair_length\": 19},\n",
      "    {\"color\": \"Red\", \"hair_length\": 1},\n",
      "    {\"color\": \"Blue\", \"hair_length\": 39},\n",
      "    {\"color\": \"Pink\", \"hair_length\": 53},\n",
      "    {\"color\": \"Pink\", \"hair_length\": 4}\n",
      "]"
     ],
     "language": "python",
     "metadata": {},
     "outputs": [],
     "prompt_number": 35
    },
    {
     "cell_type": "code",
     "collapsed": false,
     "input": [
      "# Import the LinearRegression class from the linear_model module\n",
      "from sklearn.linear_model import LinearRegression\n",
      "# Import the DictVectorizer class from the feature_extraction module.\n",
      "from sklearn.feature_extraction import DictVectorizer"
     ],
     "language": "python",
     "metadata": {},
     "outputs": [],
     "prompt_number": 36
    },
    {
     "cell_type": "code",
     "collapsed": false,
     "input": [
      "# Make A Regressor\n",
      "regressor = LinearRegression()\n",
      "# Make A DictVectorizer\n",
      "dict_vector = DictVectorizer()"
     ],
     "language": "python",
     "metadata": {},
     "outputs": [],
     "prompt_number": 43
    },
    {
     "cell_type": "code",
     "collapsed": false,
     "input": [
      "# Then transform X using the vectorizer to one-hot encode the explanatory variables.\n",
      "X_train = dict_vector.fit_transform(X_raw_train)"
     ],
     "language": "python",
     "metadata": {},
     "outputs": [],
     "prompt_number": 44
    },
    {
     "cell_type": "code",
     "collapsed": false,
     "input": [
      "# Train (fit) the model\n",
      "regressor.fit(X_train, y_train)"
     ],
     "language": "python",
     "metadata": {},
     "outputs": [
      {
       "metadata": {},
       "output_type": "pyout",
       "prompt_number": 45,
       "text": [
        "LinearRegression(copy_X=True, fit_intercept=True, normalize=False)"
       ]
      }
     ],
     "prompt_number": 45
    },
    {
     "cell_type": "markdown",
     "metadata": {},
     "source": [
      "###Testing Data\n",
      "I also 110% made this up. Scared to see the results."
     ]
    },
    {
     "cell_type": "raw",
     "metadata": {},
     "source": [
      "| Length Of Hair (inches) | Happiness Level | Favorite Color  |\n",
      "|:-----------------------:|:---------------:|:---------------:|\n",
      "|            12           |        28       |      Blue       |\n",
      "|            15           |        65       |      Pink       |\n",
      "|            19           |        77       |      Red        |\n",
      "|            79           |        165      |      Blue       |\n",
      "|            6            |        12       |      Pink       |\n",
      "|            15           |        35       |      Pink       |"
     ]
    },
    {
     "cell_type": "code",
     "collapsed": false,
     "input": [
      "# The Testing Response Variables (Happiness Level)\n",
      "y_test = [28, 65, 77, 165, 12, 35]"
     ],
     "language": "python",
     "metadata": {},
     "outputs": [],
     "prompt_number": 46
    },
    {
     "cell_type": "code",
     "collapsed": false,
     "input": [
      "# My X_testing Matrix\n",
      "X_raw_test = [\n",
      "    {\"color\": \"Blue\", \"hair_length\": 12},\n",
      "    {\"color\": \"Pink\", \"hair_length\": 15},\n",
      "    {\"color\": \"Red\", \"hair_length\": 19},\n",
      "    {\"color\": \"Blue\", \"hair_length\": 79},\n",
      "    {\"color\": \"Pink\", \"hair_length\": 6},\n",
      "    {\"color\": \"Pink\", \"hair_length\": 15}\n",
      "]"
     ],
     "language": "python",
     "metadata": {},
     "outputs": [],
     "prompt_number": 47
    },
    {
     "cell_type": "code",
     "collapsed": false,
     "input": [
      "# Then transform X using the vectorizer to one-hot encode the explanatory variables.\n",
      "X_test = dict_vector.fit_transform(X_raw_test)"
     ],
     "language": "python",
     "metadata": {},
     "outputs": [],
     "prompt_number": 48
    },
    {
     "cell_type": "markdown",
     "metadata": {},
     "source": [
      "## Predict the values of the response variable for the test instances. \n",
      "Calculate your model's r-squared score on the test set, and interpret it in a sentence or two. Submit the r-squared score."
     ]
    },
    {
     "cell_type": "code",
     "collapsed": false,
     "input": [
      "# Now We Will Make Some Predictions\n",
      "predictions = regressor.predict(X_test)\n",
      "\n",
      "# Let's look at our predictions vs. the actual result\n",
      "for i,p in enumerate(predictions):\n",
      "    print p, y_test[i]"
     ],
     "language": "python",
     "metadata": {},
     "outputs": [
      {
       "output_type": "stream",
       "stream": "stdout",
       "text": [
        "16.2620204223 28\n",
        "34.9766035491 65\n",
        "44.7826905919 77\n",
        "156.897590959 165\n",
        "16.0852582532 12\n",
        "34.9766035491 35\n"
       ]
      }
     ],
     "prompt_number": 58
    },
    {
     "cell_type": "code",
     "collapsed": false,
     "input": [
      "# Evaluate my R Squared Score\n",
      "regressor.score(X_test, y_test)"
     ],
     "language": "python",
     "metadata": {},
     "outputs": [
      {
       "metadata": {},
       "output_type": "pyout",
       "prompt_number": 59,
       "text": [
        "0.85803490122439685"
       ]
      }
     ],
     "prompt_number": 59
    },
    {
     "cell_type": "markdown",
     "metadata": {},
     "source": [
      "###The Predictions\n",
      "I would have guessed that the \"Favorite color wouldn't have done much if hurt the overall model but I didn't change the actual Testing data's colors so I think it may have helped overall. We shall see!\n"
     ]
    },
    {
     "cell_type": "raw",
     "metadata": {},
     "source": [
      "\n",
      "| Length Of Hair (inches) | Happiness Level | Favorite Color  | Happiness PREDICTION |\n",
      "|:-----------------------:|:---------------:|:---------------:|:--------------------:|\n",
      "|           12            |        28       |      Blue       |     16.2620204223    |\n",
      "|           15            |        65       |      Pink       |     34.9766035491    |\n",
      "|           19            |        77       |      Red        |     44.7826905919    |\n",
      "|           79            |        165      |      Blue       |     156.897590959    |\n",
      "|           6             |        12       |      Pink       |     16.0852582532    |\n",
      "|           15            |        35       |      Pink       |     34.9766035491    |"
     ]
    },
    {
     "cell_type": "markdown",
     "metadata": {},
     "source": [
      "###MY Old R2 Score : 0.8317825445\n",
      "###MY New R2 Score : 0.85803490122439685\n",
      "It seems that my new Score is even better than before (only slightly). Sooo, it looks like knowing somones' hair length and their favorite color in combination allows me to even more accurately predict thier happiness level."
     ]
    }
   ],
   "metadata": {}
  }
 ]
}
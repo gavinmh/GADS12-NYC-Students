{
 "metadata": {
  "name": "",
  "signature": "sha256:cfdf54594b8c8c0eaebd2862c94c7390c69fc6ae556dd031d9cb08c1747eb72f"
 },
 "nbformat": 3,
 "nbformat_minor": 0,
 "worksheets": [
  {
   "cells": [
    {
     "cell_type": "markdown",
     "metadata": {},
     "source": [
      "#From Stanford's MOOC on MedStats\n",
      "#(Exercise given in R adapted to Python)"
     ]
    },
    {
     "cell_type": "code",
     "collapsed": false,
     "input": [
      "import copy\n",
      "from sklearn.feature_extraction import DictVectorizer\n",
      "from sklearn.linear_model import LinearRegression\n",
      "import pandas as pd"
     ],
     "language": "python",
     "metadata": {},
     "outputs": [],
     "prompt_number": 27
    },
    {
     "cell_type": "markdown",
     "metadata": {},
     "source": [
      "##Mock Dataset from class given in form of CSV file"
     ]
    },
    {
     "cell_type": "code",
     "collapsed": false,
     "input": [
      "df = pd.read_csv('/Users/madhu/Downloads/mock_class_data.csv')"
     ],
     "language": "python",
     "metadata": {},
     "outputs": [],
     "prompt_number": 28
    },
    {
     "cell_type": "code",
     "collapsed": false,
     "input": [
      "print df.iloc[0:50,0:22]"
     ],
     "language": "python",
     "metadata": {},
     "outputs": [
      {
       "output_type": "stream",
       "stream": "stdout",
       "text": [
        "    ID  coffee  Varsity  Milk  exercise  wakeup  politics  fruitveg  obama  \\\n",
        "0    1      16        0     6       2.0     7.5        38         4     40   \n",
        "1    2       0        1     0       0.0     9.5        60         3     72   \n",
        "2    3       2        1     0       3.0     7.0        95         7     85   \n",
        "3    4       0        1     0       3.0     7.5        80         3     80   \n",
        "4    5       2        0     0       2.0     9.0        72        10     65   \n",
        "5    6      12        1     0       3.0     7.5        70         6     80   \n",
        "6    7      16        1     6       2.5     7.5        80         3     80   \n",
        "7    8       4        1     2      10.0     6.5        75         8     80   \n",
        "8    9      12        1     1       3.5     7.5        80         1     80   \n",
        "9   10       4        0     4       3.5     9.0        85         4     65   \n",
        "10  11       0        0    12       1.0     7.5       NaN         2     72   \n",
        "11  12       6        1     6       7.0     8.5        80         3     78   \n",
        "12  13      32        0     4       4.5     6.0        84         5    100   \n",
        "13  14      16        1     4       5.0     6.5        80         3     75   \n",
        "14  15      12        1     8       4.0     6.0        75         4     88   \n",
        "15  16       3        0     6       2.5     6.5        75         5     95   \n",
        "16  17       8        0     0       3.0     7.0        50         3     70   \n",
        "17  18       8        1     4       4.0     7.0        80         3     90   \n",
        "18  19      40        0     4       3.0     6.0        80         6     80   \n",
        "19  20      16        1     0       6.0     6.5        71         4     74   \n",
        "20  21       4        1     4       0.5     7.5        75         2     75   \n",
        "21  22       2        0     8       2.0     7.0        66         3     80   \n",
        "22  23       0        1    16       7.0     7.5        65         1     71   \n",
        "23  24      16        1    10       6.0     7.5       NaN         2    NaN   \n",
        "24  25      10        1     3       4.5     6.0        85         4     80   \n",
        "25  26      16        1     6       3.0     7.5        78         2     82   \n",
        "26  27      12        1     5       2.0     7.5        64         4     66   \n",
        "27  28      12        1    12      12.0     7.0        67         4     71   \n",
        "28  29      20        0     0       2.0     5.5        39         3     32   \n",
        "29  30       2        1    50       7.0     5.0        27         5     59   \n",
        "30  31      12        0     6       2.5     7.0        99         1    100   \n",
        "31  32       0        0    16       8.0     7.0        82         1     90   \n",
        "32  33      12        1     0       3.0     9.0        72         5     82   \n",
        "33  34      16        0     8       0.0    11.0        88         4     89   \n",
        "34  35      32        0     4       3.0     8.0        81         6     91   \n",
        "35  36       0        1     0       2.0     8.0        89         7     95   \n",
        "36  37       8        1     0       1.0     8.0        93         6     85   \n",
        "37  38       0        1   NaN      10.0     5.5        91         6     90   \n",
        "38  39      12        0    16       5.0     7.5        93         2     99   \n",
        "39  40      12        0     0       4.5     8.0        92         3     90   \n",
        "40  41      12        1     0       4.0     7.0       100         5     80   \n",
        "41  42       0        1     2       2.5     7.0        72         6     89   \n",
        "42  43       6        0     6       0.5     9.0        71         3     75   \n",
        "43  44       0        1     0       6.0     9.5        39         4     55   \n",
        "44  45       0        0     0       5.5     8.0        79         1     92   \n",
        "45  46       8        0     3      10.0     8.0        42         1     50   \n",
        "46  47       0        1     3       8.0     7.0        85         5     60   \n",
        "47  48       0        1    12       2.0     8.5        44         1     61   \n",
        "48  49      32        0     8       7.0     7.5        85         4     90   \n",
        "49  50      40        1     0       5.0     8.0        70         3     80   \n",
        "\n",
        "    bushjr   ...    regan  carter  Mathlove  WritingLove  optimism  alcohol  \\\n",
        "0       70   ...       70      49        25           65        70        1   \n",
        "1       24   ...       64      62        50           48        78        3   \n",
        "2        0   ...       20      40        65           10        90        1   \n",
        "3        8   ...       25      51        85           50        75        1   \n",
        "4       18   ...       39      48        43           51        62        1   \n",
        "5       20   ...       35      60        10           51        75        3   \n",
        "6       20   ...       45      50        65           70        75        2   \n",
        "7        0   ...       20      60        65           80        20        3   \n",
        "8        5   ...       21      65        20           70        90        7   \n",
        "9       10   ...       25     NaN        35           10        70        0   \n",
        "10      24   ...      NaN     NaN        23          NaN        82        0   \n",
        "11      15   ...       23      78        67           62        90        6   \n",
        "12      11   ...       38      60        60           72        51        3   \n",
        "13      30   ...      NaN     NaN        55           45        75        5   \n",
        "14      16   ...       73     NaN        62           18        93        0   \n",
        "15       0   ...       50      51        70           70       100        2   \n",
        "16      45   ...       49      51        40           55        75        8   \n",
        "17       2   ...       10      80        60           60        40        3   \n",
        "18      20   ...       35      50        80           20        90        2   \n",
        "19      32   ...      NaN     NaN        69           64       100        5   \n",
        "20      10   ...        5      65        80           65        33        5   \n",
        "21       7   ...       44     NaN        44           55        70        4   \n",
        "22       0   ...      NaN     NaN        49           61        44        0   \n",
        "23     NaN   ...      NaN     NaN       NaN           62       100        1   \n",
        "24      10   ...       25      90        60           70        85        2   \n",
        "25       0   ...        0     NaN        90           23       NaN        2   \n",
        "26      37   ...      NaN     NaN       NaN           61        40        1   \n",
        "27      14   ...       18     NaN       NaN          NaN        66        1   \n",
        "28      29   ...       76      47        81           82        87        1   \n",
        "29      96   ...       11      12        98           98        97        0   \n",
        "30      10   ...        5      80        43          NaN       100        0   \n",
        "31       0   ...       45      80        65           70        90        0   \n",
        "32      22   ...       39      44        80           80        91        2   \n",
        "33      32   ...       51      23        92           66        67        6   \n",
        "34      20   ...       60      78        75           20        89        0   \n",
        "35       8   ...       50      51        50           45        69        5   \n",
        "36      21   ...       49      77        80            8        84        0   \n",
        "37      20   ...      NaN     NaN        59           80       100        2   \n",
        "38      19   ...       37      54        67           95        51        0   \n",
        "39      20   ...       53      47        70           70        90        5   \n",
        "40       9   ...        5      30        35           23        78        3   \n",
        "41       0   ...       55      52        70           91        82        3   \n",
        "42      30   ...       50      50        80           24        80        3   \n",
        "43      61   ...       85      48        85           30        90        1   \n",
        "44      60   ...       80      80        54           19        75        0   \n",
        "45      50   ...       49      48        69           54        76        2   \n",
        "46      33   ...       50      50        78           73        99        1   \n",
        "47       6   ...       25      22        49           83        40        3   \n",
        "48      22   ...       20      49        20           29        75        0   \n",
        "49      30   ...       50      50        88           70        80        5   \n",
        "\n",
        "    sleep  IsBookSmart  homework  healthcare  \n",
        "0     7.0            1        15          35  \n",
        "1     7.0            1        20          68  \n",
        "2     7.0            1        40          70  \n",
        "3     6.5            1         0          65  \n",
        "4     7.5            1         7          61  \n",
        "5     7.0            1        10          60  \n",
        "6     6.0            1        25          85  \n",
        "7     6.5            1         1         100  \n",
        "8     7.0            1         0          90  \n",
        "9     6.0            1        20          75  \n",
        "10    7.0            1         3          81  \n",
        "11    7.5            1         2          76  \n",
        "12    5.0            0         4          68  \n",
        "13    7.5            1         0          60  \n",
        "14    7.0            1         3          69  \n",
        "15    7.0            1         0          80  \n",
        "16    6.5            1         3          60  \n",
        "17    7.0            1        10          65  \n",
        "18    7.0            1         0          75  \n",
        "19    7.0            1         4          72  \n",
        "20    8.0            1         5          90  \n",
        "21    6.5            1        10          35  \n",
        "22    8.5            0         0          63  \n",
        "23    8.0            1         5         NaN  \n",
        "24    7.0            1        10          75  \n",
        "25    6.0            1        10          83  \n",
        "26    8.0            1        15          58  \n",
        "27    6.0          NaN         0          91  \n",
        "28    7.0            0         2          22  \n",
        "29    8.0            1         1          95  \n",
        "30    8.0            1        40          80  \n",
        "31    6.0            1         2         NaN  \n",
        "32    7.5            1        21          60  \n",
        "33    6.5            0        30          69  \n",
        "34    6.5            1        10          80  \n",
        "35    6.5            1        20          60  \n",
        "36    8.0            1        20          65  \n",
        "37    7.0            1        15          75  \n",
        "38    7.0            1        15          72  \n",
        "39    6.5            0        25          90  \n",
        "40    7.0            1        15          35  \n",
        "41    7.0            0       NaN          63  \n",
        "42    8.0            1        10         NaN  \n",
        "43    8.0            1        10          76  \n",
        "44    7.5            1        15          84  \n",
        "45    8.0            1         3          56  \n",
        "46    6.0            1        20          90  \n",
        "47    6.5            0        10          21  \n",
        "48    6.0            0        33          95  \n",
        "49    6.0            0        20          90  \n",
        "\n",
        "[50 rows x 22 columns]\n"
       ]
      }
     ],
     "prompt_number": 46
    },
    {
     "cell_type": "markdown",
     "metadata": {},
     "source": [
      "##Perform a linear regression of President Obama\u2019s approval scores (\u2018obama\u2019) vs. students\u2019 impression of the new health care reform law (\u2018healthcare\u2019). What are the values for the beta and the intercept? Are both of them statistically significant? What is the value of R2 for this linear regression?"
     ]
    },
    {
     "cell_type": "code",
     "collapsed": false,
     "input": [
      "df1 = df.iloc[0:50,0:22]\n",
      "df2 = df1.loc[:,['obama','healthcare']]"
     ],
     "language": "python",
     "metadata": {},
     "outputs": [
      {
       "html": [
        "<div style=\"max-height:1000px;max-width:1500px;overflow:auto;\">\n",
        "<table border=\"1\" class=\"dataframe\">\n",
        "  <thead>\n",
        "    <tr style=\"text-align: right;\">\n",
        "      <th></th>\n",
        "      <th>obama</th>\n",
        "      <th>healthcare</th>\n",
        "    </tr>\n",
        "  </thead>\n",
        "  <tbody>\n",
        "    <tr>\n",
        "      <th>count</th>\n",
        "      <td>  47.000000</td>\n",
        "      <td>  47.000000</td>\n",
        "    </tr>\n",
        "    <tr>\n",
        "      <th>mean</th>\n",
        "      <td>  77.510638</td>\n",
        "      <td>  69.957447</td>\n",
        "    </tr>\n",
        "    <tr>\n",
        "      <th>std</th>\n",
        "      <td>  14.763163</td>\n",
        "      <td>  18.217237</td>\n",
        "    </tr>\n",
        "    <tr>\n",
        "      <th>min</th>\n",
        "      <td>  32.000000</td>\n",
        "      <td>  21.000000</td>\n",
        "    </tr>\n",
        "    <tr>\n",
        "      <th>25%</th>\n",
        "      <td>  71.000000</td>\n",
        "      <td>  60.500000</td>\n",
        "    </tr>\n",
        "    <tr>\n",
        "      <th>50%</th>\n",
        "      <td>  80.000000</td>\n",
        "      <td>  72.000000</td>\n",
        "    </tr>\n",
        "    <tr>\n",
        "      <th>75%</th>\n",
        "      <td>  89.000000</td>\n",
        "      <td>  82.000000</td>\n",
        "    </tr>\n",
        "    <tr>\n",
        "      <th>max</th>\n",
        "      <td> 100.000000</td>\n",
        "      <td> 100.000000</td>\n",
        "    </tr>\n",
        "  </tbody>\n",
        "</table>\n",
        "</div>"
       ],
       "metadata": {},
       "output_type": "pyout",
       "prompt_number": 30,
       "text": [
        "            obama  healthcare\n",
        "count   47.000000   47.000000\n",
        "mean    77.510638   69.957447\n",
        "std     14.763163   18.217237\n",
        "min     32.000000   21.000000\n",
        "25%     71.000000   60.500000\n",
        "50%     80.000000   72.000000\n",
        "75%     89.000000   82.000000\n",
        "max    100.000000  100.000000"
       ]
      }
     ],
     "prompt_number": 30
    },
    {
     "cell_type": "markdown",
     "metadata": {},
     "source": [
      "##Kill any NAs"
     ]
    },
    {
     "cell_type": "code",
     "collapsed": false,
     "input": [
      "df3 = df2.dropna(how='any')\n",
      "df3.describe()"
     ],
     "language": "python",
     "metadata": {},
     "outputs": []
    },
    {
     "cell_type": "markdown",
     "metadata": {},
     "source": [
      "##Grab Obama approvals and put into outcome variable list"
     ]
    },
    {
     "cell_type": "code",
     "collapsed": false,
     "input": [
      "y_train= df3['obama'].tolist()"
     ],
     "language": "python",
     "metadata": {},
     "outputs": []
    },
    {
     "cell_type": "markdown",
     "metadata": {},
     "source": [
      "##Grab healthcare predictor scores, put into list and use Python loop to put into a list of a list"
     ]
    },
    {
     "cell_type": "code",
     "collapsed": false,
     "input": [
      "x_train = df3['healthcare'].tolist()\n",
      "x_train_new = []\n",
      "for item in x_train:\n",
      "    x_train_new.append([item])"
     ],
     "language": "python",
     "metadata": {},
     "outputs": []
    },
    {
     "cell_type": "markdown",
     "metadata": {},
     "source": [
      "##Perform regression and print parameters"
     ]
    },
    {
     "cell_type": "code",
     "collapsed": false,
     "input": [
      "regressor = LinearRegression()\n",
      "regressor.fit(x_train_new, y_train)\n",
      "print regressor.intercept_\n",
      "print regressor.coef_\n",
      "print regressor.score(x_train_new, y_train)"
     ],
     "language": "python",
     "metadata": {},
     "outputs": [
      {
       "output_type": "stream",
       "stream": "stdout",
       "text": [
        "55.2483128873\n",
        "[ 0.31822667]\n",
        "0.154198215473\n"
       ]
      }
     ],
     "prompt_number": 33
    },
    {
     "cell_type": "markdown",
     "metadata": {},
     "source": [
      "## Next, perform another linear regression of President Obama\u2019s approval scores on the students\u2019 political bent AND their impression of the new health care reform law. What are the values for the betas and intercept? Compare the R2 value for this regression with the R2 values you obtained for the previous question. Is there any evidence of confounding?"
     ]
    },
    {
     "cell_type": "markdown",
     "metadata": {},
     "source": [
      "##Grab 3 columns of interest from original dataset; then drop any NAs"
     ]
    },
    {
     "cell_type": "code",
     "collapsed": false,
     "input": [
      "df4 = df1.loc[:, ['obama','healthcare', 'politics']]\n",
      "df5 = df4.dropna(how='any')\n",
      "df5.describe()"
     ],
     "language": "python",
     "metadata": {},
     "outputs": []
    },
    {
     "cell_type": "markdown",
     "metadata": {},
     "source": [
      "##The Obama ratings once again is the outcome variable"
     ]
    },
    {
     "cell_type": "code",
     "collapsed": false,
     "input": [
      "y_multi_train = df5['obama'].tolist()"
     ],
     "language": "python",
     "metadata": {},
     "outputs": []
    },
    {
     "cell_type": "markdown",
     "metadata": {},
     "source": [
      "##Take the healthcare, politics predictor variables, and put them into a dictionary inside a list"
     ]
    },
    {
     "cell_type": "code",
     "collapsed": false,
     "input": [
      "X_multi_train = df5.loc[:,['healthcare','politics']].T.to_dict().values()"
     ],
     "language": "python",
     "metadata": {},
     "outputs": [],
     "prompt_number": 70
    },
    {
     "cell_type": "code",
     "collapsed": false,
     "input": [
      "#Let's see how it looks\n",
      "print X_multi_train"
     ],
     "language": "python",
     "metadata": {},
     "outputs": [
      {
       "output_type": "stream",
       "stream": "stdout",
       "text": [
        "[{'politics': 38.0, 'healthcare': 35.0}, {'politics': 60.0, 'healthcare': 68.0}, {'politics': 95.0, 'healthcare': 70.0}, {'politics': 80.0, 'healthcare': 65.0}, {'politics': 72.0, 'healthcare': 61.0}, {'politics': 70.0, 'healthcare': 60.0}, {'politics': 80.0, 'healthcare': 85.0}, {'politics': 75.0, 'healthcare': 100.0}, {'politics': 80.0, 'healthcare': 90.0}, {'politics': 85.0, 'healthcare': 75.0}, {'politics': 80.0, 'healthcare': 76.0}, {'politics': 84.0, 'healthcare': 68.0}, {'politics': 80.0, 'healthcare': 60.0}, {'politics': 75.0, 'healthcare': 69.0}, {'politics': 75.0, 'healthcare': 80.0}, {'politics': 50.0, 'healthcare': 60.0}, {'politics': 80.0, 'healthcare': 65.0}, {'politics': 80.0, 'healthcare': 75.0}, {'politics': 71.0, 'healthcare': 72.0}, {'politics': 75.0, 'healthcare': 90.0}, {'politics': 66.0, 'healthcare': 35.0}, {'politics': 65.0, 'healthcare': 63.0}, {'politics': 85.0, 'healthcare': 75.0}, {'politics': 78.0, 'healthcare': 83.0}, {'politics': 64.0, 'healthcare': 58.0}, {'politics': 67.0, 'healthcare': 91.0}, {'politics': 39.0, 'healthcare': 22.0}, {'politics': 27.0, 'healthcare': 95.0}, {'politics': 99.0, 'healthcare': 80.0}, {'politics': 72.0, 'healthcare': 60.0}, {'politics': 88.0, 'healthcare': 69.0}, {'politics': 81.0, 'healthcare': 80.0}, {'politics': 89.0, 'healthcare': 60.0}, {'politics': 93.0, 'healthcare': 65.0}, {'politics': 91.0, 'healthcare': 75.0}, {'politics': 93.0, 'healthcare': 72.0}, {'politics': 92.0, 'healthcare': 90.0}, {'politics': 100.0, 'healthcare': 35.0}, {'politics': 72.0, 'healthcare': 63.0}, {'politics': 39.0, 'healthcare': 76.0}, {'politics': 79.0, 'healthcare': 84.0}, {'politics': 42.0, 'healthcare': 56.0}, {'politics': 85.0, 'healthcare': 90.0}, {'politics': 44.0, 'healthcare': 21.0}, {'politics': 85.0, 'healthcare': 95.0}, {'politics': 70.0, 'healthcare': 90.0}]\n"
       ]
      }
     ],
     "prompt_number": 36
    },
    {
     "cell_type": "markdown",
     "metadata": {},
     "source": [
      "##Don't need a dictvectorizer here because both politics & healthcare are continuous variables; However, we need to put both variables in a list embedded within a list; the below loop does that"
     ]
    },
    {
     "cell_type": "code",
     "collapsed": false,
     "input": [
      "stuff = []\n",
      "for i in X_multi_train:\n",
      "    stuff.append([i['politics'], i['healthcare']])\n",
      "print stuff"
     ],
     "language": "python",
     "metadata": {},
     "outputs": [
      {
       "output_type": "stream",
       "stream": "stdout",
       "text": [
        "[[38.0, 35.0], [60.0, 68.0], [95.0, 70.0], [80.0, 65.0], [72.0, 61.0], [70.0, 60.0], [80.0, 85.0], [75.0, 100.0], [80.0, 90.0], [85.0, 75.0], [80.0, 76.0], [84.0, 68.0], [80.0, 60.0], [75.0, 69.0], [75.0, 80.0], [50.0, 60.0], [80.0, 65.0], [80.0, 75.0], [71.0, 72.0], [75.0, 90.0], [66.0, 35.0], [65.0, 63.0], [85.0, 75.0], [78.0, 83.0], [64.0, 58.0], [67.0, 91.0], [39.0, 22.0], [27.0, 95.0], [99.0, 80.0], [72.0, 60.0], [88.0, 69.0], [81.0, 80.0], [89.0, 60.0], [93.0, 65.0], [91.0, 75.0], [93.0, 72.0], [92.0, 90.0], [100.0, 35.0], [72.0, 63.0], [39.0, 76.0], [79.0, 84.0], [42.0, 56.0], [85.0, 90.0], [44.0, 21.0], [85.0, 95.0], [70.0, 90.0]]\n"
       ]
      }
     ],
     "prompt_number": 71
    },
    {
     "cell_type": "markdown",
     "metadata": {},
     "source": [
      "##Perform the Regression & print the parameters"
     ]
    },
    {
     "cell_type": "code",
     "collapsed": false,
     "input": [
      "multi_regressor = LinearRegression()\n",
      "multi_regressor.fit(stuff, y_multi_train)\n",
      "print multi_regressor.intercept_\n",
      "print multi_regressor.coef_\n",
      "print multi_regressor.score(stuff, y_multi_train)"
     ],
     "language": "python",
     "metadata": {},
     "outputs": [
      {
       "output_type": "stream",
       "stream": "stdout",
       "text": [
        "22.1981171743\n",
        "[ 0.62497783  0.13445954]\n",
        "0.629520938472\n"
       ]
      }
     ],
     "prompt_number": 44
    },
    {
     "cell_type": "markdown",
     "metadata": {},
     "source": [
      "##-----NOTE the below shows the result of mistakenly using a DictVectorizer; I still got back results but these were invalid! Just a warning that you need to be cognizant of when to use a DV and when not to; blind application may result in results that seem valid but are NOT"
     ]
    },
    {
     "cell_type": "code",
     "collapsed": false,
     "input": [
      "multi_regressor = LinearRegression()\n",
      "multi_regressor.fit(X_multi_train_after, y_multi_train)\n",
      "print multi_regressor.intercept_\n",
      "print multi_regressor.coef_\n",
      "print multi_regressor.score(X_multi_train_after, y_multi_train)"
     ],
     "language": "python",
     "metadata": {},
     "outputs": [
      {
       "output_type": "stream",
       "stream": "stdout",
       "text": [
        "77.6304347826\n",
        "[-0.1830024   0.20172663]\n",
        "0.0917397144959\n"
       ]
      }
     ],
     "prompt_number": 24
    },
    {
     "cell_type": "markdown",
     "metadata": {},
     "source": [
      "##In answer to the question 'Compare the R2 value for this regression with the R2 values you obtained for the previous question. Is there any evidence of confounding?', the answer is yes! Beta of 'healthcare' variable in the Single Linear Regression is .32;\n",
      "\n",
      "##With the Multiple Linear Regression introducing the 'political bent' variable, the beta of 'healthcare' is now .13; This is a huge drop! [The p-value probably is not significant anymore either] Most of the movement in the Obama rating can be attributed to 'political bent' moreso than healthcare. When using SLR on healthcare alone, the political bent was confounding the relationship"
     ]
    },
    {
     "cell_type": "markdown",
     "metadata": {},
     "source": [
      "#Exercise & Categorical Values on Varsity Sport in High School"
     ]
    },
    {
     "cell_type": "markdown",
     "metadata": {},
     "source": [
      "As an exercise in dummy coding, find the parameters for the following linear regression \n",
      "model:\n",
      "\n",
      "Exercise = Intercept + [Varsity Sport in High School (1 if yes)] * Beta\n",
      "\n",
      "Determine the values of the intercept and slopes."
     ]
    },
    {
     "cell_type": "code",
     "collapsed": false,
     "input": [
      "df10 = df.iloc[0:50,0:22]\n",
      "df11 = df10.loc[:,['exercise','Varsity']]\n",
      "df12 = df11.dropna(how='any')\n",
      "df12.describe()"
     ],
     "language": "python",
     "metadata": {},
     "outputs": [
      {
       "html": [
        "<div style=\"max-height:1000px;max-width:1500px;overflow:auto;\">\n",
        "<table border=\"1\" class=\"dataframe\">\n",
        "  <thead>\n",
        "    <tr style=\"text-align: right;\">\n",
        "      <th></th>\n",
        "      <th>exercise</th>\n",
        "      <th>Varsity</th>\n",
        "    </tr>\n",
        "  </thead>\n",
        "  <tbody>\n",
        "    <tr>\n",
        "      <th>count</th>\n",
        "      <td> 50.000000</td>\n",
        "      <td> 50.000000</td>\n",
        "    </tr>\n",
        "    <tr>\n",
        "      <th>mean</th>\n",
        "      <td>  4.160000</td>\n",
        "      <td>  0.600000</td>\n",
        "    </tr>\n",
        "    <tr>\n",
        "      <th>std</th>\n",
        "      <td>  2.772754</td>\n",
        "      <td>  0.494872</td>\n",
        "    </tr>\n",
        "    <tr>\n",
        "      <th>min</th>\n",
        "      <td>  0.000000</td>\n",
        "      <td>  0.000000</td>\n",
        "    </tr>\n",
        "    <tr>\n",
        "      <th>25%</th>\n",
        "      <td>  2.125000</td>\n",
        "      <td>  0.000000</td>\n",
        "    </tr>\n",
        "    <tr>\n",
        "      <th>50%</th>\n",
        "      <td>  3.250000</td>\n",
        "      <td>  1.000000</td>\n",
        "    </tr>\n",
        "    <tr>\n",
        "      <th>75%</th>\n",
        "      <td>  5.875000</td>\n",
        "      <td>  1.000000</td>\n",
        "    </tr>\n",
        "    <tr>\n",
        "      <th>max</th>\n",
        "      <td> 12.000000</td>\n",
        "      <td>  1.000000</td>\n",
        "    </tr>\n",
        "  </tbody>\n",
        "</table>\n",
        "</div>"
       ],
       "metadata": {},
       "output_type": "pyout",
       "prompt_number": 47,
       "text": [
        "        exercise    Varsity\n",
        "count  50.000000  50.000000\n",
        "mean    4.160000   0.600000\n",
        "std     2.772754   0.494872\n",
        "min     0.000000   0.000000\n",
        "25%     2.125000   0.000000\n",
        "50%     3.250000   1.000000\n",
        "75%     5.875000   1.000000\n",
        "max    12.000000   1.000000"
       ]
      }
     ],
     "prompt_number": 47
    },
    {
     "cell_type": "code",
     "collapsed": false,
     "input": [
      "y_exercise_train= df12['exercise'].tolist()\n",
      "print len(y_exercise_train)"
     ],
     "language": "python",
     "metadata": {},
     "outputs": [
      {
       "output_type": "stream",
       "stream": "stdout",
       "text": [
        "50\n"
       ]
      }
     ],
     "prompt_number": 49
    },
    {
     "cell_type": "markdown",
     "metadata": {},
     "source": [
      "##Getting the Varsity data and creating a predictor/categorical variable out of it;"
     ]
    },
    {
     "cell_type": "markdown",
     "metadata": {},
     "source": [
      "###Note that this does not need DictVectorizer because the Varsity variable is already boolean: 1/0; in fact using DV gives wrong results!"
     ]
    },
    {
     "cell_type": "code",
     "collapsed": false,
     "input": [
      "x_new = df12['Varsity'].tolist()\n",
      "print len(x_new)\n",
      "print x_new"
     ],
     "language": "python",
     "metadata": {},
     "outputs": []
    },
    {
     "cell_type": "markdown",
     "metadata": {},
     "source": [
      "##Using Python Comprehension to embed the Varsity variable within brackets; Neat!"
     ]
    },
    {
     "cell_type": "code",
     "collapsed": false,
     "input": [
      "x_new2 = [[new_val] for new_val in x_new]"
     ],
     "language": "python",
     "metadata": {},
     "outputs": []
    },
    {
     "cell_type": "markdown",
     "metadata": {},
     "source": [
      "##Instantiating the Regression Object"
     ]
    },
    {
     "cell_type": "code",
     "collapsed": false,
     "input": [
      "exercise_regressor = LinearRegression()\n",
      "exercise_regressor.fit(x_new2, y_exercise_train)"
     ],
     "language": "python",
     "metadata": {},
     "outputs": []
    },
    {
     "cell_type": "markdown",
     "metadata": {},
     "source": [
      "##Printing out the parameters of the Regression"
     ]
    },
    {
     "cell_type": "code",
     "collapsed": false,
     "input": [
      "print exercise_regressor.coef_\n",
      "print exercise_regressor.intercept_\n",
      "print exercise_regressor.score(x_new2, y_exercise_train)"
     ],
     "language": "python",
     "metadata": {},
     "outputs": [
      {
       "output_type": "stream",
       "stream": "stdout",
       "text": [
        "[ 0.975]\n",
        "3.575\n",
        "0.0302811106392\n"
       ]
      }
     ],
     "prompt_number": 69
    },
    {
     "cell_type": "markdown",
     "metadata": {},
     "source": [
      "##What the above means is that whether or not you played Varsity sports in HS is a meaningless predictor as to how much exercise you are now getting!"
     ]
    },
    {
     "cell_type": "code",
     "collapsed": false,
     "input": [],
     "language": "python",
     "metadata": {},
     "outputs": []
    }
   ],
   "metadata": {}
  }
 ]
}
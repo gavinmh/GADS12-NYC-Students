{
 "metadata": {
  "name": "",
  "signature": "sha256:4bb156ccee43a390c78ce5be16f21b967fc8d4197b69af9eeb581917e6503778"
 },
 "nbformat": 3,
 "nbformat_minor": 0,
 "worksheets": [
  {
   "cells": [
    {
     "cell_type": "markdown",
     "metadata": {},
     "source": [
      "# Predicting Art Prices\n",
      "\n",
      "Let's build a model to test if the following variables are good predictors of art prices:\n",
      "\n",
      "* artist\n",
      "* dimensions\n",
      "* year the artwork was created"
     ]
    },
    {
     "cell_type": "code",
     "collapsed": false,
     "input": [
      "# create a list of sale prices for the training set of artworks\n",
      "\n",
      "y_train = [37042500,27522500,13000000,11521250,9897000,9561000,8300000,8100000,7350000,6802500,6466500,6242500,6133806,5906500]\n",
      "\n",
      "# print to check the values\n",
      "print y_train"
     ],
     "language": "python",
     "metadata": {},
     "outputs": [
      {
       "output_type": "stream",
       "stream": "stdout",
       "text": [
        "[37042500, 27522500, 13000000, 11521250, 9897000, 9561000, 8300000, 8100000, 7350000, 6802500, 6466500, 6242500, 6133806, 5906500]\n"
       ]
      }
     ],
     "prompt_number": 2
    },
    {
     "cell_type": "code",
     "collapsed": false,
     "input": [
      "# create the training set of artists, dimensions, and years of production supplied as a list of dicts:\n",
      "\n",
      "X_raw = [\n",
      "{ 'year': 1963, 'height': 81, 'width': 48, 'artist': 'Andy Warhol' },\n",
      "{ 'year': 1986, 'height': 106, 'width': 106, 'artist': 'Andy Warhol' },\n",
      "{ 'year': 1963, 'height': 82, 'width': 81.5, 'artist': 'Andy Warhol' },\n",
      "{ 'year': 1967, 'height': 51.25, 'width': 76.75, 'artist': 'Pablo Picasso' },\n",
      "{ 'year': 1982, 'height': 74, 'width': 96, 'artist': 'Jean-Michel Basquiat' },\n",
      "{ 'year': 1986, 'height': 80, 'width': 421, 'artist': 'Andy Warhol' },\n",
      "{ 'year': 1964, 'height': 48, 'width': 48.25, 'artist': 'Andy Warhol' },\n",
      "{ 'year': 1987, 'height': 105.125, 'width': 114.2, 'artist': 'Jean-Michel Basquiat' },\n",
      "{ 'year': 2009, 'height': 105.3125, 'width': 83.625, 'artist': 'Cy Twombly' },\n",
      "{ 'year': 1997, 'height': 72, 'width': 25, 'artist': 'Takashi Murakami' },\n",
      "{ 'year': 2004, 'height': 69, 'width': 42, 'artist': 'Richard Prince' },\n",
      "{ 'year': 1987, 'height': 117.25, 'width': 114.25, 'artist': 'Jean-Michel Basquiat' },\n",
      "{ 'year': 1959, 'height': 102.5, 'width': 105, 'artist': 'Yves Klein' },\n",
      "{ 'year': 1988, 'height': 90.875, 'width': 88.75, 'artist': 'Jean-Michel Basquiat' }\n",
      "]\n",
      "\n",
      "# Print to confirm\n",
      "print X_raw"
     ],
     "language": "python",
     "metadata": {},
     "outputs": [
      {
       "output_type": "stream",
       "stream": "stdout",
       "text": [
        "[{'width': 48, 'height': 81, 'artist': 'Andy Warhol', 'year': 1963}, {'width': 106, 'height': 106, 'artist': 'Andy Warhol', 'year': 1986}, {'width': 81.5, 'height': 82, 'artist': 'Andy Warhol', 'year': 1963}, {'width': 76.75, 'height': 51.25, 'artist': 'Pablo Picasso', 'year': 1967}, {'width': 96, 'height': 74, 'artist': 'Jean-Michel Basquiat', 'year': 1982}, {'width': 421, 'height': 80, 'artist': 'Andy Warhol', 'year': 1986}, {'width': 48.25, 'height': 48, 'artist': 'Andy Warhol', 'year': 1964}, {'width': 114.2, 'height': 105.125, 'artist': 'Jean-Michel Basquiat', 'year': 1987}, {'width': 83.625, 'height': 105.3125, 'artist': 'Cy Twombly', 'year': 2009}, {'width': 25, 'height': 72, 'artist': 'Takashi Murakami', 'year': 1997}, {'width': 42, 'height': 69, 'artist': 'Richard Prince', 'year': 2004}, {'width': 114.25, 'height': 117.25, 'artist': 'Jean-Michel Basquiat', 'year': 1987}, {'width': 105, 'height': 102.5, 'artist': 'Yves Klein', 'year': 1959}, {'width': 88.75, 'height': 90.875, 'artist': 'Jean-Michel Basquiat', 'year': 1988}]\n"
       ]
      }
     ],
     "prompt_number": 6
    },
    {
     "cell_type": "code",
     "collapsed": false,
     "input": [
      "# vectorize the raw input\n",
      "\n",
      "import sklearn\n",
      "from sklearn.feature_extraction import DictVectorizer\n",
      "\n",
      "vectorizer = DictVectorizer()\n",
      "vectorizer.fit(X_raw)"
     ],
     "language": "python",
     "metadata": {},
     "outputs": [
      {
       "output_type": "stream",
       "stream": "stderr",
       "text": [
        "/usr/local/lib/python2.7/site-packages/scipy/stats/_continuous_distns.py:24: RuntimeWarning: numpy.dtype size changed, may indicate binary incompatibility\n",
        "  from . import vonmises_cython\n",
        "/usr/local/lib/python2.7/site-packages/scipy/stats/_continuous_distns.py:24: RuntimeWarning: numpy.ufunc size changed, may indicate binary incompatibility\n",
        "  from . import vonmises_cython\n",
        "/usr/local/lib/python2.7/site-packages/scipy/stats/stats.py:188: RuntimeWarning: numpy.dtype size changed, may indicate binary incompatibility\n",
        "  from ._rank import rankdata, tiecorrect\n"
       ]
      },
      {
       "output_type": "stream",
       "stream": "stderr",
       "text": [
        "/usr/local/lib/python2.7/site-packages/scipy/stats/stats.py:188: RuntimeWarning: numpy.ufunc size changed, may indicate binary incompatibility\n",
        "  from ._rank import rankdata, tiecorrect\n"
       ]
      },
      {
       "metadata": {},
       "output_type": "pyout",
       "prompt_number": 7,
       "text": [
        "DictVectorizer(dtype=<type 'numpy.float64'>, separator='=', sparse=True)"
       ]
      }
     ],
     "prompt_number": 7
    },
    {
     "cell_type": "code",
     "collapsed": false,
     "input": [],
     "language": "python",
     "metadata": {},
     "outputs": []
    }
   ],
   "metadata": {}
  }
 ]
}
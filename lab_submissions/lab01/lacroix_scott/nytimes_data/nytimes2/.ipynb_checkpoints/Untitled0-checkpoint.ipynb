{
 "metadata": {
  "name": "",
  "signature": "sha256:c6393ed3a0818700ba9433c34b1276d1581069795b0164cdb067732afb697d2c"
 },
 "nbformat": 3,
 "nbformat_minor": 0,
 "worksheets": []
}
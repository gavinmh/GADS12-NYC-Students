{
 "metadata": {
  "name": "",
  "signature": "sha256:77e93ac288fb5e021587aff7e86d478f68684fc1752534bc84b2f375ec4f8720"
 },
 "nbformat": 3,
 "nbformat_minor": 0,
 "worksheets": [
  {
   "cells": [
    {
     "cell_type": "markdown",
     "metadata": {},
     "source": [
      "## PANDAS Practice\n",
      "\n",
      "Load the `iris` data set from the web using this url.\n",
      "`https://raw.github.com/pydata/pandas/master/pandas/tests/data/iris.csv`\n",
      "\n",
      "The iris data set is well known, learn more about it <a href=\"http://en.wikipedia.org/wiki/Iris_flower_data_set\">here</a>!\n",
      "\n",
      "Answer the following questions using python, numpy, and pandas.\n",
      "\n",
      "1. How many different names of flowers are in this data set?\n",
      "2. How many exist of each type of flower?\n",
      "\n",
      "3. Determine the min, median, mean, max for each numeric feature in the data set.\n",
      "4. Determine the same for each flower type.\n",
      "5a. How does the shape of these results change from the average of all flowers?\n",
      "6b. Which features seem to be the most important in determining what kind of flower it is?\n",
      "\n",
      "For example, you can phrase this like:\n",
      "\"Most Setosa Flower have a ____ petal width and a _____ sepal width.\"\n",
      "\n",
      "7. Sort the data frame by each column (aside from Name), and print the results of each. What interesting trends exist in this data set, based on distributions?\n",
      "\n",
      "**8**. write several functions like the following to apply to the data frame that represent the data set using strings instead of floats. Use this to summarize your data.\n",
      "\n",
      "  def short_or_long(x): \n",
      "   if x > 4: \n",
      "     return 'long' \n",
      "   else: \n",
      "     return 'short'\n",
      "\n",
      "**9**. CHALLENGE QUESTION: From everything above, you should be able to predict relatively accurately for each row what kind of flower it is (without using the Name column as an obvious hint). Write a function that uses the data with if and else statements to attempt to classify each row.\n"
     ]
    },
    {
     "cell_type": "code",
     "collapsed": false,
     "input": [
      "from sklearn.datasets import load_iris"
     ],
     "language": "python",
     "metadata": {},
     "outputs": [],
     "prompt_number": 6
    },
    {
     "cell_type": "code",
     "collapsed": false,
     "input": [
      "irisdata = load_iris()"
     ],
     "language": "python",
     "metadata": {},
     "outputs": [],
     "prompt_number": 7
    },
    {
     "cell_type": "code",
     "collapsed": false,
     "input": [
      "print irisdata.DESCR"
     ],
     "language": "python",
     "metadata": {},
     "outputs": [
      {
       "output_type": "stream",
       "stream": "stdout",
       "text": [
        "Iris Plants Database\n",
        "\n",
        "Notes\n",
        "-----\n",
        "Data Set Characteristics:\n",
        "    :Number of Instances: 150 (50 in each of three classes)\n",
        "    :Number of Attributes: 4 numeric, predictive attributes and the class\n",
        "    :Attribute Information:\n",
        "        - sepal length in cm\n",
        "        - sepal width in cm\n",
        "        - petal length in cm\n",
        "        - petal width in cm\n",
        "        - class:\n",
        "                - Iris-Setosa\n",
        "                - Iris-Versicolour\n",
        "                - Iris-Virginica\n",
        "    :Summary Statistics:\n",
        "    ============== ==== ==== ======= ===== ====================\n",
        "                    Min  Max   Mean    SD   Class Correlation\n",
        "    ============== ==== ==== ======= ===== ====================\n",
        "    sepal length:   4.3  7.9   5.84   0.83    0.7826\n",
        "    sepal width:    2.0  4.4   3.05   0.43   -0.4194\n",
        "    petal length:   1.0  6.9   3.76   1.76    0.9490  (high!)\n",
        "    petal width:    0.1  2.5   1.20  0.76     0.9565  (high!)\n",
        "    ============== ==== ==== ======= ===== ====================\n",
        "    :Missing Attribute Values: None\n",
        "    :Class Distribution: 33.3% for each of 3 classes.\n",
        "    :Creator: R.A. Fisher\n",
        "    :Donor: Michael Marshall (MARSHALL%PLU@io.arc.nasa.gov)\n",
        "    :Date: July, 1988\n",
        "\n",
        "This is a copy of UCI ML iris datasets.\n",
        "http://archive.ics.uci.edu/ml/datasets/Iris\n",
        "\n",
        "The famous Iris database, first used by Sir R.A Fisher\n",
        "\n",
        "This is perhaps the best known database to be found in the\n",
        "pattern recognition literature.  Fisher's paper is a classic in the field and\n",
        "is referenced frequently to this day.  (See Duda & Hart, for example.)  The\n",
        "data set contains 3 classes of 50 instances each, where each class refers to a\n",
        "type of iris plant.  One class is linearly separable from the other 2; the\n",
        "latter are NOT linearly separable from each other.\n",
        "\n",
        "References\n",
        "----------\n",
        "   - Fisher,R.A. \"The use of multiple measurements in taxonomic problems\"\n",
        "     Annual Eugenics, 7, Part II, 179-188 (1936); also in \"Contributions to\n",
        "     Mathematical Statistics\" (John Wiley, NY, 1950).\n",
        "   - Duda,R.O., & Hart,P.E. (1973) Pattern Classification and Scene Analysis.\n",
        "     (Q327.D83) John Wiley & Sons.  ISBN 0-471-22361-1.  See page 218.\n",
        "   - Dasarathy, B.V. (1980) \"Nosing Around the Neighborhood: A New System\n",
        "     Structure and Classification Rule for Recognition in Partially Exposed\n",
        "     Environments\".  IEEE Transactions on Pattern Analysis and Machine\n",
        "     Intelligence, Vol. PAMI-2, No. 1, 67-71.\n",
        "   - Gates, G.W. (1972) \"The Reduced Nearest Neighbor Rule\".  IEEE Transactions\n",
        "     on Information Theory, May 1972, 431-433.\n",
        "   - See also: 1988 MLC Proceedings, 54-64.  Cheeseman et al\"s AUTOCLASS II\n",
        "     conceptual clustering system finds 3 classes in the data.\n",
        "   - Many, many more ...\n",
        "\n"
       ]
      }
     ],
     "prompt_number": 18
    },
    {
     "cell_type": "markdown",
     "metadata": {},
     "source": [
      "Answer the following questions using python, numpy, and pandas.\n",
      "\n",
      "1. How many different names of flowers are in this data set?\n",
      "2. How many exist of each type of flower?\n",
      "\n",
      "3. Determine the min, median, mean, max for each numeric feature in the data set.\n",
      "4. Determine the same for each flower type.\n",
      "5a. How does the shape of these results change from the average of all flowers?\n",
      "6b. Which features seem to be the most important in determining what kind of flower it is?"
     ]
    },
    {
     "cell_type": "code",
     "collapsed": false,
     "input": [
      "import pandas as pd\n",
      "import numpy as np"
     ],
     "language": "python",
     "metadata": {},
     "outputs": [],
     "prompt_number": 20
    },
    {
     "cell_type": "code",
     "collapsed": false,
     "input": [
      "print irisdata.target_names\n",
      "\n",
      "print 'There are %d names of flowers in this set' % len(irisdata.target_names)"
     ],
     "language": "python",
     "metadata": {},
     "outputs": [
      {
       "output_type": "stream",
       "stream": "stdout",
       "text": [
        "['setosa' 'versicolor' 'virginica']\n",
        "There are 3 names of flowers in this set\n"
       ]
      }
     ],
     "prompt_number": 46
    },
    {
     "cell_type": "code",
     "collapsed": false,
     "input": [
      "df = pd.read_csv('data/iris.csv')\n",
      "#reading in the real CSV because it's easier.\n",
      "from collections import defaultdict\n",
      "\n",
      "results = defaultdict(int)\n",
      "\n",
      "for each in df['class']:\n",
      "    results[each] += 1\n",
      "\n",
      "for each in results:\n",
      "    print 'There are %d results of type %s' % (results[each], each)\n"
     ],
     "language": "python",
     "metadata": {},
     "outputs": [
      {
       "output_type": "stream",
       "stream": "stdout",
       "text": [
        "There are 50 results of type Iris-virginica\n",
        "There are 50 results of type Iris-setosa\n",
        "There are 50 results of type Iris-versicolor\n"
       ]
      }
     ],
     "prompt_number": 147
    },
    {
     "cell_type": "code",
     "collapsed": false,
     "input": [
      "df.describe()"
     ],
     "language": "python",
     "metadata": {},
     "outputs": [
      {
       "html": [
        "<div style=\"max-height:1000px;max-width:1500px;overflow:auto;\">\n",
        "<table border=\"1\" class=\"dataframe\">\n",
        "  <thead>\n",
        "    <tr style=\"text-align: right;\">\n",
        "      <th></th>\n",
        "      <th>sepal_length</th>\n",
        "      <th>sepal_width</th>\n",
        "      <th>pedal_length</th>\n",
        "      <th>pedal_width</th>\n",
        "    </tr>\n",
        "  </thead>\n",
        "  <tbody>\n",
        "    <tr>\n",
        "      <th>count</th>\n",
        "      <td> 150.000000</td>\n",
        "      <td> 150.000000</td>\n",
        "      <td> 150.000000</td>\n",
        "      <td> 150.000000</td>\n",
        "    </tr>\n",
        "    <tr>\n",
        "      <th>mean</th>\n",
        "      <td>   5.843333</td>\n",
        "      <td>   3.054000</td>\n",
        "      <td>   3.758667</td>\n",
        "      <td>   1.198667</td>\n",
        "    </tr>\n",
        "    <tr>\n",
        "      <th>std</th>\n",
        "      <td>   0.828066</td>\n",
        "      <td>   0.433594</td>\n",
        "      <td>   1.764420</td>\n",
        "      <td>   0.763161</td>\n",
        "    </tr>\n",
        "    <tr>\n",
        "      <th>min</th>\n",
        "      <td>   4.300000</td>\n",
        "      <td>   2.000000</td>\n",
        "      <td>   1.000000</td>\n",
        "      <td>   0.100000</td>\n",
        "    </tr>\n",
        "    <tr>\n",
        "      <th>25%</th>\n",
        "      <td>   5.100000</td>\n",
        "      <td>   2.800000</td>\n",
        "      <td>   1.600000</td>\n",
        "      <td>   0.300000</td>\n",
        "    </tr>\n",
        "    <tr>\n",
        "      <th>50%</th>\n",
        "      <td>   5.800000</td>\n",
        "      <td>   3.000000</td>\n",
        "      <td>   4.350000</td>\n",
        "      <td>   1.300000</td>\n",
        "    </tr>\n",
        "    <tr>\n",
        "      <th>75%</th>\n",
        "      <td>   6.400000</td>\n",
        "      <td>   3.300000</td>\n",
        "      <td>   5.100000</td>\n",
        "      <td>   1.800000</td>\n",
        "    </tr>\n",
        "    <tr>\n",
        "      <th>max</th>\n",
        "      <td>   7.900000</td>\n",
        "      <td>   4.400000</td>\n",
        "      <td>   6.900000</td>\n",
        "      <td>   2.500000</td>\n",
        "    </tr>\n",
        "  </tbody>\n",
        "</table>\n",
        "</div>"
       ],
       "metadata": {},
       "output_type": "pyout",
       "prompt_number": 138,
       "text": [
        "       sepal_length  sepal_width  pedal_length  pedal_width\n",
        "count    150.000000   150.000000    150.000000   150.000000\n",
        "mean       5.843333     3.054000      3.758667     1.198667\n",
        "std        0.828066     0.433594      1.764420     0.763161\n",
        "min        4.300000     2.000000      1.000000     0.100000\n",
        "25%        5.100000     2.800000      1.600000     0.300000\n",
        "50%        5.800000     3.000000      4.350000     1.300000\n",
        "75%        6.400000     3.300000      5.100000     1.800000\n",
        "max        7.900000     4.400000      6.900000     2.500000"
       ]
      }
     ],
     "prompt_number": 138
    },
    {
     "cell_type": "code",
     "collapsed": false,
     "input": [
      "for each in results:\n",
      "    print '***** Description for %s ********'  % each\n",
      "    print\n",
      "    print df[df['class'] == each].describe()\n",
      "    print"
     ],
     "language": "python",
     "metadata": {},
     "outputs": [
      {
       "output_type": "stream",
       "stream": "stdout",
       "text": [
        "***** Description for Iris-virginica ********\n",
        "\n",
        "       sepal_length  sepal_width  pedal_length  pedal_width\n",
        "count      50.00000    50.000000     50.000000     50.00000\n",
        "mean        6.58800     2.974000      5.552000      2.02600\n",
        "std         0.63588     0.322497      0.551895      0.27465\n",
        "min         4.90000     2.200000      4.500000      1.40000\n",
        "25%         6.22500     2.800000      5.100000      1.80000\n",
        "50%         6.50000     3.000000      5.550000      2.00000\n",
        "75%         6.90000     3.175000      5.875000      2.30000\n",
        "max         7.90000     3.800000      6.900000      2.50000\n",
        "\n",
        "***** Description for Iris-setosa ********\n",
        "\n",
        "       sepal_length  sepal_width  pedal_length  pedal_width\n",
        "count      50.00000    50.000000     50.000000     50.00000\n",
        "mean        5.00600     3.418000      1.464000      0.24400\n",
        "std         0.35249     0.381024      0.173511      0.10721\n",
        "min         4.30000     2.300000      1.000000      0.10000\n",
        "25%         4.80000     3.125000      1.400000      0.20000\n",
        "50%         5.00000     3.400000      1.500000      0.20000\n",
        "75%         5.20000     3.675000      1.575000      0.30000\n",
        "max         5.80000     4.400000      1.900000      0.60000\n",
        "\n",
        "***** Description for Iris-versicolor ********\n",
        "\n",
        "       sepal_length  sepal_width  pedal_length  pedal_width\n",
        "count     50.000000    50.000000     50.000000    50.000000\n",
        "mean       5.936000     2.770000      4.260000     1.326000\n",
        "std        0.516171     0.313798      0.469911     0.197753\n",
        "min        4.900000     2.000000      3.000000     1.000000\n",
        "25%        5.600000     2.525000      4.000000     1.200000\n",
        "50%        5.900000     2.800000      4.350000     1.300000\n",
        "75%        6.300000     3.000000      4.600000     1.500000\n",
        "max        7.000000     3.400000      5.100000     1.800000\n",
        "\n"
       ]
      }
     ],
     "prompt_number": 148
    },
    {
     "cell_type": "markdown",
     "metadata": {},
     "source": [
      "## Results from observations of datsets:\n",
      "\n",
      "1. The **sepal width** for Setosa is different from the others. Centered around 3.42 and pretty tightly coupled.\n",
      "\n",
      "2. The **pedal length** for Setosa is also much different from the others.\n",
      "\n",
      "3. The **pedal width** is ~2.0 for virginica, which should make it easier to identify from the others.\n",
      "\n",
      "4. The **sepal length** for virginica is different from the others."
     ]
    },
    {
     "cell_type": "code",
     "collapsed": false,
     "input": [
      "%matplotlib inline\n",
      "import matplotlib.pyplot as plt"
     ],
     "language": "python",
     "metadata": {},
     "outputs": [],
     "prompt_number": 150
    },
    {
     "cell_type": "markdown",
     "metadata": {},
     "source": [
      "df\n",
      "labels = df.columns.values[0:-1]\n",
      "print labels\n",
      "print results\n",
      "####  WOULD LOVE SOME FEEDBACK ON A BETTER WAY TO DO THIS  #####\n",
      "\n",
      "print\n",
      "print\n",
      "for x in range(len(labels)):\n",
      "    for y in range(len(labels)):\n",
      "        if y > x:\n",
      "            plt.scatter(df.iloc[:,x], df.iloc[:,y],)\n",
      "            plt.xlabel(str(labels[x]))\n",
      "            plt.ylabel(str(labels[y]))\n",
      "            plt.show()\n",
      "\n",
      "//////\n",
      " for each in labels:\n",
      "     plt.scatter(df[each], df['class'])\n",
      "    "
     ]
    },
    {
     "cell_type": "code",
     "collapsed": false,
     "input": [
      "df.head(3)"
     ],
     "language": "python",
     "metadata": {},
     "outputs": [
      {
       "html": [
        "<div style=\"max-height:1000px;max-width:1500px;overflow:auto;\">\n",
        "<table border=\"1\" class=\"dataframe\">\n",
        "  <thead>\n",
        "    <tr style=\"text-align: right;\">\n",
        "      <th></th>\n",
        "      <th>sepal_length</th>\n",
        "      <th>sepal_width</th>\n",
        "      <th>pedal_length</th>\n",
        "      <th>pedal_width</th>\n",
        "      <th>class</th>\n",
        "    </tr>\n",
        "  </thead>\n",
        "  <tbody>\n",
        "    <tr>\n",
        "      <th>0</th>\n",
        "      <td> 5.1</td>\n",
        "      <td> 3.5</td>\n",
        "      <td> 1.4</td>\n",
        "      <td> 0.2</td>\n",
        "      <td> Iris-setosa</td>\n",
        "    </tr>\n",
        "    <tr>\n",
        "      <th>1</th>\n",
        "      <td> 4.9</td>\n",
        "      <td> 3.0</td>\n",
        "      <td> 1.4</td>\n",
        "      <td> 0.2</td>\n",
        "      <td> Iris-setosa</td>\n",
        "    </tr>\n",
        "    <tr>\n",
        "      <th>2</th>\n",
        "      <td> 4.7</td>\n",
        "      <td> 3.2</td>\n",
        "      <td> 1.3</td>\n",
        "      <td> 0.2</td>\n",
        "      <td> Iris-setosa</td>\n",
        "    </tr>\n",
        "  </tbody>\n",
        "</table>\n",
        "</div>"
       ],
       "metadata": {},
       "output_type": "pyout",
       "prompt_number": 210,
       "text": [
        "   sepal_length  sepal_width  pedal_length  pedal_width        class\n",
        "0           5.1          3.5           1.4          0.2  Iris-setosa\n",
        "1           4.9          3.0           1.4          0.2  Iris-setosa\n",
        "2           4.7          3.2           1.3          0.2  Iris-setosa"
       ]
      }
     ],
     "prompt_number": 210
    },
    {
     "cell_type": "code",
     "collapsed": false,
     "input": [
      "classes = set(df['class'])\n",
      "labels = df.columns.values[0:-1]\n",
      "print labels\n",
      "#print df.head(3)\n",
      "\n",
      "for x in range(len(labels)):\n",
      "    #x goes from 0 - 4 (indexes)\n",
      "    for y in labels[x+1:]:\n",
      "        #y is each of the column headers (eg. 'sepal_length', etc.)\n",
      "        #x and y will represent every combination\n",
      "        \n",
      "        plt.xlabel(str(labels[x]))\n",
      "        plt.ylabel(y)\n",
      "        for each in classes:\n",
      "            condition = df['class'] == each\n",
      "            xnums = df[df['class'] == each].loc[:,labels[x]]\n",
      "            ynums = df[df['class'] == each].loc[:,y]\n",
      "            \n",
      "            plt.plot(xnums, ynums,linestyle='none',marker='o',label = each)\n",
      "        \n",
      "        plt.legend()\n",
      "        plt.show()\n",
      "            "
     ],
     "language": "python",
     "metadata": {},
     "outputs": [
      {
       "output_type": "stream",
       "stream": "stdout",
       "text": [
        "['sepal_length' 'sepal_width' 'pedal_length' 'pedal_width']\n",
        "sepal_width\n"
       ]
      },
      {
       "metadata": {},
       "output_type": "display_data",
       "png": "[encoded data removed]",
       "text": [
        "<matplotlib.figure.Figure at 0x1080697d0>"
       ]
      },
      {
       "output_type": "stream",
       "stream": "stdout",
       "text": [
        "pedal_length\n"
       ]
      },
      {
       "metadata": {},
       "output_type": "display_data",
       "png": "[encoded data removed]",
       "text": [
        "<matplotlib.figure.Figure at 0x1085c3e90>"
       ]
      },
      {
       "output_type": "stream",
       "stream": "stdout",
       "text": [
        "pedal_width\n"
       ]
      },
      {
       "metadata": {},
       "output_type": "display_data",
       "png": "[encoded data removed]",
       "text": [
        "<matplotlib.figure.Figure at 0x1085edad0>"
       ]
      },
      {
       "output_type": "stream",
       "stream": "stdout",
       "text": [
        "pedal_length\n"
       ]
      },
      {
       "metadata": {},
       "output_type": "display_data",
       "png": "[encoded data removed]",
       "text": [
        "<matplotlib.figure.Figure at 0x1083f09d0>"
       ]
      },
      {
       "output_type": "stream",
       "stream": "stdout",
       "text": [
        "pedal_width\n"
       ]
      },
      {
       "metadata": {},
       "output_type": "display_data",
       "png": "[encoded data removed]",
       "text": [
        "<matplotlib.figure.Figure at 0x10804e2d0>"
       ]
      },
      {
       "output_type": "stream",
       "stream": "stdout",
       "text": [
        "pedal_width\n"
       ]
      },
      {
       "metadata": {},
       "output_type": "display_data",
       "png": "[encoded data removed]",
       "text": [
        "<matplotlib.figure.Figure at 0x1077bdcd0>"
       ]
      }
     ],
     "prompt_number": 249
    },
    {
     "cell_type": "code",
     "collapsed": false,
     "input": [],
     "language": "python",
     "metadata": {},
     "outputs": []
    }
   ],
   "metadata": {}
  }
 ]
}
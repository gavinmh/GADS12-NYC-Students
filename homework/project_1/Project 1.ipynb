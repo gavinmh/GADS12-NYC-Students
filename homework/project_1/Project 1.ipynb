{
 "metadata": {
  "name": "",
  "signature": "sha256:c9d970863e77f6e4709e1af665c823f05dba21e319344f09345342bb039d957e"
 },
 "nbformat": 3,
 "nbformat_minor": 0,
 "worksheets": [
  {
   "cells": [
    {
     "cell_type": "heading",
     "level": 1,
     "metadata": {},
     "source": [
      "Project 1"
     ]
    },
    {
     "cell_type": "markdown",
     "metadata": {},
     "source": [
      "Importing Necessary Libraries"
     ]
    },
    {
     "cell_type": "code",
     "collapsed": false,
     "input": [
      "%pylab inline\n",
      "import numpy as np\n",
      "import pandas as pd\n",
      "import matplotlib.pyplot as plt\n",
      "import os\n",
      "import pylab"
     ],
     "language": "python",
     "metadata": {},
     "outputs": [
      {
       "output_type": "stream",
       "stream": "stdout",
       "text": [
        "Populating the interactive namespace from numpy and matplotlib\n"
       ]
      }
     ],
     "prompt_number": 2
    },
    {
     "cell_type": "markdown",
     "metadata": {},
     "source": [
      "Importing Data"
     ]
    },
    {
     "cell_type": "code",
     "collapsed": false,
     "input": [
      "redwinedata = pd.read_csv(os.path.join('data', 'winequality-red.csv'))"
     ],
     "language": "python",
     "metadata": {},
     "outputs": [],
     "prompt_number": 3
    },
    {
     "cell_type": "markdown",
     "metadata": {},
     "source": [
      "Viewing Data"
     ]
    },
    {
     "cell_type": "code",
     "collapsed": false,
     "input": [
      "redwinedata[0:5]"
     ],
     "language": "python",
     "metadata": {},
     "outputs": [
      {
       "html": [
        "<div style=\"max-height:1000px;max-width:1500px;overflow:auto;\">\n",
        "<table border=\"1\" class=\"dataframe\">\n",
        "  <thead>\n",
        "    <tr style=\"text-align: right;\">\n",
        "      <th></th>\n",
        "      <th>fixed acidity</th>\n",
        "      <th>volatile acidity</th>\n",
        "      <th>citric acid</th>\n",
        "      <th>residual sugar</th>\n",
        "      <th>chlorides</th>\n",
        "      <th>free sulfur dioxide</th>\n",
        "      <th>total sulfur dioxide</th>\n",
        "      <th>density</th>\n",
        "      <th>pH</th>\n",
        "      <th>sulphates</th>\n",
        "      <th>alcohol</th>\n",
        "      <th>quality</th>\n",
        "    </tr>\n",
        "  </thead>\n",
        "  <tbody>\n",
        "    <tr>\n",
        "      <th>0</th>\n",
        "      <td>  7.4</td>\n",
        "      <td> 0.70</td>\n",
        "      <td> 0.00</td>\n",
        "      <td> 1.9</td>\n",
        "      <td> 0.076</td>\n",
        "      <td> 11</td>\n",
        "      <td> 34</td>\n",
        "      <td> 0.9978</td>\n",
        "      <td> 3.51</td>\n",
        "      <td> 0.56</td>\n",
        "      <td> 9.4</td>\n",
        "      <td> 5</td>\n",
        "    </tr>\n",
        "    <tr>\n",
        "      <th>1</th>\n",
        "      <td>  7.8</td>\n",
        "      <td> 0.88</td>\n",
        "      <td> 0.00</td>\n",
        "      <td> 2.6</td>\n",
        "      <td> 0.098</td>\n",
        "      <td> 25</td>\n",
        "      <td> 67</td>\n",
        "      <td> 0.9968</td>\n",
        "      <td> 3.20</td>\n",
        "      <td> 0.68</td>\n",
        "      <td> 9.8</td>\n",
        "      <td> 5</td>\n",
        "    </tr>\n",
        "    <tr>\n",
        "      <th>2</th>\n",
        "      <td>  7.8</td>\n",
        "      <td> 0.76</td>\n",
        "      <td> 0.04</td>\n",
        "      <td> 2.3</td>\n",
        "      <td> 0.092</td>\n",
        "      <td> 15</td>\n",
        "      <td> 54</td>\n",
        "      <td> 0.9970</td>\n",
        "      <td> 3.26</td>\n",
        "      <td> 0.65</td>\n",
        "      <td> 9.8</td>\n",
        "      <td> 5</td>\n",
        "    </tr>\n",
        "    <tr>\n",
        "      <th>3</th>\n",
        "      <td> 11.2</td>\n",
        "      <td> 0.28</td>\n",
        "      <td> 0.56</td>\n",
        "      <td> 1.9</td>\n",
        "      <td> 0.075</td>\n",
        "      <td> 17</td>\n",
        "      <td> 60</td>\n",
        "      <td> 0.9980</td>\n",
        "      <td> 3.16</td>\n",
        "      <td> 0.58</td>\n",
        "      <td> 9.8</td>\n",
        "      <td> 6</td>\n",
        "    </tr>\n",
        "    <tr>\n",
        "      <th>4</th>\n",
        "      <td>  7.4</td>\n",
        "      <td> 0.70</td>\n",
        "      <td> 0.00</td>\n",
        "      <td> 1.9</td>\n",
        "      <td> 0.076</td>\n",
        "      <td> 11</td>\n",
        "      <td> 34</td>\n",
        "      <td> 0.9978</td>\n",
        "      <td> 3.51</td>\n",
        "      <td> 0.56</td>\n",
        "      <td> 9.4</td>\n",
        "      <td> 5</td>\n",
        "    </tr>\n",
        "  </tbody>\n",
        "</table>\n",
        "</div>"
       ],
       "metadata": {},
       "output_type": "pyout",
       "prompt_number": 4,
       "text": [
        "   fixed acidity  volatile acidity  citric acid  residual sugar  chlorides  \\\n",
        "0            7.4              0.70         0.00             1.9      0.076   \n",
        "1            7.8              0.88         0.00             2.6      0.098   \n",
        "2            7.8              0.76         0.04             2.3      0.092   \n",
        "3           11.2              0.28         0.56             1.9      0.075   \n",
        "4            7.4              0.70         0.00             1.9      0.076   \n",
        "\n",
        "   free sulfur dioxide  total sulfur dioxide  density    pH  sulphates  \\\n",
        "0                   11                    34   0.9978  3.51       0.56   \n",
        "1                   25                    67   0.9968  3.20       0.68   \n",
        "2                   15                    54   0.9970  3.26       0.65   \n",
        "3                   17                    60   0.9980  3.16       0.58   \n",
        "4                   11                    34   0.9978  3.51       0.56   \n",
        "\n",
        "   alcohol  quality  \n",
        "0      9.4        5  \n",
        "1      9.8        5  \n",
        "2      9.8        5  \n",
        "3      9.8        6  \n",
        "4      9.4        5  "
       ]
      }
     ],
     "prompt_number": 4
    },
    {
     "cell_type": "heading",
     "level": 2,
     "metadata": {},
     "source": [
      "Response Variable"
     ]
    },
    {
     "cell_type": "code",
     "collapsed": false,
     "input": [
      "y_raw = redwinedata['quality']\n",
      "print y_raw.describe()"
     ],
     "language": "python",
     "metadata": {},
     "outputs": [
      {
       "output_type": "stream",
       "stream": "stdout",
       "text": [
        "count    1599.000000\n",
        "mean        5.636023\n",
        "std         0.807569\n",
        "min         3.000000\n",
        "25%         5.000000\n",
        "50%         6.000000\n",
        "75%         6.000000\n",
        "max         8.000000\n",
        "dtype: float64\n"
       ]
      }
     ],
     "prompt_number": 5
    },
    {
     "cell_type": "heading",
     "level": 2,
     "metadata": {},
     "source": [
      "Explanatory Variable"
     ]
    },
    {
     "cell_type": "markdown",
     "metadata": {},
     "source": [
      "Are any of the values of the explanatory variables missing?\n",
      "\n",
      "Nope\n",
      "\n",
      "Calculate descriptive statistics (min, max, mean, etc.) for the variables\n",
      "\n",
      "Completed Below"
     ]
    },
    {
     "cell_type": "code",
     "collapsed": false,
     "input": [
      "X_raw = redwinedata.loc[:,'fixed acidity':'alcohol']\n",
      "#print X_raw\n",
      "print X_raw.describe()"
     ],
     "language": "python",
     "metadata": {},
     "outputs": [
      {
       "output_type": "stream",
       "stream": "stdout",
       "text": [
        "       fixed acidity  volatile acidity  citric acid  residual sugar  \\\n",
        "count    1599.000000       1599.000000  1599.000000     1599.000000   \n",
        "mean        8.319637          0.527821     0.270976        2.538806   \n",
        "std         1.741096          0.179060     0.194801        1.409928   \n",
        "min         4.600000          0.120000     0.000000        0.900000   \n",
        "25%         7.100000          0.390000     0.090000        1.900000   \n",
        "50%         7.900000          0.520000     0.260000        2.200000   \n",
        "75%         9.200000          0.640000     0.420000        2.600000   \n",
        "max        15.900000          1.580000     1.000000       15.500000   \n",
        "\n",
        "         chlorides  free sulfur dioxide  total sulfur dioxide      density  \\\n",
        "count  1599.000000          1599.000000           1599.000000  1599.000000   \n",
        "mean      0.087467            15.874922             46.467792     0.996747   \n",
        "std       0.047065            10.460157             32.895324     0.001887   \n",
        "min       0.012000             1.000000              6.000000     0.990070   \n",
        "25%       0.070000             7.000000             22.000000     0.995600   \n",
        "50%       0.079000            14.000000             38.000000     0.996750   \n",
        "75%       0.090000            21.000000             62.000000     0.997835   \n",
        "max       0.611000            72.000000            289.000000     1.003690   \n",
        "\n",
        "                pH    sulphates      alcohol  \n",
        "count  1599.000000  1599.000000  1599.000000  \n",
        "mean      3.311113     0.658149    10.422983  \n",
        "std       0.154386     0.169507     1.065668  \n",
        "min       2.740000     0.330000     8.400000  \n",
        "25%       3.210000     0.550000     9.500000  \n",
        "50%       3.310000     0.620000    10.200000  \n",
        "75%       3.400000     0.730000    11.100000  \n",
        "max       4.010000     2.000000    14.900000  \n"
       ]
      }
     ],
     "prompt_number": 6
    },
    {
     "cell_type": "markdown",
     "metadata": {},
     "source": [
      "Calculate the covariance of the response variable and some of the explanatory variables"
     ]
    },
    {
     "cell_type": "code",
     "collapsed": false,
     "input": [
      "Xavg=np.mean(X_raw['pH'])\n",
      "yavg=np.mean(y_raw)\n",
      "covsum = []\n",
      "varsum = []\n",
      "for (instance, instance2) in zip(X_raw['pH'], y_raw):\n",
      "    covsum.append((Xavg-instance)*(yavg-instance2))\n",
      "    varsum.append((Xavg-instance)**2)\n",
      "    \n",
      "cov = np.sum(covsum)/(len(y_raw)-1)\n",
      "var = np.sum(varsum)/(len(y_raw)-1)\n",
      "beta = cov/var\n",
      "alpha = yavg - beta*Xavg\n",
      "\n",
      "print 'Covariance between pH and Quality is', cov\n",
      "print 'Variance in pH is', var\n",
      "print 'beta value for pH and Quality is', beta\n",
      "print 'alpha value for pH and Quality is', alpha\n",
      "\n"
     ],
     "language": "python",
     "metadata": {},
     "outputs": [
      {
       "output_type": "stream",
       "stream": "stdout",
       "text": [
        "Covariance between pH and Quality is -0.00719782232481\n",
        "Variance in pH is 0.0238351805454\n",
        "beta value for pH and Quality is -0.301983125787\n",
        "alpha value for pH and Quality is 6.63592282676\n"
       ]
      }
     ],
     "prompt_number": 7
    },
    {
     "cell_type": "markdown",
     "metadata": {},
     "source": [
      "Plot the response variable against some of the explanatory variables. What relationships do you observe?\n",
      "\n",
      "\n",
      "Some positive, some negative"
     ]
    },
    {
     "cell_type": "code",
     "collapsed": false,
     "input": [
      "z_fixed_acidity = numpy.polyfit(X_raw['fixed acidity'], y_raw, 1)\n",
      "p_fixed_acidity = numpy.poly1d(z_fixed_acidity)\n",
      "plt.scatter(X_raw['fixed acidity'],y_raw)\n",
      "plt.plot(X_raw,p_fixed_acidity(X_raw))\n",
      "plt.axis([4,17,2,9])\n",
      "print 'Relationship between Quality & Fixed Acidity','y=%.6fx+(%.6f)'%(z_fixed_acidity[0],z_fixed_acidity[1])"
     ],
     "language": "python",
     "metadata": {},
     "outputs": [
      {
       "output_type": "stream",
       "stream": "stdout",
       "text": [
        "Relationship between Quality & Fixed Acidity y=0.057539x+(5.157322)\n"
       ]
      },
      {
       "metadata": {},
       "output_type": "display_data",
       "png": "[encoded data removed]",
       "text": [
        "<matplotlib.figure.Figure at 0x108bb3fd0>"
       ]
      }
     ],
     "prompt_number": 8
    },
    {
     "cell_type": "code",
     "collapsed": false,
     "input": [
      "z_pH = numpy.polyfit(X_raw['pH'], y_raw, 1)\n",
      "p_pH = numpy.poly1d(z_pH)\n",
      "plt.scatter(X_raw['pH'],y_raw)\n",
      "plt.plot(X_raw,p_pH(X_raw))\n",
      "plt.axis([2.5,4.5,2,9])\n",
      "print 'Relationship between Quality & pH','y=%.6fx+(%.6f)'%(z_pH[0],z_pH[1])"
     ],
     "language": "python",
     "metadata": {},
     "outputs": [
      {
       "output_type": "stream",
       "stream": "stdout",
       "text": [
        "Relationship between Quality & pH y=-0.301983x+(6.635923)\n"
       ]
      },
      {
       "metadata": {},
       "output_type": "display_data",
       "png": "[encoded data removed]",
       "text": [
        "<matplotlib.figure.Figure at 0x108d01e90>"
       ]
      }
     ],
     "prompt_number": 9
    },
    {
     "cell_type": "code",
     "collapsed": false,
     "input": [
      "z_volatile_acidity = numpy.polyfit(X_raw['volatile acidity'], y_raw, 1)\n",
      "p_volatile_acidity = numpy.poly1d(z_volatile_acidity)\n",
      "plt.scatter(X_raw['volatile acidity'],y_raw)\n",
      "plt.plot(X_raw,p_volatile_acidity(X_raw))\n",
      "plt.axis([0,1.7,2,9])\n",
      "print 'Relationship between Quality & Volatile Acidity','y=%.6fx+(%.6f)'%(z_volatile_acidity[0],z_volatile_acidity[1])"
     ],
     "language": "python",
     "metadata": {},
     "outputs": [
      {
       "output_type": "stream",
       "stream": "stdout",
       "text": [
        "Relationship between Quality & Volatile Acidity y=-1.761438x+(6.565746)\n"
       ]
      },
      {
       "metadata": {},
       "output_type": "display_data",
       "png": "[encoded data removed]",
       "text": [
        "<matplotlib.figure.Figure at 0x108dced10>"
       ]
      }
     ],
     "prompt_number": 10
    },
    {
     "cell_type": "code",
     "collapsed": false,
     "input": [
      "z_alcohol = numpy.polyfit(X_raw['alcohol'], y_raw, 1)\n",
      "p_alcohol = numpy.poly1d(z_alcohol)\n",
      "plt.scatter(X_raw['alcohol'],y_raw)\n",
      "plt.plot(X_raw,p_alcohol(X_raw))\n",
      "plt.axis([8,16,2,9])\n",
      "print 'Relationship between Quality & Alcohol','y=%.6fx+(%.6f)'%(z_alcohol[0],z_alcohol[1])"
     ],
     "language": "python",
     "metadata": {},
     "outputs": [
      {
       "output_type": "stream",
       "stream": "stdout",
       "text": [
        "Relationship between Quality & Alcohol y=0.360842x+(1.874975)\n"
       ]
      },
      {
       "metadata": {},
       "output_type": "display_data",
       "png": "[encoded data removed]",
       "text": [
        "<matplotlib.figure.Figure at 0x109f2de50>"
       ]
      }
     ],
     "prompt_number": 11
    },
    {
     "cell_type": "code",
     "collapsed": false,
     "input": [
      "z_residual_sugar = numpy.polyfit(X_raw['residual sugar'], y_raw, 1)\n",
      "p_residual_sugar = numpy.poly1d(z_residual_sugar)\n",
      "plt.scatter(X_raw['residual sugar'],y_raw)\n",
      "plt.plot(X_raw,p_residual_sugar(X_raw))\n",
      "plt.axis([0,16,2,9])\n",
      "print 'Relationship between Quality & Residual Sugar','y=%.6fx+(%.6f)'%(z_residual_sugar[0],z_residual_sugar[1])"
     ],
     "language": "python",
     "metadata": {},
     "outputs": [
      {
       "output_type": "stream",
       "stream": "stdout",
       "text": [
        "Relationship between Quality & Residual Sugar y=0.007865x+(5.616055)\n"
       ]
      },
      {
       "metadata": {},
       "output_type": "display_data",
       "png": "[encoded data removed]",
       "text": [
        "<matplotlib.figure.Figure at 0x109d9e450>"
       ]
      }
     ],
     "prompt_number": 12
    },
    {
     "cell_type": "code",
     "collapsed": false,
     "input": [
      "z_sulphates = numpy.polyfit(X_raw['sulphates'], y_raw, 1)\n",
      "p_sulphates = numpy.poly1d(z_sulphates)\n",
      "plt.scatter(X_raw['sulphates'],y_raw)\n",
      "plt.plot(X_raw,p_sulphates(X_raw))\n",
      "plt.axis([0,2.5,2,9])\n",
      "print 'Relationship between Quality & Sulphates','y=%.6fx+(%.6f)'%(z_sulphates[0],z_sulphates[1])"
     ],
     "language": "python",
     "metadata": {},
     "outputs": [
      {
       "output_type": "stream",
       "stream": "stdout",
       "text": [
        "Relationship between Quality & Sulphates y=1.197712x+(4.847750)\n"
       ]
      },
      {
       "metadata": {},
       "output_type": "display_data",
       "png": "[encoded data removed]",
       "text": [
        "<matplotlib.figure.Figure at 0x108bb3690>"
       ]
      }
     ],
     "prompt_number": 13
    },
    {
     "cell_type": "code",
     "collapsed": false,
     "input": [
      "z_chlorides = numpy.polyfit(X_raw['chlorides'], y_raw, 1)\n",
      "p_chlorides = numpy.poly1d(z_chlorides)\n",
      "plt.scatter(X_raw['chlorides'],y_raw)\n",
      "plt.plot(X_raw,p_chlorides(X_raw))\n",
      "plt.axis([0,0.8,2,9])\n",
      "print 'Relationship between Quality & Chlorides','y=%.6fx+(%.6f)'%(z_chlorides[0],z_chlorides[1])"
     ],
     "language": "python",
     "metadata": {},
     "outputs": [
      {
       "output_type": "stream",
       "stream": "stdout",
       "text": [
        "Relationship between Quality & Chlorides y=-2.211842x+(5.829485)\n"
       ]
      },
      {
       "metadata": {},
       "output_type": "display_data",
       "png": "[encoded data removed]",
       "text": [
        "<matplotlib.figure.Figure at 0x109f7f310>"
       ]
      }
     ],
     "prompt_number": 14
    },
    {
     "cell_type": "code",
     "collapsed": false,
     "input": [
      "print 'People tend to consider wines to be higher quality if they are more acidic with more alcohol.'\n",
      "print 'Higher scoring wines also tend to have more sulphates and less chlorides'"
     ],
     "language": "python",
     "metadata": {},
     "outputs": [
      {
       "output_type": "stream",
       "stream": "stdout",
       "text": [
        "People tend to consider wines to be higher quality if they are more acidic with more alcohol.\n",
        "Higher scoring wines also tend to have more sulphates and less chlorides\n"
       ]
      }
     ],
     "prompt_number": 15
    },
    {
     "cell_type": "code",
     "collapsed": false,
     "input": [
      "#Selecting variables that tend to have more correlation\n",
      "X_raw=X_raw.loc[:,['pH','fixed acidity','chlorides','sulphates','alcohol']]"
     ],
     "language": "python",
     "metadata": {},
     "outputs": [],
     "prompt_number": 63
    },
    {
     "cell_type": "heading",
     "level": 2,
     "metadata": {},
     "source": [
      "Linear Regression"
     ]
    },
    {
     "cell_type": "code",
     "collapsed": false,
     "input": [
      "from sklearn.cross_validation import train_test_split"
     ],
     "language": "python",
     "metadata": {},
     "outputs": [],
     "prompt_number": 64
    },
    {
     "cell_type": "code",
     "collapsed": false,
     "input": [
      "X_train, X_test, y_train, y_test = train_test_split(X_raw, y_raw, test_size=0.75, random_state=0)"
     ],
     "language": "python",
     "metadata": {},
     "outputs": [],
     "prompt_number": 83
    },
    {
     "cell_type": "code",
     "collapsed": false,
     "input": [
      "print X_train.shape, y_train.shape\n",
      "print X_test.shape, y_test.shape"
     ],
     "language": "python",
     "metadata": {},
     "outputs": [
      {
       "output_type": "stream",
       "stream": "stdout",
       "text": [
        "(399, 5) (399,)\n",
        "(1200, 5) (1200,)\n"
       ]
      }
     ],
     "prompt_number": 84
    },
    {
     "cell_type": "code",
     "collapsed": false,
     "input": [
      "from sklearn.linear_model import LinearRegression"
     ],
     "language": "python",
     "metadata": {},
     "outputs": [],
     "prompt_number": 85
    },
    {
     "cell_type": "code",
     "collapsed": false,
     "input": [
      "regressor = LinearRegression()\n",
      "trainingmodel = regressor.fit(X_train,y_train)\n",
      "\n",
      "trainingintercept = trainingmodel.intercept_\n",
      "trainingcoef = trainingmodel.coef_\n",
      "\n",
      "print trainingintercept\n",
      "print trainingcoef"
     ],
     "language": "python",
     "metadata": {},
     "outputs": [
      {
       "output_type": "stream",
       "stream": "stdout",
       "text": [
        "1.72541136617\n",
        "[-0.22930782  0.05065177 -3.51071143  1.21013305  0.36640051]\n"
       ]
      }
     ],
     "prompt_number": 86
    },
    {
     "cell_type": "code",
     "collapsed": false,
     "input": [
      "trainingrsq = trainingmodel.score(X_train, y_train)\n",
      "print \"Training Set R Square Value is\", trainingrsq\n",
      "\n",
      "testrsq = trainingmodel.score(X_test, y_test)\n",
      "print \"Test Set R Square Value is\", testrsq"
     ],
     "language": "python",
     "metadata": {},
     "outputs": [
      {
       "output_type": "stream",
       "stream": "stdout",
       "text": [
        "Training Set R Square Value is 0.362591156314\n",
        "Test Set R Square Value is 0.260976091235\n"
       ]
      }
     ],
     "prompt_number": 87
    },
    {
     "cell_type": "code",
     "collapsed": false,
     "input": [],
     "language": "python",
     "metadata": {},
     "outputs": [],
     "prompt_number": 87
    },
    {
     "cell_type": "code",
     "collapsed": false,
     "input": [
      "from sklearn.preprocessing import PolynomialFeatures\n",
      "\n",
      "quadratic_featurizer = PolynomialFeatures(degree=2)\n",
      "X_train_quadratic = quadratic_featurizer.fit_transform(X_train)\n",
      "X_test_quadratic = quadratic_featurizer.transform(X_test)"
     ],
     "language": "python",
     "metadata": {},
     "outputs": [],
     "prompt_number": 88
    },
    {
     "cell_type": "code",
     "collapsed": false,
     "input": [
      "quadratic_regressor = LinearRegression()\n",
      "quadratic_regressor.fit (X_train_quadratic, y_train)"
     ],
     "language": "python",
     "metadata": {},
     "outputs": [
      {
       "metadata": {},
       "output_type": "pyout",
       "prompt_number": 89,
       "text": [
        "LinearRegression(copy_X=True, fit_intercept=True, normalize=False)"
       ]
      }
     ],
     "prompt_number": 89
    },
    {
     "cell_type": "code",
     "collapsed": false,
     "input": [
      "quadratic_regressor.score(X_test_quadratic,y_test)"
     ],
     "language": "python",
     "metadata": {},
     "outputs": [
      {
       "metadata": {},
       "output_type": "pyout",
       "prompt_number": 90,
       "text": [
        "0.28166266648861193"
       ]
      }
     ],
     "prompt_number": 90
    },
    {
     "cell_type": "code",
     "collapsed": false,
     "input": [
      "degree_3_featurizer = PolynomialFeatures(degree=3)\n",
      "X_train_degree_3 = degree_3_featurizer.fit_transform(X_train)\n",
      "X_test_degree_3 = degree_3_featurizer.transform(X_test)"
     ],
     "language": "python",
     "metadata": {},
     "outputs": [],
     "prompt_number": 94
    },
    {
     "cell_type": "code",
     "collapsed": false,
     "input": [
      "degree_3_regressor = LinearRegression()"
     ],
     "language": "python",
     "metadata": {},
     "outputs": [],
     "prompt_number": 95
    },
    {
     "cell_type": "code",
     "collapsed": false,
     "input": [
      "degree_3_regressor.fit(X_train_degree_3,y_train)\n",
      "degree_3_regressor.score(X_test_degree_3,y_test)"
     ],
     "language": "python",
     "metadata": {},
     "outputs": [
      {
       "metadata": {},
       "output_type": "pyout",
       "prompt_number": 96,
       "text": [
        "0.024839045075571664"
       ]
      }
     ],
     "prompt_number": 96
    },
    {
     "cell_type": "heading",
     "level": 2,
     "metadata": {},
     "source": [
      "Cross Validation"
     ]
    },
    {
     "cell_type": "code",
     "collapsed": false,
     "input": [
      "from sklearn import cross_validation\n",
      "from sklearn import datasets\n",
      "from sklearn import svm"
     ],
     "language": "python",
     "metadata": {},
     "outputs": [],
     "prompt_number": 98
    },
    {
     "cell_type": "code",
     "collapsed": false,
     "input": [
      "clf = svm.SVC(kernel='linear', C=2)\n",
      "scores = cross_validation.cross_val_score(clf, X_raw, y_raw, cv=5)"
     ],
     "language": "python",
     "metadata": {},
     "outputs": [],
     "prompt_number": 122
    },
    {
     "cell_type": "code",
     "collapsed": false,
     "input": [
      "scores.mean()"
     ],
     "language": "python",
     "metadata": {},
     "outputs": [
      {
       "metadata": {},
       "output_type": "pyout",
       "prompt_number": 123,
       "text": [
        "0.56170655714799389"
       ]
      }
     ],
     "prompt_number": 123
    },
    {
     "cell_type": "code",
     "collapsed": false,
     "input": [],
     "language": "python",
     "metadata": {},
     "outputs": []
    }
   ],
   "metadata": {}
  }
 ]
}
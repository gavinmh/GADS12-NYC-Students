{
 "metadata": {
  "name": "",
  "signature": "sha256:74a246359901262e46c9462d84b22c40e32c6e7b4dc4af740bd2b9d9f4aaa0ae"
 },
 "nbformat": 3,
 "nbformat_minor": 0,
 "worksheets": [
  {
   "cells": [
    {
     "cell_type": "heading",
     "level": 2,
     "metadata": {},
     "source": [
      "Homework 2: Adding Explanatory Variables"
     ]
    },
    {
     "cell_type": "heading",
     "level": 3,
     "metadata": {},
     "source": [
      "Import necessary Packages"
     ]
    },
    {
     "cell_type": "code",
     "collapsed": false,
     "input": [
      "import numpy as np\n",
      "import scipy\n",
      "import matplotlib.pyplot as plt\n",
      "from sklearn.linear_model import LinearRegression\n",
      "from sklearn.feature_extraction import DictVectorizer\n",
      "\n"
     ],
     "language": "python",
     "metadata": {},
     "outputs": [],
     "prompt_number": 4
    },
    {
     "cell_type": "code",
     "collapsed": false,
     "input": [
      "X_raw = [\n",
      "         {'socialvolume': 0.5, 'brand_industry': 'CPG'},\n",
      "         {'socialvolume': 1.5, 'brand_industry': 'CPG'},\n",
      "         {'socialvolume': 2.5, 'brand_industry': 'CPG'},\n",
      "         {'socialvolume': 7, 'brand_industry': 'B2B'},\n",
      "         {'socialvolume': 8, 'brand_industry': 'B2B'},\n",
      "         {'socialvolume': 10.5, 'brand_industry': 'Tech'},\n",
      "]\n",
      "print X_raw\n",
      "\n",
      "vec = DictVectorizer()\n",
      "resultdictvect = vec.fit_transform(X_raw)\n",
      "\n",
      "print resultdictvect\n",
      "print \"\\n\\n\"\n",
      "X_train =resultdictvect.todense()\n",
      "print \"X_train is\",\"\\n\", X_train\n",
      "print \"\\n\\n\"\n",
      "Y_train=[1.0, 3.0, 5.0, 7.0, 11.5, 35.5]\n",
      "print \"Y_train is\",\"\\n\", Y_train\n"
     ],
     "language": "python",
     "metadata": {},
     "outputs": [
      {
       "output_type": "stream",
       "stream": "stdout",
       "text": [
        "[{'socialvolume': 0.5, 'brand_industry': 'CPG'}, {'socialvolume': 1.5, 'brand_industry': 'CPG'}, {'socialvolume': 2.5, 'brand_industry': 'CPG'}, {'socialvolume': 7, 'brand_industry': 'B2B'}, {'socialvolume': 8, 'brand_industry': 'B2B'}, {'socialvolume': 10.5, 'brand_industry': 'Tech'}]\n",
        "  (0, 3)\t0.5\n",
        "  (0, 1)\t1.0\n",
        "  (1, 3)\t1.5\n",
        "  (1, 1)\t1.0\n",
        "  (2, 3)\t2.5\n",
        "  (2, 1)\t1.0\n",
        "  (3, 3)\t7.0\n",
        "  (3, 0)\t1.0\n",
        "  (4, 3)\t8.0\n",
        "  (4, 0)\t1.0\n",
        "  (5, 3)\t10.5\n",
        "  (5, 2)\t1.0\n",
        "\n",
        "\n",
        "\n",
        "X_train is \n",
        "[[  0.    1.    0.    0.5]\n",
        " [  0.    1.    0.    1.5]\n",
        " [  0.    1.    0.    2.5]\n",
        " [  1.    0.    0.    7. ]\n",
        " [  1.    0.    0.    8. ]\n",
        " [  0.    0.    1.   10.5]]\n",
        "\n",
        "\n",
        "\n",
        "Y_train is \n",
        "[1.0, 3.0, 5.0, 7.0, 11.5, 35.5]\n"
       ]
      }
     ],
     "prompt_number": 18
    },
    {
     "cell_type": "code",
     "collapsed": false,
     "input": [
      "regressor = LinearRegression()\n",
      "trainingthemodel=regressor.fit(X_train,Y_train)\n",
      "\n",
      "print \"Intercept\",trainingthemodel.intercept_\n",
      "print \"Coef\",trainingthemodel.coef_\n",
      "\n",
      "intercept = trainingthemodel.intercept_\n",
      "coef = trainingthemodel.coef_\n",
      "print list(coef)\n",
      "\n",
      "trainingrsqscore = trainingthemodel.score(X_train, Y_train)\n",
      "\n",
      "print \"R-Sq for training set is\", trainingrsqscore"
     ],
     "language": "python",
     "metadata": {},
     "outputs": [
      {
       "output_type": "stream",
       "stream": "stdout",
       "text": [
        "Intercept -0.333333333333\n",
        "Coef [-9.16666667 -0.41666667  9.58333333  2.5       ]\n",
        "[-9.1666666666666661, -0.41666666666666696, 9.5833333333333393, 2.5000000000000009]\n",
        "R-Sq for training set is 0.996932515337\n"
       ]
      }
     ],
     "prompt_number": 22
    },
    {
     "cell_type": "code",
     "collapsed": false,
     "input": [
      "X_testraw = [\n",
      "         {'socialvolume': 3.2, 'brand_industry': 'Tech'},\n",
      "         {'socialvolume': 5.0, 'brand_industry': 'CPG'},\n",
      "         {'socialvolume': 7.0, 'brand_industry': 'B2B'},\n",
      "         {'socialvolume': 8.0, 'brand_industry': 'B2B'},\n",
      "         {'socialvolume': 9.0, 'brand_industry': 'CPG'},\n",
      "]\n",
      "print X_testraw\n",
      "\n",
      "vec2 = DictVectorizer()\n",
      "resultdictvect2 = vec2.fit_transform(X_raw)\n",
      "\n",
      "print resultdictvect2\n",
      "print \"\\n\\n\"\n",
      "X_test =resultdictvect2.todense()\n",
      "print \"X_test is\",\"\\n\", X_test\n",
      "print \"\\n\\n\"\n",
      "Y_test=[5.3,7.9,3.4,6.0,10.2]\n",
      "print \"Y_test is\",\"\\n\", Y_test\n",
      "\n",
      "aaaa=0\n",
      "testinstances = [0,1,2,3,5]\n",
      "predictytest = []\n",
      "\n",
      "for aaaa in testinstances:\n",
      "    doh1 = list(coef)\n",
      "    doh2= list(X_test[aaaa])\n",
      "    doh3 = np.array(doh1)\n",
      "    doh4 = np.array(doh2)\n",
      "    print (intercept+np.sum(doh3*doh4)),\"\\t\",Y_test[aaaa]\n",
      "    predictytest.append(intercept+np.sum(doh3*doh4))\n",
      "    \n",
      "print predictytest\n",
      "\n",
      "#trainingrsqscore2 = trainingthemodel.score(X_test, Y_test)\n",
      "#print \"R-Sq for test set is\", trainingrsqscore2"
     ],
     "language": "python",
     "metadata": {},
     "outputs": [
      {
       "output_type": "stream",
       "stream": "stdout",
       "text": [
        "[{'socialvolume': 3.2, 'brand_industry': 'Tech'}, {'socialvolume': 5.0, 'brand_industry': 'CPG'}, {'socialvolume': 7.0, 'brand_industry': 'B2B'}, {'socialvolume': 8.0, 'brand_industry': 'B2B'}, {'socialvolume': 9.0, 'brand_industry': 'CPG'}]\n",
        "  (0, 3)\t0.5\n",
        "  (0, 1)\t1.0\n",
        "  (1, 3)\t1.5\n",
        "  (1, 1)\t1.0\n",
        "  (2, 3)\t2.5\n",
        "  (2, 1)\t1.0\n",
        "  (3, 3)\t7.0\n",
        "  (3, 0)\t1.0\n",
        "  (4, 3)\t8.0\n",
        "  (4, 0)\t1.0\n",
        "  (5, 3)\t10.5\n",
        "  (5, 2)\t1.0\n",
        "\n",
        "\n",
        "\n",
        "X_test is \n",
        "[[  0.    1.    0.    0.5]\n",
        " [  0.    1.    0.    1.5]\n",
        " [  0.    1.    0.    2.5]\n",
        " [  1.    0.    0.    7. ]\n",
        " [  1.    0.    0.    8. ]\n",
        " [  0.    0.    1.   10.5]]\n",
        "\n",
        "\n",
        "\n",
        "Y_test is \n",
        "[5.3, 7.9, 3.4, 6.0, 10.2]\n",
        "0.5 \t5.3\n",
        "3.0 \t7.9\n",
        "5.5 \t3.4\n",
        "8.0 \t6.0\n",
        "35.5 \t"
       ]
      },
      {
       "ename": "IndexError",
       "evalue": "list index out of range",
       "output_type": "pyerr",
       "traceback": [
        "\u001b[0;31m---------------------------------------------------------------------------\u001b[0m\n\u001b[0;31mIndexError\u001b[0m                                Traceback (most recent call last)",
        "\u001b[0;32m<ipython-input-24-20d7cdadb39d>\u001b[0m in \u001b[0;36m<module>\u001b[0;34m()\u001b[0m\n\u001b[1;32m     28\u001b[0m     \u001b[0mdoh3\u001b[0m \u001b[0;34m=\u001b[0m \u001b[0mnp\u001b[0m\u001b[0;34m.\u001b[0m\u001b[0marray\u001b[0m\u001b[0;34m(\u001b[0m\u001b[0mdoh1\u001b[0m\u001b[0;34m)\u001b[0m\u001b[0;34m\u001b[0m\u001b[0m\n\u001b[1;32m     29\u001b[0m     \u001b[0mdoh4\u001b[0m \u001b[0;34m=\u001b[0m \u001b[0mnp\u001b[0m\u001b[0;34m.\u001b[0m\u001b[0marray\u001b[0m\u001b[0;34m(\u001b[0m\u001b[0mdoh2\u001b[0m\u001b[0;34m)\u001b[0m\u001b[0;34m\u001b[0m\u001b[0m\n\u001b[0;32m---> 30\u001b[0;31m     \u001b[0;32mprint\u001b[0m \u001b[0;34m(\u001b[0m\u001b[0mintercept\u001b[0m\u001b[0;34m+\u001b[0m\u001b[0mnp\u001b[0m\u001b[0;34m.\u001b[0m\u001b[0msum\u001b[0m\u001b[0;34m(\u001b[0m\u001b[0mdoh3\u001b[0m\u001b[0;34m*\u001b[0m\u001b[0mdoh4\u001b[0m\u001b[0;34m)\u001b[0m\u001b[0;34m)\u001b[0m\u001b[0;34m,\u001b[0m\u001b[0;34m\"\\t\"\u001b[0m\u001b[0;34m,\u001b[0m\u001b[0mY_test\u001b[0m\u001b[0;34m[\u001b[0m\u001b[0maaaa\u001b[0m\u001b[0;34m]\u001b[0m\u001b[0;34m\u001b[0m\u001b[0m\n\u001b[0m\u001b[1;32m     31\u001b[0m     \u001b[0mpredictytest\u001b[0m\u001b[0;34m.\u001b[0m\u001b[0mappend\u001b[0m\u001b[0;34m(\u001b[0m\u001b[0mintercept\u001b[0m\u001b[0;34m+\u001b[0m\u001b[0mnp\u001b[0m\u001b[0;34m.\u001b[0m\u001b[0msum\u001b[0m\u001b[0;34m(\u001b[0m\u001b[0mdoh3\u001b[0m\u001b[0;34m*\u001b[0m\u001b[0mdoh4\u001b[0m\u001b[0;34m)\u001b[0m\u001b[0;34m)\u001b[0m\u001b[0;34m\u001b[0m\u001b[0m\n\u001b[1;32m     32\u001b[0m \u001b[0;34m\u001b[0m\u001b[0m\n",
        "\u001b[0;31mIndexError\u001b[0m: list index out of range"
       ]
      }
     ],
     "prompt_number": 24
    },
    {
     "cell_type": "code",
     "collapsed": false,
     "input": [],
     "language": "python",
     "metadata": {},
     "outputs": []
    },
    {
     "cell_type": "code",
     "collapsed": false,
     "input": [],
     "language": "python",
     "metadata": {},
     "outputs": []
    },
    {
     "cell_type": "code",
     "collapsed": false,
     "input": [],
     "language": "python",
     "metadata": {},
     "outputs": []
    },
    {
     "cell_type": "code",
     "collapsed": false,
     "input": [],
     "language": "python",
     "metadata": {},
     "outputs": []
    },
    {
     "cell_type": "heading",
     "level": 1,
     "metadata": {},
     "source": [
      "Homework 1: Brand Value versus Volume of Social Data"
     ]
    },
    {
     "cell_type": "heading",
     "level": 3,
     "metadata": {},
     "source": [
      "Import necessary Packages"
     ]
    },
    {
     "cell_type": "code",
     "collapsed": false,
     "input": [
      "import numpy\n",
      "import scipy\n",
      "import matplotlib.pyplot as plt\n",
      "from sklearn.linear_model import LinearRegression"
     ],
     "language": "python",
     "metadata": {},
     "outputs": [],
     "prompt_number": 1
    },
    {
     "cell_type": "heading",
     "level": 3,
     "metadata": {},
     "source": [
      "Data Input (Training Set)"
     ]
    },
    {
     "cell_type": "code",
     "collapsed": false,
     "input": [
      "brandvalues = numpy.array([0.5, 1.5, 2.5, 7.0, 8.0, 10.5])\n",
      "socialvolumes = numpy.array([1.0, 3.0, 5.0, 7.0, 11.5, 35.5])\n",
      "\n",
      "print \"Explanatory Variable is the value of a brand in Millions of USD\"\n",
      "print brandvalues\n",
      "print \"Response Variable is the volume of Tweets about a brand\"\n",
      "print socialvolumes\n",
      "print \"\\n Relationship between two variables is roughly positive and linear,\"\n",
      "print \"\\t where responsibility increases as the explanatory variable increases\""
     ],
     "language": "python",
     "metadata": {},
     "outputs": [
      {
       "output_type": "stream",
       "stream": "stdout",
       "text": [
        "Explanatory Variable is the value of a brand in Millions of USD\n",
        "[  0.5   1.5   2.5   7.    8.   10.5]\n",
        "Response Variable is the volume of Tweets about a brand\n",
        "[  1.    3.    5.    7.   11.5  35.5]\n",
        "\n",
        " Relationship between two variables is roughly positive and linear,\n",
        "\t where responsibility increases as the explanatory variable increases\n"
       ]
      }
     ],
     "prompt_number": 2
    },
    {
     "cell_type": "heading",
     "level": 3,
     "metadata": {},
     "source": [
      "Calculated Intermediary Values for Linear Regression Models (Training Set)"
     ]
    },
    {
     "cell_type": "code",
     "collapsed": false,
     "input": [
      "avgbrandvalues = numpy.average(brandvalues)\n",
      "print \"Xbar is\", avgbrandvalues\n",
      "\n",
      "difbetxandxbar = (brandvalues - avgbrandvalues)\n",
      "difbetxandxbarsq = (brandvalues - avgbrandvalues)**2\n",
      "sumofdifbetxandxbarsq = numpy.sum((brandvalues - avgbrandvalues)**2)\n",
      "print \"Sigma(Xi-Xbar)Squared is\", sumofdifbetxandxbarsq\n",
      "\n",
      "countbrandvalues = len(brandvalues)\n",
      "print \"(n-1) is\",countbrandvalues-1\n",
      "\n",
      "varbrandvalues = numpy.sum(difbetxandxbarsq)/(countbrandvalues-1)\n",
      "print \"var(x) is\", varbrandvalues\n",
      "\n",
      "print \"\\n\"\n",
      "\n",
      "avgsocialvolumes = numpy.average(socialvolumes)\n",
      "difbetyandybar = (socialvolumes-avgsocialvolumes)\n",
      "difbetyandybarsq = numpy.sum((socialvolumes-avgsocialvolumes)**2)\n",
      "covariancenumerator = (difbetxandxbar * difbetyandybar)\n",
      "sumcovariancenumerator = numpy.sum(covariancenumerator)\n",
      "print \"Sigma(Xi-Xbar)(Yi-Ybar)\",sumcovariancenumerator\n",
      "\n",
      "covariancebrandsocial = sumcovariancenumerator/(countbrandvalues-1)\n",
      "print \"cov(x,y) is\", covariancebrandsocial\n",
      "\n",
      "print \"\\n\"\n",
      "\n",
      "beta = covariancebrandsocial/varbrandvalues\n",
      "print \"Beta is\", beta\n",
      "\n",
      "alpha = avgsocialvolumes - (beta*avgbrandvalues)\n",
      "print \"Alpha is\", alpha\n",
      "print \"\\n\""
     ],
     "language": "python",
     "metadata": {},
     "outputs": [
      {
       "output_type": "stream",
       "stream": "stdout",
       "text": [
        "Xbar is 5.0\n",
        "Sigma(Xi-Xbar)Squared is 82.0\n",
        "(n-1) is 5\n",
        "var(x) is 16.4\n",
        "\n",
        "\n",
        "Sigma(Xi-Xbar)(Yi-Ybar) 216.25\n",
        "cov(x,y) is 43.25\n",
        "\n",
        "\n",
        "Beta is 2.63719512195\n",
        "Alpha is -2.68597560976\n",
        "\n",
        "\n"
       ]
      }
     ],
     "prompt_number": 3
    },
    {
     "cell_type": "heading",
     "level": 3,
     "metadata": {},
     "source": [
      "Linear Regression Model (Training Set)"
     ]
    },
    {
     "cell_type": "code",
     "collapsed": false,
     "input": [
      "print \"Model for simple linear regression that explains the relationship between Brand value and respective social volumes are\"\n",
      "print \"y=\",alpha,\"+\",beta,\"x\"\n",
      "print \"\\n\""
     ],
     "language": "python",
     "metadata": {},
     "outputs": [
      {
       "output_type": "stream",
       "stream": "stdout",
       "text": [
        "Model for simple linear regression that explains the relationship between Brand value and respective social volumes are\n",
        "y= -2.68597560976 + 2.63719512195 x\n",
        "\n",
        "\n"
       ]
      }
     ],
     "prompt_number": 4
    },
    {
     "cell_type": "heading",
     "level": 3,
     "metadata": {},
     "source": [
      "Calculated Intermediary Values for RSquared (Training Set)"
     ]
    },
    {
     "cell_type": "code",
     "collapsed": false,
     "input": [
      "fXi = alpha + beta*brandvalues\n",
      "print fXi"
     ],
     "language": "python",
     "metadata": {},
     "outputs": [
      {
       "output_type": "stream",
       "stream": "stdout",
       "text": [
        "[ -1.36737805   1.26981707   3.9070122   15.77439024  18.41158537\n",
        "  25.00457317]\n"
       ]
      }
     ],
     "prompt_number": 5
    },
    {
     "cell_type": "code",
     "collapsed": false,
     "input": [
      "YiminusfXi = socialvolumes - fXi\n",
      "print \"(Yi-f(Xi))Sq is\",YiminusfXi**2"
     ],
     "language": "python",
     "metadata": {},
     "outputs": [
      {
       "output_type": "stream",
       "stream": "stdout",
       "text": [
        "(Yi-f(Xi))Sq is [   5.60447883    2.99353296    1.19462234   76.98992415   47.77001227\n",
        "  110.15398433]\n"
       ]
      }
     ],
     "prompt_number": 6
    },
    {
     "cell_type": "code",
     "collapsed": false,
     "input": [
      "SSres = numpy.sum((YiminusfXi)**2)\n",
      "print \"SSres is\", SSres"
     ],
     "language": "python",
     "metadata": {},
     "outputs": [
      {
       "output_type": "stream",
       "stream": "stdout",
       "text": [
        "SSres is 244.706554878\n"
       ]
      }
     ],
     "prompt_number": 7
    },
    {
     "cell_type": "code",
     "collapsed": false,
     "input": [
      "SStot = numpy.sum((socialvolumes-avgsocialvolumes)**2)\n",
      "print \"SStot is\", SStot"
     ],
     "language": "python",
     "metadata": {},
     "outputs": [
      {
       "output_type": "stream",
       "stream": "stdout",
       "text": [
        "SStot is 815.0\n"
       ]
      }
     ],
     "prompt_number": 8
    },
    {
     "cell_type": "heading",
     "level": 3,
     "metadata": {},
     "source": [
      "R Squared Value (Training Set)"
     ]
    },
    {
     "cell_type": "code",
     "collapsed": false,
     "input": [
      "RSq = 1 - (SSres/SStot)\n",
      "print \"R Squared is\", RSq"
     ],
     "language": "python",
     "metadata": {},
     "outputs": [
      {
       "output_type": "stream",
       "stream": "stdout",
       "text": [
        "R Squared is 0.699746558432\n"
       ]
      }
     ],
     "prompt_number": 9
    },
    {
     "cell_type": "heading",
     "level": 3,
     "metadata": {},
     "source": [
      "Test Sets"
     ]
    },
    {
     "cell_type": "code",
     "collapsed": false,
     "input": [
      "testbrandvalues = numpy.array([3.2, 5.0, 7.0, 8.0, 9.0])\n",
      "\n",
      "print \"Different set of test values is provided with same variable types for explanatory and response.\"\n",
      "print \"Test Explanatory Variable\"\n",
      "print testbrandvalues"
     ],
     "language": "python",
     "metadata": {},
     "outputs": [
      {
       "output_type": "stream",
       "stream": "stdout",
       "text": [
        "Different set of test values is provided with same variable types for explanatory and response.\n",
        "Test Explanatory Variable\n",
        "[ 3.2  5.   7.   8.   9. ]\n"
       ]
      }
     ],
     "prompt_number": 10
    },
    {
     "cell_type": "code",
     "collapsed": false,
     "input": [
      "testsocialvolumes = numpy.array([5.3,7.9,3.4,6.0,10.2])\n",
      "print \"Test Response Variable\"\n",
      "print testsocialvolumes"
     ],
     "language": "python",
     "metadata": {},
     "outputs": [
      {
       "output_type": "stream",
       "stream": "stdout",
       "text": [
        "Test Response Variable\n",
        "[  5.3   7.9   3.4   6.   10.2]\n"
       ]
      }
     ],
     "prompt_number": 11
    },
    {
     "cell_type": "code",
     "collapsed": false,
     "input": [
      "print \"Let's see how well the model from the training set fits the test set\""
     ],
     "language": "python",
     "metadata": {},
     "outputs": [
      {
       "output_type": "stream",
       "stream": "stdout",
       "text": [
        "Let's see how well the model from the training set fits the test set\n"
       ]
      }
     ],
     "prompt_number": 12
    },
    {
     "cell_type": "code",
     "collapsed": false,
     "input": [
      "print \"Model for simple linear regression that explains the relationship between Brand value and respective social volumes are\"\n",
      "print \"y=\",alpha,\"+\",beta,\"x\"\n",
      "print \"\\n\""
     ],
     "language": "python",
     "metadata": {},
     "outputs": [
      {
       "output_type": "stream",
       "stream": "stdout",
       "text": [
        "Model for simple linear regression that explains the relationship between Brand value and respective social volumes are\n",
        "y= -2.68597560976 + 2.63719512195 x\n",
        "\n",
        "\n"
       ]
      }
     ],
     "prompt_number": 13
    },
    {
     "cell_type": "heading",
     "level": 3,
     "metadata": {},
     "source": [
      "RSquared Value for the Test Set"
     ]
    },
    {
     "cell_type": "code",
     "collapsed": false,
     "input": [
      "testavgsocialvolumes = numpy.average(testsocialvolumes)\n",
      "testfXi = alpha + beta*testbrandvalues\n",
      "print testfXi\n",
      "testYiminusfXi = testsocialvolumes - testfXi\n",
      "print \"Test (Yi-f(Xi))Sq is\",testYiminusfXi**2\n",
      "testSSres = numpy.sum((testYiminusfXi)**2)\n",
      "print \"Test SSres is\", testSSres\n",
      "testSStot = numpy.sum((testsocialvolumes-testavgsocialvolumes)**2)\n",
      "print \"Test SStot is\", testSStot"
     ],
     "language": "python",
     "metadata": {},
     "outputs": [
      {
       "output_type": "stream",
       "stream": "stdout",
       "text": [
        "[  5.75304878  10.5         15.77439024  18.41158537  21.04878049]\n",
        "Test (Yi-f(Xi))Sq is [   0.2052532     6.76        153.12553391  154.04745129  117.69603807]\n",
        "Test SSres is 431.834276472\n",
        "Test SStot is 26.932\n"
       ]
      }
     ],
     "prompt_number": 14
    },
    {
     "cell_type": "code",
     "collapsed": false,
     "input": [
      "testRSq = 1 - (testSSres/testSStot)\n",
      "print \"Test R Squared is\", testRSq"
     ],
     "language": "python",
     "metadata": {},
     "outputs": [
      {
       "output_type": "stream",
       "stream": "stdout",
       "text": [
        "Test R Squared is -15.0342446336\n"
       ]
      }
     ],
     "prompt_number": 15
    }
   ],
   "metadata": {}
  }
 ]
}
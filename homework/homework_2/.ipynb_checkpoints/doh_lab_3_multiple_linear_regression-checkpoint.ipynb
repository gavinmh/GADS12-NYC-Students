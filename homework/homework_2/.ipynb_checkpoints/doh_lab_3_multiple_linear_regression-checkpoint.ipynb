{
 "metadata": {
  "name": "",
  "signature": "sha256:d21454af465cb6d5eb6c4445a84554ce9afcb6e85c2ff383f6d03b4bb8e337e7"
 },
 "nbformat": 3,
 "nbformat_minor": 0,
 "worksheets": [
  {
   "cells": [
    {
     "cell_type": "markdown",
     "metadata": {},
     "source": [
      "# Multiple Linear Regression Lab"
     ]
    },
    {
     "cell_type": "markdown",
     "metadata": {},
     "source": [
      "In this lab we will regress the price of an apartment on to several explanatory variables. The following instances comprise our training set:"
     ]
    },
    {
     "cell_type": "raw",
     "metadata": {},
     "source": [
      "| price \t| size \t| num_bedrooms \t| age \t| city          \t|\n",
      "|-------\t|------\t|--------------\t|-----\t|---------------\t|\n",
      "| 2500  \t| 500  \t| 1            \t| 1   \t| New York      \t|\n",
      "| 2400  \t| 600  \t| 1            \t| 40  \t| San Francisco \t|\n",
      "| 900   \t| 800  \t| 2            \t| 2   \t| Chapel Hill   \t|\n",
      "| 1700  \t| 400  \t| 0            \t| 10  \t| New York      \t|\n",
      "| 2100  \t| 450  \t| 0            \t| 25  \t| New York      \t|\n",
      "| 3000  \t| 900  \t| 2            \t| 5   \t| San Francisco \t|\n",
      "| 700   \t| 700  \t| 1            \t| 6   \t| Chapel Hill   \t|"
     ]
    },
    {
     "cell_type": "markdown",
     "metadata": {},
     "source": [
      "## Representing the Data and One-Hot Encoding"
     ]
    },
    {
     "cell_type": "code",
     "collapsed": false,
     "input": [
      "# First, let's create a representation of the values of the response variable. We can simply create a list.\n",
      "# TODO create a list of the values of the response variable\n",
      "# y = ..."
     ],
     "language": "python",
     "metadata": {},
     "outputs": [],
     "prompt_number": 41
    },
    {
     "cell_type": "markdown",
     "metadata": {},
     "source": [
      "Creating `y` was easy. Now let's represent the explanatory variables.\n",
      "\n",
      "The `city` explanatory variable is categorical. How can we create a feature to represent it?  \n",
      "\n",
      "`city` has three possible values in this data set: `New York`, `San Francisco`, and `Chapel Hill`. We could represent each of these states with an integer. That is, we will represent `New York` with 0, `San Francisco` with 1, and `Chapel Hill` with 2. While this approach seems intuitive, it encodes an artificial order to the values of the variable. Cities have no natural order. We don't want to represent `Chapel Hill` as being twice `San Francisco`.\n",
      "\n",
      "Instead, we will create features using a technique called **one-hot**, or **one-of-k**, encoding. One-hot encoding creates a binary-valued feature for each of the possible values of the variable. That is, instead of representing the `city` explanatory variable with one integer-valued feature, we will represent it with three binary-valued features.\n",
      "\n",
      "`New York` = [1, 0, 0]\n",
      "`San Francisco` = [0, 1, 0]\n",
      "`Chapel Hill` = [0, 0, 1]\n",
      "\n",
      "One-hot encoding does not encode an artificial order, but does increase the number of features. Later we will discuss why using many features, or high-dimensional feature spaces, can be problematic, and how to mitigate those problems."
     ]
    },
    {
     "cell_type": "code",
     "collapsed": false,
     "input": [
      "# One-hot encode the `city` explanatory variable, and create a list of lists to represent the features.\n",
      "# The first two training instances have been added for you.\n",
      "X_raw = [\n",
      "     [500, 1, 1, 1, 0, 0],\n",
      "     [600, 1, 4, 0, 1, 0],\n",
      "     [800, 2, 2, 0, 0, 1],\n",
      "     [400, 0, 10, 1, 0, 0],\n",
      "     [450, 0, 25, 1, 0, 0],\n",
      "     [900, 2, 5, 1, 0, 0],\n",
      "     [700, 1, 6, 0, 0, 1]\n",
      "\n",
      "     # TODO encode the other training instances\n",
      "]\n",
      "\n",
      "print X_raw"
     ],
     "language": "python",
     "metadata": {},
     "outputs": [
      {
       "output_type": "stream",
       "stream": "stdout",
       "text": [
        "[[500, 1, 1, 1, 0, 0], [600, 1, 4, 0, 1, 0], [800, 2, 2, 0, 0, 1], [400, 0, 10, 1, 0, 0], [450, 0, 25, 1, 0, 0], [900, 2, 5, 1, 0, 0], [700, 1, 6, 0, 0, 1]]\n"
       ]
      }
     ],
     "prompt_number": 5
    },
    {
     "cell_type": "code",
     "collapsed": false,
     "input": [
      "# Manually one-hot encoding will become tedious. sklearn can automatically one-hot encode dicts of explanatory variables.\n",
      "# Import the DictVectorizer class from the feature_extraction module.\n",
      "# http://scikit-learn.org/stable/modules/generated/sklearn.feature_extraction.DictVectorizer.html"
     ],
     "language": "python",
     "metadata": {},
     "outputs": [],
     "prompt_number": 42
    },
    {
     "cell_type": "code",
     "collapsed": false,
     "input": [
      "# Assume that your data is provided as a list of dicts.\n",
      "X_raw = [\n",
      "         {'size': 500, 'num_bedrooms': 1, 'age': 1, 'city': 'New York'},\n",
      "         {'size': 600, 'num_bedrooms': 1, 'age': 40, 'city': 'San Francisco'},\n",
      "         {'size': 800, 'num_bedrooms': 2, 'age': 2, 'city': 'Chapel Hill'},\n",
      "         {'size': 400, 'num_bedrooms': 0, 'age': 10, 'city': 'New York'},\n",
      "         {'size': 450, 'num_bedrooms': 0, 'age': 25, 'city': 'New York'},\n",
      "         {'size': 900, 'num_bedrooms': 2, 'age': 5, 'city': 'San Francisco'},\n",
      "         {'size': 700, 'num_bedrooms': 1, 'age': 6, 'city': 'Chapel Hill'}\n",
      "]\n",
      "print X_raw"
     ],
     "language": "python",
     "metadata": {},
     "outputs": [
      {
       "output_type": "stream",
       "stream": "stdout",
       "text": [
        "[{'num_bedrooms': 1, 'city': 'New York', 'age': 1, 'size': 500}, {'num_bedrooms': 1, 'city': 'San Francisco', 'age': 40, 'size': 600}, {'num_bedrooms': 2, 'city': 'Chapel Hill', 'age': 2, 'size': 800}, {'num_bedrooms': 0, 'city': 'New York', 'age': 10, 'size': 400}, {'num_bedrooms': 0, 'city': 'New York', 'age': 25, 'size': 450}, {'num_bedrooms': 2, 'city': 'San Francisco', 'age': 5, 'size': 900}, {'num_bedrooms': 1, 'city': 'Chapel Hill', 'age': 6, 'size': 700}]\n"
       ]
      }
     ],
     "prompt_number": 6
    },
    {
     "cell_type": "code",
     "collapsed": false,
     "input": [
      "# Instantiate a DictVectorizer\n",
      "from sklearn.feature_extraction import DictVectorizer\n",
      "vec = DictVectorizer()\n",
      "resultdictvect = vec.fit_transform(X_raw)\n",
      "\n",
      "print resultdictvect\n"
     ],
     "language": "python",
     "metadata": {},
     "outputs": [
      {
       "output_type": "stream",
       "stream": "stdout",
       "text": [
        "  (0, 4)\t1.0\n",
        "  (0, 2)\t1.0\n",
        "  (0, 0)\t1.0\n",
        "  (0, 5)\t500.0\n",
        "  (1, 4)\t1.0\n",
        "  (1, 3)\t1.0\n",
        "  (1, 0)\t40.0\n",
        "  (1, 5)\t600.0\n",
        "  (2, 4)\t2.0\n",
        "  (2, 1)\t1.0\n",
        "  (2, 0)\t2.0\n",
        "  (2, 5)\t800.0\n",
        "  (3, 4)\t0.0\n",
        "  (3, 2)\t1.0\n",
        "  (3, 0)\t10.0\n",
        "  (3, 5)\t400.0\n",
        "  (4, 4)\t0.0\n",
        "  (4, 2)\t1.0\n",
        "  (4, 0)\t25.0\n",
        "  (4, 5)\t450.0\n",
        "  (5, 4)\t2.0\n",
        "  (5, 3)\t1.0\n",
        "  (5, 0)\t5.0\n",
        "  (5, 5)\t900.0\n",
        "  (6, 4)\t1.0\n",
        "  (6, 1)\t1.0\n",
        "  (6, 0)\t6.0\n",
        "  (6, 5)\t700.0\n"
       ]
      }
     ],
     "prompt_number": 7
    },
    {
     "cell_type": "code",
     "collapsed": false,
     "input": [
      "# DictVectorizer is a Transformer. Transformers implement the methods fit() and transform(). \n",
      "# First fit the vectorizer on your explanatory variables so that it can determine the features.\n",
      "\n"
     ],
     "language": "python",
     "metadata": {},
     "outputs": [],
     "prompt_number": 17
    },
    {
     "cell_type": "code",
     "collapsed": false,
     "input": [
      "# Then transform X using the vectorizer to one-hot encode the explanatory variables."
     ],
     "language": "python",
     "metadata": {},
     "outputs": [],
     "prompt_number": 44
    },
    {
     "cell_type": "code",
     "collapsed": false,
     "input": [
      "# Print the features"
     ],
     "language": "python",
     "metadata": {},
     "outputs": [],
     "prompt_number": 45
    },
    {
     "cell_type": "code",
     "collapsed": false,
     "input": [
      "# Those look weird. Check X_train's type"
     ],
     "language": "python",
     "metadata": {},
     "outputs": [],
     "prompt_number": 46
    },
    {
     "cell_type": "code",
     "collapsed": false,
     "input": [
      "# X_train is a sparse matrix. We will discuss these more later. To get the dense form of a sparse matrix, use the method todense()\n",
      "# TODO now print the dense feature matrix.\n",
      "# Note that DictVectorizer orders the features arbitrarily.\n",
      "\n",
      "print resultdictvect.todense()"
     ],
     "language": "python",
     "metadata": {},
     "outputs": [
      {
       "output_type": "stream",
       "stream": "stdout",
       "text": [
        "[[   1.    0.    1.    0.    1.  500.]\n",
        " [  40.    0.    0.    1.    1.  600.]\n",
        " [   2.    1.    0.    0.    2.  800.]\n",
        " [  10.    0.    1.    0.    0.  400.]\n",
        " [  25.    0.    1.    0.    0.  450.]\n",
        " [   5.    0.    0.    1.    2.  900.]\n",
        " [   6.    1.    0.    0.    1.  700.]]\n"
       ]
      }
     ],
     "prompt_number": 8
    },
    {
     "cell_type": "markdown",
     "metadata": {},
     "source": [
      "## Training the Model"
     ]
    },
    {
     "cell_type": "markdown",
     "metadata": {},
     "source": [
      "Now that we have created representations of the values of the response and explanatory variables for the training instances, let's train a regressor."
     ]
    },
    {
     "cell_type": "code",
     "collapsed": false,
     "input": [
      "# Import LinearRegression from the linear_model module\n",
      "from sklearn.linear_model import LinearRegression"
     ],
     "language": "python",
     "metadata": {},
     "outputs": [],
     "prompt_number": 9
    },
    {
     "cell_type": "code",
     "collapsed": false,
     "input": [
      "# Instantiate a LinearRegression regressor\n",
      "regressor = LinearRegression()"
     ],
     "language": "python",
     "metadata": {},
     "outputs": [],
     "prompt_number": 10
    },
    {
     "cell_type": "code",
     "collapsed": false,
     "input": [
      "# Train (fit) the model\n",
      "X_train=resultdictvect.todense()\n",
      "Y_train=[2500, 2400, 900, 1700, 2100, 3000, 700]\n",
      "trainingthemodel=regressor.fit(X_train,y_train)\n",
      "\n",
      "print \"Intercept\",trainingthemodel.intercept_\n",
      "print \"Coef\",trainingthemodel.coef_\n",
      "\n",
      "intercept = trainingthemodel.intercept_\n",
      "coef = trainingthemodel.coef_\n",
      "print list(coef)\n",
      "\n"
     ],
     "language": "python",
     "metadata": {},
     "outputs": [
      {
       "output_type": "stream",
       "stream": "stdout",
       "text": [
        "Intercept 330.197522598\n",
        "Coef [    6.46133244 -1310.24439237   840.02343488   470.22095748   353.43153666\n",
        "     1.63207231]\n",
        "[6.4613324405790067, -1310.2443923669223, 840.0234348844823, 470.22095748243322, 353.43153665888212, 1.6320723133578112]\n"
       ]
      }
     ],
     "prompt_number": 52
    },
    {
     "cell_type": "markdown",
     "metadata": {},
     "source": [
      "# Inspecting the Model"
     ]
    },
    {
     "cell_type": "code",
     "collapsed": false,
     "input": [
      "# Print the model's parameters. They are attributes of the object. Consult the documentation for their names."
     ],
     "language": "python",
     "metadata": {},
     "outputs": [],
     "prompt_number": 51
    },
    {
     "cell_type": "markdown",
     "metadata": {},
     "source": [
      "## Making Predictions"
     ]
    },
    {
     "cell_type": "raw",
     "metadata": {},
     "source": [
      "Assume that you have the following test set.\n",
      "\n",
      "| price \t| size \t| num_bedrooms \t| age \t| city          \t|\n",
      "|-------\t|------\t|--------------\t|-----\t|---------------\t|\n",
      "| 2500  \t| 500  \t| 0            \t| 50  \t| New York      \t|\n",
      "| 2200  \t| 550  \t| 0            \t| 2   \t| San Francisco \t|\n",
      "| 1200  \t| 1000 \t| 2            \t| 12  \t| Chapel Hill   \t|\n",
      "| 3300  \t| 850  \t| 2            \t| 10  \t| New York      \t|"
     ]
    },
    {
     "cell_type": "code",
     "collapsed": false,
     "input": [
      "# Create a list of the values of the response variable for the test set\n",
      "# y_test =\n",
      "\n",
      "y_test = [2500, 2200, 1200, 3300]"
     ],
     "language": "python",
     "metadata": {},
     "outputs": [],
     "prompt_number": 16
    },
    {
     "cell_type": "code",
     "collapsed": false,
     "input": [
      "# Create a list of dicts representing the explanatory variables.\n",
      "# X_test_raw = ...\n",
      "\n",
      "X_test_raw = [\n",
      "         {'size': 500, 'num_bedrooms': 0, 'age': 50, 'city': 'New York'},\n",
      "         {'size': 550, 'num_bedrooms': 0, 'age': 2, 'city': 'San Francisco'},\n",
      "         {'size': 1000, 'num_bedrooms': 2, 'age': 12, 'city': 'Chapel Hill'},\n",
      "         {'size': 850, 'num_bedrooms': 2, 'age': 10, 'city': 'New York'},\n",
      "]\n",
      "print X_test_raw"
     ],
     "language": "python",
     "metadata": {},
     "outputs": [
      {
       "output_type": "stream",
       "stream": "stdout",
       "text": [
        "[{'num_bedrooms': 0, 'city': 'New York', 'age': 50, 'size': 500}, {'num_bedrooms': 0, 'city': 'San Francisco', 'age': 2, 'size': 550}, {'num_bedrooms': 2, 'city': 'Chapel Hill', 'age': 12, 'size': 1000}, {'num_bedrooms': 2, 'city': 'New York', 'age': 10, 'size': 850}]\n"
       ]
      }
     ],
     "prompt_number": 17
    },
    {
     "cell_type": "code",
     "collapsed": false,
     "input": [
      "# Now we need to create a feature representation for the test set's explanatory variables.\n",
      "# If we instantiate a new DictVectorizer and transform the test set, it might order the features differently than in the training data.\n",
      "# This would render the model meaningless.\n",
      "# vectorizer has been fit on the training data; all subsequent transformations it makes will have the same order.\n",
      "# TODO transform X_test_raw using vectorizer\n",
      "# X_test = ...\n",
      "\n",
      "\n",
      "vec2 = DictVectorizer()\n",
      "x_test_result = vec2.fit_transform(X_test_raw)\n",
      "x_test = x_test_result.todense()\n",
      "print x_test\n"
     ],
     "language": "python",
     "metadata": {},
     "outputs": [
      {
       "output_type": "stream",
       "stream": "stdout",
       "text": [
        "[[   50.     0.     1.     0.     0.   500.]\n",
        " [    2.     0.     0.     1.     0.   550.]\n",
        " [   12.     1.     0.     0.     2.  1000.]\n",
        " [   10.     0.     1.     0.     2.   850.]]\n",
        "[[   12.     1.     0.     0.     2.  1000.]]\n"
       ]
      }
     ],
     "prompt_number": 55
    },
    {
     "cell_type": "code",
     "collapsed": false,
     "input": [
      "# Now print X_test"
     ],
     "language": "python",
     "metadata": {},
     "outputs": [
      {
       "metadata": {},
       "output_type": "pyout",
       "prompt_number": 20,
       "text": [
        "matrix([[   50.,     0.,     1.,     0.,     0.,   500.],\n",
        "        [    2.,     0.,     0.,     1.,     0.,   550.],\n",
        "        [   12.,     1.,     0.,     0.,     2.,  1000.],\n",
        "        [   10.,     0.,     1.,     0.,     2.,   850.]])"
       ]
      }
     ],
     "prompt_number": 20
    },
    {
     "cell_type": "code",
     "collapsed": false,
     "input": [
      "# TODO print the parameters of the model. Manually predict the price of the first test instance."
     ],
     "language": "python",
     "metadata": {},
     "outputs": [],
     "prompt_number": 35
    },
    {
     "cell_type": "code",
     "collapsed": false,
     "input": [
      "# Let's make some predictions using the trained regressor.\n",
      "# TODO predict the value of the response variable for the test instances\n",
      "# predictions = "
     ],
     "language": "python",
     "metadata": {},
     "outputs": [],
     "prompt_number": 36
    },
    {
     "cell_type": "code",
     "collapsed": false,
     "input": [
      "# Print each of the predictions on a new line\n",
      "print '2308.21 (based on rounded figures)'"
     ],
     "language": "python",
     "metadata": {},
     "outputs": [
      {
       "output_type": "stream",
       "stream": "stdout",
       "text": [
        "2308.21 (based on rounded figures)\n"
       ]
      }
     ],
     "prompt_number": 21
    },
    {
     "cell_type": "code",
     "collapsed": false,
     "input": [
      "# Print each of the predictions and the corresponding true price on a new line\n",
      "# Hint: try the built-in function `enumerate`\n",
      "\n",
      "aaaa=0\n",
      "testinstances = [0,1,2,3]\n",
      "predictytest = []\n",
      "\n",
      "import numpy as np\n",
      "for aaaa in testinstances:\n",
      "    doh1 = list(coef)\n",
      "    doh2= list(x_test[aaaa])\n",
      "    doh3 = np.array(doh1)\n",
      "    doh4 = np.array(doh2)\n",
      "    print intercept+np.sum(doh3*doh4),\"\\t\",y_test[aaaa]\n",
      "    predictytest.append(intercept+np.sum(doh3*doh4))\n",
      "    \n",
      "print predictytest"
     ],
     "language": "python",
     "metadata": {},
     "outputs": [
      {
       "output_type": "stream",
       "stream": "stdout",
       "text": [
        "2309.32373619 \t2500\n",
        "1710.98091731 \t2200\n",
        "1436.42450619 \t1200\n",
        "3328.95882156 \t3300\n",
        "[2309.3237361902447, 1710.9809173082938, 1436.4245061935078, 3328.9588215600825]\n"
       ]
      }
     ],
     "prompt_number": 57
    },
    {
     "cell_type": "markdown",
     "metadata": {},
     "source": [
      "## Evaluating the Model"
     ]
    },
    {
     "cell_type": "code",
     "collapsed": false,
     "input": [
      "# Now let's measure the model's performance.\n",
      "# use the estimator's score method to calculate r-squared.\n",
      "\n",
      "predictionscoretodo = trainingthemodel.score(x_test, y_test)\n",
      "print predictionscoretodo"
     ],
     "language": "python",
     "metadata": {},
     "outputs": [
      {
       "output_type": "stream",
       "stream": "stdout",
       "text": [
        "0.85299457465\n"
       ]
      }
     ],
     "prompt_number": 58
    },
    {
     "cell_type": "code",
     "collapsed": false,
     "input": [
      "# TODO interpret the r-squared score. What does it mean? How well does the model perform?\n",
      "\n",
      "print \"With a r-squared value of 0.85, the mdoel from a training set is moderately good at predicting a test explanatory variaables\""
     ],
     "language": "python",
     "metadata": {},
     "outputs": [
      {
       "output_type": "stream",
       "stream": "stdout",
       "text": [
        "With a r-squared value of 0.85, the mdoel from a training set is moderately good at predicting a test explanatory variaables\n"
       ]
      }
     ],
     "prompt_number": 59
    },
    {
     "cell_type": "markdown",
     "metadata": {},
     "source": [
      "## Improving the Model"
     ]
    },
    {
     "cell_type": "code",
     "collapsed": false,
     "input": [
      "# TODO Are all of the explanatory variables useful? \n",
      "# Does the model perform better using a subset of the explanatory variables? Try to improve the model's performance by using a subset of the explanatory variables."
     ],
     "language": "python",
     "metadata": {},
     "outputs": []
    },
    {
     "cell_type": "code",
     "collapsed": false,
     "input": [
      "# TODO How does this model compare to a simple linear regression model? Train another model using only one of the explanatory variables."
     ],
     "language": "python",
     "metadata": {},
     "outputs": []
    }
   ],
   "metadata": {}
  }
 ]
}
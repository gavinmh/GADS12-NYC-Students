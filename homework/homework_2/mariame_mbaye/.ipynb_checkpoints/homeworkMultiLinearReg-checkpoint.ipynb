{
 "metadata": {
  "name": "",
  "signature": "sha256:d4fe70d05eff89a0c19a3882cf661725f73371347a5fdb62e27555abb851b859"
 },
 "nbformat": 3,
 "nbformat_minor": 0,
 "worksheets": [
  {
   "cells": [
    {
     "cell_type": "markdown",
     "metadata": {},
     "source": [
      "# Homework: Multiple Linear Regression\n",
      "### Build a linear regression model to predict the length of one's feet based on his/her gender, height and hand length\n",
      "Data set: http://www.stat.ufl.edu/~winner/data/stature_hand_foot.dat\n",
      "Data description: http://www.stat.ufl.edu/~winner/data/stature_hand_foot.txt"
     ]
    },
    {
     "cell_type": "markdown",
     "metadata": {},
     "source": [
      "* Explanatory variables:\n",
      "    - Gender: subject's gender (categorical variable which can take the values 'Male' or 'Female')\n",
      "    - Height: subject's height in millimeters\n",
      "    - Hand: subject's hand length in millimeters\n",
      "* Response variable:\n",
      "    - Foot: subject's foot length in millimeters"
     ]
    },
    {
     "cell_type": "code",
     "collapsed": false,
     "input": [
      "import pandas as pd\n",
      "from sklearn.linear_model import LinearRegression\n",
      "from sklearn.feature_extraction import DictVectorizer"
     ],
     "language": "python",
     "metadata": {},
     "outputs": [],
     "prompt_number": 1
    },
    {
     "cell_type": "code",
     "collapsed": false,
     "input": [
      "# read the training data into a pandas dataframe\n",
      "train_raw_df = pd.io.parsers.read_csv('hand_foot_training.csv', header=0)\n",
      "# y is simply the list of foot length\n",
      "y_train = list(train_raw_df['Foot'])\n",
      "# X is all the other columns excluding the row ID and the foot length\n",
      "X_columns = list(set(train_raw_df.columns))\n",
      "X_columns.remove('ID')\n",
      "X_columns.remove('Foot')\n",
      "X_raw_df = train_raw_df[X_columns]\n",
      "# convert to a list of dictionaries\n",
      "X_raw = [ d for d in X_raw_df.T.to_dict().values() ]\n",
      "\n",
      "# print the first 5 rows for X and y\n",
      "print X_raw[0:5]\n",
      "print y_train[0:5]"
     ],
     "language": "python",
     "metadata": {},
     "outputs": [
      {
       "output_type": "stream",
       "stream": "stdout",
       "text": [
        "[{'Gender': 'Male', 'Height': 1815.7, 'Hand': 214.8}, {'Gender': 'Female', 'Height': 1676.8, 'Hand': 201.4}, {'Gender': 'Male', 'Height': 1763.8, 'Hand': 210.5}, {'Gender': 'Female', 'Height': 1593.5, 'Hand': 189.5}, {'Gender': 'Female', 'Height': 1518.3, 'Hand': 184.6}]\n",
        "[272.89999999999998, 252.69999999999999, 265.30000000000001, 233.0, 227.19999999999999]\n"
       ]
      }
     ],
     "prompt_number": 2
    },
    {
     "cell_type": "code",
     "collapsed": false,
     "input": [
      "# fit and transform explanatory variables for the training set\n",
      "vect = DictVectorizer()\n",
      "vect.fit(X_raw)\n",
      "X_train = vect.transform(X_raw)\n",
      "\n",
      "# print the first 5 rows of the matrix\n",
      "X_train.todense()[0:5]"
     ],
     "language": "python",
     "metadata": {},
     "outputs": [
      {
       "metadata": {},
       "output_type": "pyout",
       "prompt_number": 3,
       "text": [
        "matrix([[  0.00000000e+00,   1.00000000e+00,   2.14800000e+02,\n",
        "           1.81570000e+03],\n",
        "        [  1.00000000e+00,   0.00000000e+00,   2.01400000e+02,\n",
        "           1.67680000e+03],\n",
        "        [  0.00000000e+00,   1.00000000e+00,   2.10500000e+02,\n",
        "           1.76380000e+03],\n",
        "        [  1.00000000e+00,   0.00000000e+00,   1.89500000e+02,\n",
        "           1.59350000e+03],\n",
        "        [  1.00000000e+00,   0.00000000e+00,   1.84600000e+02,\n",
        "           1.51830000e+03]])"
       ]
      }
     ],
     "prompt_number": 3
    },
    {
     "cell_type": "code",
     "collapsed": false,
     "input": [
      "# train the model using the training set and print the model's parameters\n",
      "regressor = LinearRegression()\n",
      "regressor.fit(X_train, y_train)\n",
      "print regressor.intercept_\n",
      "print regressor.coef_"
     ],
     "language": "python",
     "metadata": {},
     "outputs": [
      {
       "output_type": "stream",
       "stream": "stdout",
       "text": [
        "249.377419355\n",
        "[ -2.83211846e+02  -2.79906884e+02   2.07119652e+00  -7.85786638e-02]\n"
       ]
      }
     ],
     "prompt_number": 4
    },
    {
     "cell_type": "code",
     "collapsed": false,
     "input": [
      "# read the test data into a pandas dataframe\n",
      "test_raw_df = pd.io.parsers.read_csv('hand_foot_test.csv', header=0)\n",
      "# y is simply the list of foot length\n",
      "y_test = list(test_raw_df['Foot'])\n",
      "# X is all the other columns excluding the row ID and the foot length\n",
      "# (reuse the list of columns previously defined for the training set)\n",
      "X_test_raw_df = test_raw_df[X_columns]\n",
      "X_test_raw = [ d for d in X_test_raw_df.T.to_dict().values() ]\n",
      "X_test = vect.transform(X_test_raw)\n",
      "\n",
      "# print the first 5 rows of X and y\n",
      "print X_test.todense()[0:5]\n",
      "print y_test[0:5]"
     ],
     "language": "python",
     "metadata": {},
     "outputs": [
      {
       "output_type": "stream",
       "stream": "stdout",
       "text": [
        "[[  0.00000000e+00   1.00000000e+00   2.04600000e+02   1.70810000e+03]\n",
        " [  1.00000000e+00   0.00000000e+00   2.00700000e+02   1.68260000e+03]\n",
        " [  0.00000000e+00   1.00000000e+00   2.13900000e+02   1.80470000e+03]\n",
        " [  0.00000000e+00   1.00000000e+00   2.18500000e+02   1.84990000e+03]\n",
        " [  1.00000000e+00   0.00000000e+00   1.82600000e+02   1.54130000e+03]]\n",
        "[260.0, 249.69999999999999, 273.89999999999998, 281.10000000000002, 225.69999999999999]\n"
       ]
      }
     ],
     "prompt_number": 5
    },
    {
     "cell_type": "code",
     "collapsed": false,
     "input": [
      "# predict the foot length for our test set, and print next to actual foot length\n",
      "predictions = regressor.predict(X_test)\n",
      "for i in range(10):\n",
      "    print predictions[i], y_test[i]"
     ],
     "language": "python",
     "metadata": {},
     "outputs": [
      {
       "output_type": "stream",
       "stream": "stdout",
       "text": [
        "259.017128271 260.0\n",
        "249.638255799 249.7\n",
        "270.688557031 273.9\n",
        "276.664305443 281.1\n",
        "223.252763891 225.7\n",
        "257.34832303 261.9\n",
        "279.708824813 274.8\n",
        "232.714247217 231.7\n",
        "248.59643977 246.6\n",
        "270.980938187 266.6\n"
       ]
      }
     ],
     "prompt_number": 6
    },
    {
     "cell_type": "code",
     "collapsed": false,
     "input": [
      "# compute the model's score for the test set and draw conclusion\n",
      "score = regressor.score(X_test, y_test)\n",
      "print '%.2f%% of the variance is explained by the model' % (score * 100)"
     ],
     "language": "python",
     "metadata": {},
     "outputs": [
      {
       "output_type": "stream",
       "stream": "stdout",
       "text": [
        "-55.36% of the variance is explained by the model\n"
       ]
      }
     ],
     "prompt_number": 7
    },
    {
     "cell_type": "markdown",
     "metadata": {},
     "source": [
      "## Conclusion:\n",
      "The new explanatory variables actually worsen the model. R2 is negative using the multiple linear regression model (meaning the new model does not follow the trend of the data, so fits worse than a horizontal line), while it was +85% using the simple linear regression model.\n",
      "\n",
      "**Note:** A negative R2 is only possible with linear regression when either the intercept or the slope are constrained so that the \"best-fit\" line (given the constraint) fits worse than a horizontal line."
     ]
    }
   ],
   "metadata": {}
  }
 ]
}
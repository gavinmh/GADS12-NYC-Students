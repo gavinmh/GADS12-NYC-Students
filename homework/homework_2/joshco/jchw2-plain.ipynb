{
 "metadata": {
  "name": "",
  "signature": "sha256:b906677077d86de9435622e1ff028bc7d519bee75e8c1bfb6362160879955045"
 },
 "nbformat": 3,
 "nbformat_minor": 0,
 "worksheets": [
  {
   "cells": [
    {
     "cell_type": "markdown",
     "metadata": {},
     "source": [
      "# Multiple Linear Regression Lab"
     ]
    },
    {
     "cell_type": "markdown",
     "metadata": {},
     "source": [
      "In this lab we will regress the price of an apartment on to several explanatory variables. The following instances comprise our training set:"
     ]
    },
    {
     "cell_type": "markdown",
     "metadata": {},
     "source": [
      "## My data\n",
      "\n"
     ]
    },
    {
     "cell_type": "code",
     "collapsed": false,
     "input": [
      "from sklearn.linear_model import LinearRegression\n",
      "\n",
      "# First, let's create a representation of the values of the response variable. We can simply create a list.\n",
      "# TODO create a list of the values of the response variable\n",
      "# y = ...\n",
      "y= [120.333,105,70.83333,88,47.5,46.66667]"
     ],
     "language": "python",
     "metadata": {},
     "outputs": [],
     "prompt_number": 12
    },
    {
     "cell_type": "code",
     "collapsed": false,
     "input": [
      "# One-hot encode the `city` explanatory variable, and create a list of lists to represent the features.\n",
      "# The first two training instances have been added for you.\n",
      "X_raw = [\n",
      "    [190,190],\n",
      "    [175,180],\n",
      "    [125,170],\n",
      "    [165,160],\n",
      "    [95,150],\n",
      "    [100,140]\n",
      "]"
     ],
     "language": "python",
     "metadata": {},
     "outputs": [],
     "prompt_number": 13
    },
    {
     "cell_type": "markdown",
     "metadata": {},
     "source": [
      "## Training the Model"
     ]
    },
    {
     "cell_type": "markdown",
     "metadata": {},
     "source": [
      "Now that we have created representations of the values of the response and explanatory variables for the training instances, let's train a regressor."
     ]
    },
    {
     "cell_type": "code",
     "collapsed": false,
     "input": [
      "# Instantiate a LinearRegression regressor\n",
      "regressor = LinearRegression()"
     ],
     "language": "python",
     "metadata": {},
     "outputs": [],
     "prompt_number": 14
    },
    {
     "cell_type": "code",
     "collapsed": false,
     "input": [
      "# Train (fit) the model\n",
      "regressor.fit(X_raw,y)"
     ],
     "language": "python",
     "metadata": {},
     "outputs": [
      {
       "metadata": {},
       "output_type": "pyout",
       "prompt_number": 15,
       "text": [
        "LinearRegression(copy_X=True, fit_intercept=True, normalize=False)"
       ]
      }
     ],
     "prompt_number": 15
    },
    {
     "cell_type": "markdown",
     "metadata": {},
     "source": [
      "# Inspecting the Model"
     ]
    },
    {
     "cell_type": "code",
     "collapsed": false,
     "input": [
      "# Print the model's parameters. They are attributes of the object. Consult the documentation for their names.\n",
      "print regressor.intercept_\n",
      "print regressor.coef_"
     ],
     "language": "python",
     "metadata": {},
     "outputs": [
      {
       "output_type": "stream",
       "stream": "stdout",
       "text": [
        "-77.7593927196\n",
        "[ 0.54253486  0.48862092]\n"
       ]
      }
     ],
     "prompt_number": 16
    },
    {
     "cell_type": "markdown",
     "metadata": {},
     "source": [
      "## Making Predictions"
     ]
    },
    {
     "cell_type": "code",
     "collapsed": false,
     "input": [
      "# Create a list of the values of the response variable for the test set\n",
      "# y_test = ...\n",
      "y_test = [ 66,54,97,67,58,69]"
     ],
     "language": "python",
     "metadata": {},
     "outputs": [],
     "prompt_number": 17
    },
    {
     "cell_type": "code",
     "collapsed": false,
     "input": [
      "# Create a list of dicts representing the explanatory variables.\n",
      "# X_test_raw = ...\n",
      "# New York = [1, 0, 0] San Francisco = [0, 1, 0] Chapel Hill = [0, 0, 1]\n",
      "x_test_raw = [\n",
      "    [ 120,165],\n",
      "    [ 105,155],\n",
      "    [ 202, 145],\n",
      "    [ 150, 135],\n",
      "    [ 140, 125],\n",
      "    [ 180, 115]\n",
      "]"
     ],
     "language": "python",
     "metadata": {},
     "outputs": [],
     "prompt_number": 18
    },
    {
     "cell_type": "code",
     "collapsed": false,
     "input": [
      "# Let's make some predictions using the trained regressor.\n",
      "# TODO predict the value of the response variable for the test instances\n",
      "# predictions = \n",
      "predictions = regressor.predict(x_test_raw)"
     ],
     "language": "python",
     "metadata": {},
     "outputs": [],
     "prompt_number": 19
    },
    {
     "cell_type": "code",
     "collapsed": false,
     "input": [
      "print predictions# Print each of the predictions on a new line"
     ],
     "language": "python",
     "metadata": {},
     "outputs": [
      {
       "output_type": "stream",
       "stream": "stdout",
       "text": [
        "[  67.96724196   54.94300988  102.68268204   69.58466018   59.2731024\n",
        "   76.08828758]\n"
       ]
      }
     ],
     "prompt_number": 20
    },
    {
     "cell_type": "code",
     "collapsed": false,
     "input": [
      "# Print each of the predictions and the corresponding true price on a new line\n",
      "# Hint: try the built-in function `enumerate`"
     ],
     "language": "python",
     "metadata": {},
     "outputs": [
      {
       "output_type": "stream",
       "stream": "stdout",
       "text": [
        "2309.32373619 2500\n",
        "1710.98091731 2200\n",
        "1436.42450619 1200\n",
        "3328.95882156 3300\n"
       ]
      }
     ],
     "prompt_number": 38
    },
    {
     "cell_type": "code",
     "collapsed": false,
     "input": [
      "for i,p in enumerate(predictions):\n",
      "    print p,y_test[i]\n",
      "   "
     ],
     "language": "python",
     "metadata": {},
     "outputs": [
      {
       "output_type": "stream",
       "stream": "stdout",
       "text": [
        "67.9672419578 66\n",
        "54.9430098835 54\n",
        "102.68268204 97\n",
        "69.5846601751 67\n",
        "59.2731023968 58\n",
        "76.0882875787 69\n"
       ]
      }
     ],
     "prompt_number": 24
    },
    {
     "cell_type": "markdown",
     "metadata": {},
     "source": [
      "## Evaluating the Model"
     ]
    },
    {
     "cell_type": "code",
     "collapsed": false,
     "input": [
      "# Now let's measure the model's performance.\n",
      "# use the estimator's score method to calculate r-squared.\n",
      "score = regressor.score(x_test_raw,y_test)\n",
      "print score"
     ],
     "language": "python",
     "metadata": {},
     "outputs": [
      {
       "output_type": "stream",
       "stream": "stdout",
       "text": [
        "0.916252945722\n"
       ]
      }
     ],
     "prompt_number": 22
    },
    {
     "cell_type": "code",
     "collapsed": false,
     "input": [
      "# TODO interpret the r-squared score. What does it mean? How well does the model perform?\n",
      "# pretty good!"
     ],
     "language": "python",
     "metadata": {},
     "outputs": [],
     "prompt_number": 40
    }
   ],
   "metadata": {}
  }
 ]
}
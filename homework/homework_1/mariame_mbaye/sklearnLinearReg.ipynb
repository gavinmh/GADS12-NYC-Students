{
 "metadata": {
  "name": "",
  "signature": "sha256:f9a08503f13c401a3b2944be94f6ad1ac1fcd88478e965bd6e47217cae663b16"
 },
 "nbformat": 3,
 "nbformat_minor": 0,
 "worksheets": [
  {
   "cells": [
    {
     "cell_type": "markdown",
     "metadata": {},
     "source": [
      "# Homework: Linear Regression\n",
      "## Build a linear regression model to predict the length of one's feet based on his/her height\n",
      "#### (This version uses SciKit-Learn)\n",
      "Data set: http://www.stat.ufl.edu/~winner/data/stature_hand_foot.dat\n",
      "Data description: http://www.stat.ufl.edu/~winner/data/stature_hand_foot.txt"
     ]
    },
    {
     "cell_type": "code",
     "collapsed": false,
     "input": [
      "import numpy as np\n",
      "from sklearn.linear_model import LinearRegression"
     ],
     "language": "python",
     "metadata": {},
     "outputs": [],
     "prompt_number": 2
    },
    {
     "cell_type": "code",
     "collapsed": false,
     "input": [
      "train_data = np.genfromtxt('hand_foot_training.csv', delimiter=',')\n",
      "X_temp = train_data[1:, 1] # 2nd column starting from 2nd row to skip header\n",
      "y_train = train_data[1:, 2] # 3rd column starting from 2nd row to skip header\n",
      "X_train = [ [xi] for xi in X_temp ]\n",
      "print type(X_train), type(y_train)"
     ],
     "language": "python",
     "metadata": {},
     "outputs": [
      {
       "output_type": "stream",
       "stream": "stdout",
       "text": [
        "<type 'list'> <type 'numpy.ndarray'>\n"
       ]
      }
     ],
     "prompt_number": 3
    },
    {
     "cell_type": "code",
     "collapsed": false,
     "input": [
      "test_data = np.genfromtxt('hand_foot_test.csv', delimiter=',')\n",
      "X_temp = test_data[1:, 1] # 2nd column starting from 2nd row to skip header\n",
      "y_test = test_data[1:, 2] # 3rd column starting from 2nd row to skip header\n",
      "X_test = [ [xi] for xi in X_temp ]"
     ],
     "language": "python",
     "metadata": {},
     "outputs": [],
     "prompt_number": 19
    },
    {
     "cell_type": "code",
     "collapsed": false,
     "input": [
      "regressor = LinearRegression()"
     ],
     "language": "python",
     "metadata": {},
     "outputs": [],
     "prompt_number": 20
    },
    {
     "cell_type": "code",
     "collapsed": false,
     "input": [
      "regressor.fit(X_train, y_train)"
     ],
     "language": "python",
     "metadata": {},
     "outputs": [
      {
       "metadata": {},
       "output_type": "pyout",
       "prompt_number": 21,
       "text": [
        "LinearRegression(copy_X=True, fit_intercept=True, normalize=False)"
       ]
      }
     ],
     "prompt_number": 21
    },
    {
     "cell_type": "code",
     "collapsed": false,
     "input": [
      "regressor.intercept_\n",
      "regressor.coef_"
     ],
     "language": "python",
     "metadata": {},
     "outputs": [
      {
       "metadata": {},
       "output_type": "pyout",
       "prompt_number": 22,
       "text": [
        "array([ 0.16985647])"
       ]
      }
     ],
     "prompt_number": 22
    },
    {
     "cell_type": "code",
     "collapsed": false,
     "input": [
      "predictions = regressor.predict(X_test)"
     ],
     "language": "python",
     "metadata": {},
     "outputs": [],
     "prompt_number": 23
    },
    {
     "cell_type": "code",
     "collapsed": false,
     "input": [
      "regressor.score(X_test, y_test)"
     ],
     "language": "python",
     "metadata": {},
     "outputs": [
      {
       "metadata": {},
       "output_type": "pyout",
       "prompt_number": 24,
       "text": [
        "0.85095162337593755"
       ]
      }
     ],
     "prompt_number": 24
    },
    {
     "cell_type": "code",
     "collapsed": false,
     "input": [
      "print 'Conclusion: %.2f%% of the variance is explained by the model.' % (r2 * 100)"
     ],
     "language": "python",
     "metadata": {},
     "outputs": [
      {
       "output_type": "stream",
       "stream": "stdout",
       "text": [
        "Conclusion: 85.10% of the variance is explained by the model.\n"
       ]
      }
     ],
     "prompt_number": 10
    }
   ],
   "metadata": {}
  }
 ]
}
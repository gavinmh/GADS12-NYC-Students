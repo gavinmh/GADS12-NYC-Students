{
 "metadata": {
  "name": "",
  "signature": "sha256:12dc1bdc1a161c5b7d3e6a453fe1ab94b4d5a8568bbbdd7d31837f3568da2e88"
 },
 "nbformat": 3,
 "nbformat_minor": 0,
 "worksheets": [
  {
   "cells": [
    {
     "cell_type": "markdown",
     "metadata": {},
     "source": [
      "# Homework: Linear Regression\n",
      "## Build a linear regression model to predict the length of one's feet based on his/her height\n",
      "Data set: http://www.stat.ufl.edu/~winner/data/stature_hand_foot.dat\n",
      "Data description: http://www.stat.ufl.edu/~winner/data/stature_hand_foot.txt"
     ]
    },
    {
     "cell_type": "code",
     "collapsed": false,
     "input": [
      "import numpy as np"
     ],
     "language": "python",
     "metadata": {},
     "outputs": [],
     "prompt_number": 1
    },
    {
     "cell_type": "markdown",
     "metadata": {},
     "source": [
      "##### Step 1: Import the training data set from csv file \"hand_foot_training.csv\"\n",
      "* x is the height in mm (2nd column in the dataset)\n",
      "* y is the foot length in mm (3rd column in the dataset)"
     ]
    },
    {
     "cell_type": "code",
     "collapsed": false,
     "input": [
      "train_data = np.genfromtxt('fb_event_train.csv', delimiter=',')\n",
      "x = train_data[1:, 1] # 2nd column starting from 2nd row to skip header\n",
      "y = train_data[1:, 2] # 3rd column starting from 2nd row to skip header\n",
      "n = len(x)\n",
      "print 'First 5 elements of x = ', x[0:5]\n",
      "print 'First 5 elements of y = ', y[0:5]\n",
      "print 'n = ', n"
     ],
     "language": "python",
     "metadata": {},
     "outputs": [
      {
       "ename": "ValueError",
       "evalue": "Some errors were detected !\n    Line #11 (got 4 columns instead of 3)",
       "output_type": "pyerr",
       "traceback": [
        "\u001b[0;31m---------------------------------------------------------------------------\u001b[0m\n\u001b[0;31mValueError\u001b[0m                                Traceback (most recent call last)",
        "\u001b[0;32m<ipython-input-4-b328aa24850f>\u001b[0m in \u001b[0;36m<module>\u001b[0;34m()\u001b[0m\n\u001b[0;32m----> 1\u001b[0;31m \u001b[0mtrain_data\u001b[0m \u001b[0;34m=\u001b[0m \u001b[0mnp\u001b[0m\u001b[0;34m.\u001b[0m\u001b[0mgenfromtxt\u001b[0m\u001b[0;34m(\u001b[0m\u001b[0;34m'fb_event_train.csv'\u001b[0m\u001b[0;34m,\u001b[0m \u001b[0mdelimiter\u001b[0m\u001b[0;34m=\u001b[0m\u001b[0;34m','\u001b[0m\u001b[0;34m)\u001b[0m\u001b[0;34m\u001b[0m\u001b[0m\n\u001b[0m\u001b[1;32m      2\u001b[0m \u001b[0;32mprint\u001b[0m \u001b[0mtrain_data\u001b[0m\u001b[0;34m\u001b[0m\u001b[0m\n\u001b[1;32m      3\u001b[0m \u001b[0mx\u001b[0m \u001b[0;34m=\u001b[0m \u001b[0mtrain_data\u001b[0m\u001b[0;34m[\u001b[0m\u001b[0;36m1\u001b[0m\u001b[0;34m:\u001b[0m\u001b[0;34m,\u001b[0m \u001b[0;36m1\u001b[0m\u001b[0;34m]\u001b[0m \u001b[0;31m# 2nd column starting from 2nd row to skip header\u001b[0m\u001b[0;34m\u001b[0m\u001b[0m\n\u001b[1;32m      4\u001b[0m \u001b[0my\u001b[0m \u001b[0;34m=\u001b[0m \u001b[0mtrain_data\u001b[0m\u001b[0;34m[\u001b[0m\u001b[0;36m1\u001b[0m\u001b[0;34m:\u001b[0m\u001b[0;34m,\u001b[0m \u001b[0;36m2\u001b[0m\u001b[0;34m]\u001b[0m \u001b[0;31m# 3rd column starting from 2nd row to skip header\u001b[0m\u001b[0;34m\u001b[0m\u001b[0m\n\u001b[1;32m      5\u001b[0m \u001b[0mn\u001b[0m \u001b[0;34m=\u001b[0m \u001b[0mlen\u001b[0m\u001b[0;34m(\u001b[0m\u001b[0mx\u001b[0m\u001b[0;34m)\u001b[0m\u001b[0;34m\u001b[0m\u001b[0m\n",
        "\u001b[0;32m/Library/Anaconda/anaconda/lib/python2.7/site-packages/numpy/lib/npyio.pyc\u001b[0m in \u001b[0;36mgenfromtxt\u001b[0;34m(fname, dtype, comments, delimiter, skiprows, skip_header, skip_footer, converters, missing, missing_values, filling_values, usecols, names, excludelist, deletechars, replace_space, autostrip, case_sensitive, defaultfmt, unpack, usemask, loose, invalid_raise)\u001b[0m\n\u001b[1;32m   1665\u001b[0m             \u001b[0;31m# Raise an exception ?\u001b[0m\u001b[0;34m\u001b[0m\u001b[0;34m\u001b[0m\u001b[0m\n\u001b[1;32m   1666\u001b[0m             \u001b[0;32mif\u001b[0m \u001b[0minvalid_raise\u001b[0m\u001b[0;34m:\u001b[0m\u001b[0;34m\u001b[0m\u001b[0m\n\u001b[0;32m-> 1667\u001b[0;31m                 \u001b[0;32mraise\u001b[0m \u001b[0mValueError\u001b[0m\u001b[0;34m(\u001b[0m\u001b[0merrmsg\u001b[0m\u001b[0;34m)\u001b[0m\u001b[0;34m\u001b[0m\u001b[0m\n\u001b[0m\u001b[1;32m   1668\u001b[0m             \u001b[0;31m# Issue a warning ?\u001b[0m\u001b[0;34m\u001b[0m\u001b[0;34m\u001b[0m\u001b[0m\n\u001b[1;32m   1669\u001b[0m             \u001b[0;32melse\u001b[0m\u001b[0;34m:\u001b[0m\u001b[0;34m\u001b[0m\u001b[0m\n",
        "\u001b[0;31mValueError\u001b[0m: Some errors were detected !\n    Line #11 (got 4 columns instead of 3)"
       ]
      }
     ],
     "prompt_number": 4
    },
    {
     "cell_type": "code",
     "collapsed": false,
     "input": [
      "xbar = sum(x) / n\n",
      "ybar = sum(y) / n\n",
      "x_minus_xbar = [ xi - xbar for xi in x ]\n",
      "y_minus_ybar = [ yi - ybar for yi in y ]\n",
      "var_x = sum([ i**2 for i in x_minus_xbar ]) / (n - 1)\n",
      "covar_xy = sum([ i * j for i,j in zip(x_minus_xbar, y_minus_ybar) ]) / (n - 1)"
     ],
     "language": "python",
     "metadata": {},
     "outputs": [],
     "prompt_number": 4
    },
    {
     "cell_type": "code",
     "collapsed": false,
     "input": [
      "beta = covar_xy / var_x\n",
      "alpha = ybar - beta * xbar\n",
      "print 'Model: y = %.2f + %.2f * x' % (alpha, beta)"
     ],
     "language": "python",
     "metadata": {},
     "outputs": [
      {
       "output_type": "stream",
       "stream": "stdout",
       "text": [
        "Model: y = -35.33 + 0.17 * x\n"
       ]
      }
     ],
     "prompt_number": 5
    },
    {
     "cell_type": "markdown",
     "metadata": {},
     "source": [
      "##### Step 2: Import the test data set from csv file \"hand_foot_test.csv\"\n",
      "* xtest is the height in mm (2nd column in the dataset)\n",
      "* ytest is the foot length in mm (3rd column in the dataset)"
     ]
    },
    {
     "cell_type": "code",
     "collapsed": false,
     "input": [
      "test_data = np.genfromtxt('hand_foot_test.csv', delimiter=',')\n",
      "xtest = test_data[1:, 1] # 2nd column starting from 2nd row to skip header\n",
      "ytest = test_data[1:, 2] # 3rd column starting from 2nd row to skip header\n",
      "ntest = len(xtest)\n",
      "print 'First 5 elements of xtest = ', xtest[0:5]\n",
      "print 'First 5 elements of ytest = ', ytest[0:5]\n",
      "print 'ntest = ', ntest"
     ],
     "language": "python",
     "metadata": {},
     "outputs": [
      {
       "output_type": "stream",
       "stream": "stdout",
       "text": [
        "First 5 elements of xtest =  [ 1708.1  1682.6  1804.7  1849.9  1541.3]\n",
        "First 5 elements of ytest =  [ 260.   249.7  273.9  281.1  225.7]\n",
        "ntest =  62\n"
       ]
      }
     ],
     "prompt_number": 6
    },
    {
     "cell_type": "code",
     "collapsed": false,
     "input": [
      "xbar_test = sum(xtest) / ntest\n",
      "ybar_test = sum(ytest) / ntest\n",
      "predict_y = map(lambda i: alpha + i * beta, xtest)\n",
      "print 'First 5 elements of predict_y = ', predict_y[0:5]"
     ],
     "language": "python",
     "metadata": {},
     "outputs": [
      {
       "output_type": "stream",
       "stream": "stdout",
       "text": [
        "First 5 elements of predict_y =  [254.80113728606474, 250.46979735007935, 271.20927210238585, 278.88678445950507, 226.46907841067801]\n"
       ]
      }
     ],
     "prompt_number": 7
    },
    {
     "cell_type": "markdown",
     "metadata": {},
     "source": [
      "##### Step 3: Evaluate the model using the results for the test data set\n",
      "* Compute SStot, SSres and R2"
     ]
    },
    {
     "cell_type": "code",
     "collapsed": false,
     "input": [
      "sstot = sum([ (yi - ybar_test)**2 for yi in ytest ])\n",
      "ssres = sum([ (yi - fi)**2 for yi, fi in zip(ytest, predict_y) ])\n",
      "r2 = 1 - ssres / sstot"
     ],
     "language": "python",
     "metadata": {},
     "outputs": [],
     "prompt_number": 9
    },
    {
     "cell_type": "code",
     "collapsed": false,
     "input": [
      "print 'Conclusion: %.2f%% of the variance is explained by the model.' % (r2 * 100)"
     ],
     "language": "python",
     "metadata": {},
     "outputs": [
      {
       "output_type": "stream",
       "stream": "stdout",
       "text": [
        "Conclusion: 85.10% of the variance is explained by the model.\n"
       ]
      }
     ],
     "prompt_number": 10
    }
   ],
   "metadata": {}
  }
 ]
}
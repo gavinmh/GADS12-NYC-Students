{
 "metadata": {
  "name": "",
  "signature": "sha256:18dd840f3dc2f8b7a78786601be43b99caea597a4b7b6c25052413d7e1b66b1f"
 },
 "nbformat": 3,
 "nbformat_minor": 0,
 "worksheets": [
  {
   "cells": [
    {
     "cell_type": "heading",
     "level": 1,
     "metadata": {},
     "source": [
      "Homework 1: Brand Value versus Volume of Social Data"
     ]
    },
    {
     "cell_type": "heading",
     "level": 3,
     "metadata": {},
     "source": [
      "Import necessary Packages"
     ]
    },
    {
     "cell_type": "code",
     "collapsed": false,
     "input": [
      "import numpy\n",
      "import scipy\n",
      "import matplotlib.pyplot as plt"
     ],
     "language": "python",
     "metadata": {},
     "outputs": [],
     "prompt_number": 1
    },
    {
     "cell_type": "heading",
     "level": 3,
     "metadata": {},
     "source": [
      "Data Input (Training Set)"
     ]
    },
    {
     "cell_type": "code",
     "collapsed": false,
     "input": [
      "brandvalues = numpy.array([0.5, 1.5, 2.5, 7.0, 8.0, 10.5])\n",
      "socialvolumes = numpy.array([1.0, 3.0, 5.0, 7.0, 11.5, 35.5])\n",
      "\n",
      "print \"Explanatory Variable is the value of a brand in Millions of USD\"\n",
      "print brandvalues\n",
      "print \"Response Variable is the volume of Tweets about a brand\"\n",
      "print socialvolumes\n",
      "print \"\\n Relationship between two variables is roughly positive and linear,\"\n",
      "print \"\\t where responsibility increases as the explanatory variable increases\""
     ],
     "language": "python",
     "metadata": {},
     "outputs": [
      {
       "output_type": "stream",
       "stream": "stdout",
       "text": [
        "Explanatory Variable is the value of a brand in Millions of USD\n",
        "[  0.5   1.5   2.5   7.    8.   10.5]\n",
        "Response Variable is the volume of Tweets about a brand\n",
        "[  1.    3.    5.    7.   11.5  35.5]\n",
        "\n",
        " Relationship between two variables is roughly positive and linear,\n",
        "\t where responsibility increases as the explanatory variable increases\n"
       ]
      }
     ],
     "prompt_number": 2
    },
    {
     "cell_type": "heading",
     "level": 3,
     "metadata": {},
     "source": [
      "Calculated Intermediary Values for Linear Regression Models (Training Set)"
     ]
    },
    {
     "cell_type": "code",
     "collapsed": false,
     "input": [
      "avgbrandvalues = numpy.average(brandvalues)\n",
      "print \"Xbar is\", avgbrandvalues\n",
      "\n",
      "difbetxandxbar = (brandvalues - avgbrandvalues)\n",
      "difbetxandxbarsq = (brandvalues - avgbrandvalues)**2\n",
      "sumofdifbetxandxbarsq = numpy.sum((brandvalues - avgbrandvalues)**2)\n",
      "print \"Sigma(Xi-Xbar)Squared is\", sumofdifbetxandxbarsq\n",
      "\n",
      "countbrandvalues = len(brandvalues)\n",
      "print \"(n-1) is\",countbrandvalues-1\n",
      "\n",
      "varbrandvalues = numpy.sum(difbetxandxbarsq)/(countbrandvalues-1)\n",
      "print \"var(x) is\", varbrandvalues\n",
      "\n",
      "print \"\\n\"\n",
      "\n",
      "avgsocialvolumes = numpy.average(socialvolumes)\n",
      "difbetyandybar = (socialvolumes-avgsocialvolumes)\n",
      "difbetyandybarsq = numpy.sum((socialvolumes-avgsocialvolumes)**2)\n",
      "covariancenumerator = (difbetxandxbar * difbetyandybar)\n",
      "sumcovariancenumerator = numpy.sum(covariancenumerator)\n",
      "print \"Sigma(Xi-Xbar)(Yi-Ybar)\",sumcovariancenumerator\n",
      "\n",
      "covariancebrandsocial = sumcovariancenumerator/(countbrandvalues-1)\n",
      "print \"cov(x,y) is\", covariancebrandsocial\n",
      "\n",
      "print \"\\n\"\n",
      "\n",
      "beta = covariancebrandsocial/varbrandvalues\n",
      "print \"Beta is\", beta\n",
      "\n",
      "alpha = avgsocialvolumes - (beta*avgbrandvalues)\n",
      "print \"Alpha is\", alpha\n",
      "print \"\\n\""
     ],
     "language": "python",
     "metadata": {},
     "outputs": [
      {
       "output_type": "stream",
       "stream": "stdout",
       "text": [
        "Xbar is 5.0\n",
        "Sigma(Xi-Xbar)Squared is 82.0\n",
        "(n-1) is 5\n",
        "var(x) is 16.4\n",
        "\n",
        "\n",
        "Sigma(Xi-Xbar)(Yi-Ybar) 216.25\n",
        "cov(x,y) is 43.25\n",
        "\n",
        "\n",
        "Beta is 2.63719512195\n",
        "Alpha is -2.68597560976\n",
        "\n",
        "\n"
       ]
      }
     ],
     "prompt_number": 3
    },
    {
     "cell_type": "heading",
     "level": 3,
     "metadata": {},
     "source": [
      "Linear Regression Model (Training Set)"
     ]
    },
    {
     "cell_type": "code",
     "collapsed": false,
     "input": [
      "print \"Model for simple linear regression that explains the relationship between Brand value and respective social volumes are\"\n",
      "print \"y=\",alpha,\"+\",beta,\"x\"\n",
      "print \"\\n\""
     ],
     "language": "python",
     "metadata": {},
     "outputs": [
      {
       "output_type": "stream",
       "stream": "stdout",
       "text": [
        "Model for simple linear regression that explains the relationship between Brand value and respective social volumes are\n",
        "y= -2.68597560976 + 2.63719512195 x\n",
        "\n",
        "\n"
       ]
      }
     ],
     "prompt_number": 4
    },
    {
     "cell_type": "heading",
     "level": 3,
     "metadata": {},
     "source": [
      "Calculated Intermediary Values for RSquared (Training Set)"
     ]
    },
    {
     "cell_type": "code",
     "collapsed": false,
     "input": [
      "fXi = alpha + beta*brandvalues\n",
      "print fXi"
     ],
     "language": "python",
     "metadata": {},
     "outputs": [
      {
       "output_type": "stream",
       "stream": "stdout",
       "text": [
        "[ -1.36737805   1.26981707   3.9070122   15.77439024  18.41158537\n",
        "  25.00457317]\n"
       ]
      }
     ],
     "prompt_number": 5
    },
    {
     "cell_type": "code",
     "collapsed": false,
     "input": [
      "YiminusfXi = socialvolumes - fXi\n",
      "print \"(Yi-f(Xi))Sq is\",YiminusfXi**2"
     ],
     "language": "python",
     "metadata": {},
     "outputs": [
      {
       "output_type": "stream",
       "stream": "stdout",
       "text": [
        "(Yi-f(Xi))Sq is [   5.60447883    2.99353296    1.19462234   76.98992415   47.77001227\n",
        "  110.15398433]\n"
       ]
      }
     ],
     "prompt_number": 6
    },
    {
     "cell_type": "code",
     "collapsed": false,
     "input": [
      "SSres = numpy.sum((YiminusfXi)**2)\n",
      "print \"SSres is\", SSres"
     ],
     "language": "python",
     "metadata": {},
     "outputs": [
      {
       "output_type": "stream",
       "stream": "stdout",
       "text": [
        "SSres is 244.706554878\n"
       ]
      }
     ],
     "prompt_number": 7
    },
    {
     "cell_type": "code",
     "collapsed": false,
     "input": [
      "SStot = numpy.sum((socialvolumes-avgsocialvolumes)**2)\n",
      "print \"SStot is\", SStot"
     ],
     "language": "python",
     "metadata": {},
     "outputs": [
      {
       "output_type": "stream",
       "stream": "stdout",
       "text": [
        "SStot is 815.0\n"
       ]
      }
     ],
     "prompt_number": 8
    },
    {
     "cell_type": "heading",
     "level": 3,
     "metadata": {},
     "source": [
      "R Squared Value (Training Set)"
     ]
    },
    {
     "cell_type": "code",
     "collapsed": false,
     "input": [
      "RSq = 1 - (SSres/SStot)\n",
      "print \"R Squared is\", RSq"
     ],
     "language": "python",
     "metadata": {},
     "outputs": [
      {
       "output_type": "stream",
       "stream": "stdout",
       "text": [
        "R Squared is 0.699746558432\n"
       ]
      }
     ],
     "prompt_number": 9
    },
    {
     "cell_type": "heading",
     "level": 3,
     "metadata": {},
     "source": [
      "Test Sets"
     ]
    },
    {
     "cell_type": "code",
     "collapsed": false,
     "input": [
      "testbrandvalues = numpy.array([3.2, 5.0, 7.0, 8.0, 9.0])\n",
      "\n",
      "print \"Different set of test values is provided with same variable types for explanatory and response.\"\n",
      "print \"Test Explanatory Variable\"\n",
      "print testbrandvalues"
     ],
     "language": "python",
     "metadata": {},
     "outputs": [
      {
       "output_type": "stream",
       "stream": "stdout",
       "text": [
        "Different set of test values is provided with same variable types for explanatory and response.\n",
        "Test Explanatory Variable\n",
        "[ 3.2  5.   7.   8.   9. ]\n"
       ]
      }
     ],
     "prompt_number": 10
    },
    {
     "cell_type": "code",
     "collapsed": false,
     "input": [
      "testsocialvolumes = numpy.array([5.3,7.9,3.4,6.0,10.2])\n",
      "print \"Test Response Variable\"\n",
      "print testsocialvolumes"
     ],
     "language": "python",
     "metadata": {},
     "outputs": [
      {
       "output_type": "stream",
       "stream": "stdout",
       "text": [
        "Test Response Variable\n",
        "[  5.3   7.9   3.4   6.   10.2]\n"
       ]
      }
     ],
     "prompt_number": 11
    },
    {
     "cell_type": "code",
     "collapsed": false,
     "input": [
      "print \"Let's see how well the model from the training set fits the test set\""
     ],
     "language": "python",
     "metadata": {},
     "outputs": [
      {
       "output_type": "stream",
       "stream": "stdout",
       "text": [
        "Let's see how well the model from the training set fits the test set\n"
       ]
      }
     ],
     "prompt_number": 12
    },
    {
     "cell_type": "code",
     "collapsed": false,
     "input": [
      "print \"Model for simple linear regression that explains the relationship between Brand value and respective social volumes are\"\n",
      "print \"y=\",alpha,\"+\",beta,\"x\"\n",
      "print \"\\n\""
     ],
     "language": "python",
     "metadata": {},
     "outputs": [
      {
       "output_type": "stream",
       "stream": "stdout",
       "text": [
        "Model for simple linear regression that explains the relationship between Brand value and respective social volumes are\n",
        "y= -2.68597560976 + 2.63719512195 x\n",
        "\n",
        "\n"
       ]
      }
     ],
     "prompt_number": 13
    },
    {
     "cell_type": "heading",
     "level": 3,
     "metadata": {},
     "source": [
      "RSquared Value for the Test Set"
     ]
    },
    {
     "cell_type": "code",
     "collapsed": false,
     "input": [
      "testavgsocialvolumes = numpy.average(testsocialvolumes)\n",
      "testfXi = alpha + beta*testbrandvalues\n",
      "print testfXi\n",
      "testYiminusfXi = testsocialvolumes - testfXi\n",
      "print \"Test (Yi-f(Xi))Sq is\",testYiminusfXi**2\n",
      "testSSres = numpy.sum((testYiminusfXi)**2)\n",
      "print \"Test SSres is\", testSSres\n",
      "testSStot = numpy.sum((testsocialvolumes-testavgsocialvolumes)**2)\n",
      "print \"Test SStot is\", testSStot"
     ],
     "language": "python",
     "metadata": {},
     "outputs": [
      {
       "output_type": "stream",
       "stream": "stdout",
       "text": [
        "[  5.75304878  10.5         15.77439024  18.41158537  21.04878049]\n",
        "Test (Yi-f(Xi))Sq is [   0.2052532     6.76        153.12553391  154.04745129  117.69603807]\n",
        "Test SSres is 431.834276472\n",
        "Test SStot is 26.932\n"
       ]
      }
     ],
     "prompt_number": 14
    },
    {
     "cell_type": "code",
     "collapsed": false,
     "input": [
      "testRSq = 1 - (testSSres/testSStot)\n",
      "print \"Test R Squared is\", testRSq"
     ],
     "language": "python",
     "metadata": {},
     "outputs": [
      {
       "output_type": "stream",
       "stream": "stdout",
       "text": [
        "Test R Squared is -15.0342446336\n"
       ]
      }
     ],
     "prompt_number": 15
    },
    {
     "cell_type": "code",
     "collapsed": false,
     "input": [
      "plt.plot(brandvalues,socialvolumes)"
     ],
     "language": "python",
     "metadata": {},
     "outputs": [
      {
       "metadata": {},
       "output_type": "pyout",
       "prompt_number": 17,
       "text": [
        "[<matplotlib.lines.Line2D at 0x1089e8e90>]"
       ]
      }
     ],
     "prompt_number": 17
    },
    {
     "cell_type": "code",
     "collapsed": false,
     "input": [],
     "language": "python",
     "metadata": {},
     "outputs": []
    }
   ],
   "metadata": {}
  }
 ]
}